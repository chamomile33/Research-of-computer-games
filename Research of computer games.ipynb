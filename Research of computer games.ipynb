{
 "cells": [
  {
   "cell_type": "markdown",
   "metadata": {},
   "source": [
    "# Исследование компьютерных игр"
   ]
  },
  {
   "cell_type": "markdown",
   "metadata": {},
   "source": [
    "Интернет-магазин «Стримчик» продаёт по всему миру компьютерные игры. Из открытых источников доступны исторические данные о продажах игр, оценки пользователей и экспертов, жанры и платформы (например, Xbox или PlayStation). Перед вами данные до 2016 года. Требуется выявить определяющие успешность игры закономерности. Это позволит сделать ставку на потенциально популярный продукт и спланировать рекламные кампании."
   ]
  },
  {
   "cell_type": "markdown",
   "metadata": {},
   "source": [
    "**Цель исследования**:  выявить определяющие успешность игры закономерности"
   ]
  },
  {
   "cell_type": "markdown",
   "metadata": {},
   "source": [
    "**Ход исследования**\n",
    "\n",
    "1. Предобработка данных\n",
    "2. Исследовательский анализ данных\n",
    "3. Составление портрета каждого региона\n",
    "4. Проверка гипотез"
   ]
  },
  {
   "cell_type": "markdown",
   "metadata": {},
   "source": [
    "### Общая информация"
   ]
  },
  {
   "cell_type": "code",
   "execution_count": 1,
   "metadata": {},
   "outputs": [],
   "source": [
    "import pandas as pd\n",
    "import numpy as np\n",
    "import scipy.stats as st\n",
    "import re\n",
    "from matplotlib import pyplot as plt\n",
    "import seaborn as sns"
   ]
  },
  {
   "cell_type": "code",
   "execution_count": 2,
   "metadata": {},
   "outputs": [],
   "source": [
    "pd.set_option('display.max_rows', 80)"
   ]
  },
  {
   "cell_type": "code",
   "execution_count": 3,
   "metadata": {},
   "outputs": [],
   "source": [
    "data = pd.read_csv('/datasets/games.csv')"
   ]
  },
  {
   "cell_type": "code",
   "execution_count": 4,
   "metadata": {},
   "outputs": [
    {
     "name": "stdout",
     "output_type": "stream",
     "text": [
      "<class 'pandas.core.frame.DataFrame'>\n",
      "RangeIndex: 16715 entries, 0 to 16714\n",
      "Data columns (total 11 columns):\n",
      " #   Column           Non-Null Count  Dtype  \n",
      "---  ------           --------------  -----  \n",
      " 0   Name             16713 non-null  object \n",
      " 1   Platform         16715 non-null  object \n",
      " 2   Year_of_Release  16446 non-null  float64\n",
      " 3   Genre            16713 non-null  object \n",
      " 4   NA_sales         16715 non-null  float64\n",
      " 5   EU_sales         16715 non-null  float64\n",
      " 6   JP_sales         16715 non-null  float64\n",
      " 7   Other_sales      16715 non-null  float64\n",
      " 8   Critic_Score     8137 non-null   float64\n",
      " 9   User_Score       10014 non-null  object \n",
      " 10  Rating           9949 non-null   object \n",
      "dtypes: float64(6), object(5)\n",
      "memory usage: 1.4+ MB\n"
     ]
    }
   ],
   "source": [
    "data.info()"
   ]
  },
  {
   "cell_type": "code",
   "execution_count": 5,
   "metadata": {},
   "outputs": [
    {
     "data": {
      "text/html": [
       "<div>\n",
       "<style scoped>\n",
       "    .dataframe tbody tr th:only-of-type {\n",
       "        vertical-align: middle;\n",
       "    }\n",
       "\n",
       "    .dataframe tbody tr th {\n",
       "        vertical-align: top;\n",
       "    }\n",
       "\n",
       "    .dataframe thead th {\n",
       "        text-align: right;\n",
       "    }\n",
       "</style>\n",
       "<table border=\"1\" class=\"dataframe\">\n",
       "  <thead>\n",
       "    <tr style=\"text-align: right;\">\n",
       "      <th></th>\n",
       "      <th>Name</th>\n",
       "      <th>Platform</th>\n",
       "      <th>Year_of_Release</th>\n",
       "      <th>Genre</th>\n",
       "      <th>NA_sales</th>\n",
       "      <th>EU_sales</th>\n",
       "      <th>JP_sales</th>\n",
       "      <th>Other_sales</th>\n",
       "      <th>Critic_Score</th>\n",
       "      <th>User_Score</th>\n",
       "      <th>Rating</th>\n",
       "    </tr>\n",
       "  </thead>\n",
       "  <tbody>\n",
       "    <tr>\n",
       "      <th>0</th>\n",
       "      <td>Wii Sports</td>\n",
       "      <td>Wii</td>\n",
       "      <td>2006.0</td>\n",
       "      <td>Sports</td>\n",
       "      <td>41.36</td>\n",
       "      <td>28.96</td>\n",
       "      <td>3.77</td>\n",
       "      <td>8.45</td>\n",
       "      <td>76.0</td>\n",
       "      <td>8</td>\n",
       "      <td>E</td>\n",
       "    </tr>\n",
       "    <tr>\n",
       "      <th>1</th>\n",
       "      <td>Super Mario Bros.</td>\n",
       "      <td>NES</td>\n",
       "      <td>1985.0</td>\n",
       "      <td>Platform</td>\n",
       "      <td>29.08</td>\n",
       "      <td>3.58</td>\n",
       "      <td>6.81</td>\n",
       "      <td>0.77</td>\n",
       "      <td>NaN</td>\n",
       "      <td>NaN</td>\n",
       "      <td>NaN</td>\n",
       "    </tr>\n",
       "    <tr>\n",
       "      <th>2</th>\n",
       "      <td>Mario Kart Wii</td>\n",
       "      <td>Wii</td>\n",
       "      <td>2008.0</td>\n",
       "      <td>Racing</td>\n",
       "      <td>15.68</td>\n",
       "      <td>12.76</td>\n",
       "      <td>3.79</td>\n",
       "      <td>3.29</td>\n",
       "      <td>82.0</td>\n",
       "      <td>8.3</td>\n",
       "      <td>E</td>\n",
       "    </tr>\n",
       "    <tr>\n",
       "      <th>3</th>\n",
       "      <td>Wii Sports Resort</td>\n",
       "      <td>Wii</td>\n",
       "      <td>2009.0</td>\n",
       "      <td>Sports</td>\n",
       "      <td>15.61</td>\n",
       "      <td>10.93</td>\n",
       "      <td>3.28</td>\n",
       "      <td>2.95</td>\n",
       "      <td>80.0</td>\n",
       "      <td>8</td>\n",
       "      <td>E</td>\n",
       "    </tr>\n",
       "    <tr>\n",
       "      <th>4</th>\n",
       "      <td>Pokemon Red/Pokemon Blue</td>\n",
       "      <td>GB</td>\n",
       "      <td>1996.0</td>\n",
       "      <td>Role-Playing</td>\n",
       "      <td>11.27</td>\n",
       "      <td>8.89</td>\n",
       "      <td>10.22</td>\n",
       "      <td>1.00</td>\n",
       "      <td>NaN</td>\n",
       "      <td>NaN</td>\n",
       "      <td>NaN</td>\n",
       "    </tr>\n",
       "    <tr>\n",
       "      <th>5</th>\n",
       "      <td>Tetris</td>\n",
       "      <td>GB</td>\n",
       "      <td>1989.0</td>\n",
       "      <td>Puzzle</td>\n",
       "      <td>23.20</td>\n",
       "      <td>2.26</td>\n",
       "      <td>4.22</td>\n",
       "      <td>0.58</td>\n",
       "      <td>NaN</td>\n",
       "      <td>NaN</td>\n",
       "      <td>NaN</td>\n",
       "    </tr>\n",
       "    <tr>\n",
       "      <th>6</th>\n",
       "      <td>New Super Mario Bros.</td>\n",
       "      <td>DS</td>\n",
       "      <td>2006.0</td>\n",
       "      <td>Platform</td>\n",
       "      <td>11.28</td>\n",
       "      <td>9.14</td>\n",
       "      <td>6.50</td>\n",
       "      <td>2.88</td>\n",
       "      <td>89.0</td>\n",
       "      <td>8.5</td>\n",
       "      <td>E</td>\n",
       "    </tr>\n",
       "    <tr>\n",
       "      <th>7</th>\n",
       "      <td>Wii Play</td>\n",
       "      <td>Wii</td>\n",
       "      <td>2006.0</td>\n",
       "      <td>Misc</td>\n",
       "      <td>13.96</td>\n",
       "      <td>9.18</td>\n",
       "      <td>2.93</td>\n",
       "      <td>2.84</td>\n",
       "      <td>58.0</td>\n",
       "      <td>6.6</td>\n",
       "      <td>E</td>\n",
       "    </tr>\n",
       "    <tr>\n",
       "      <th>8</th>\n",
       "      <td>New Super Mario Bros. Wii</td>\n",
       "      <td>Wii</td>\n",
       "      <td>2009.0</td>\n",
       "      <td>Platform</td>\n",
       "      <td>14.44</td>\n",
       "      <td>6.94</td>\n",
       "      <td>4.70</td>\n",
       "      <td>2.24</td>\n",
       "      <td>87.0</td>\n",
       "      <td>8.4</td>\n",
       "      <td>E</td>\n",
       "    </tr>\n",
       "    <tr>\n",
       "      <th>9</th>\n",
       "      <td>Duck Hunt</td>\n",
       "      <td>NES</td>\n",
       "      <td>1984.0</td>\n",
       "      <td>Shooter</td>\n",
       "      <td>26.93</td>\n",
       "      <td>0.63</td>\n",
       "      <td>0.28</td>\n",
       "      <td>0.47</td>\n",
       "      <td>NaN</td>\n",
       "      <td>NaN</td>\n",
       "      <td>NaN</td>\n",
       "    </tr>\n",
       "  </tbody>\n",
       "</table>\n",
       "</div>"
      ],
      "text/plain": [
       "                        Name Platform  Year_of_Release         Genre  \\\n",
       "0                 Wii Sports      Wii           2006.0        Sports   \n",
       "1          Super Mario Bros.      NES           1985.0      Platform   \n",
       "2             Mario Kart Wii      Wii           2008.0        Racing   \n",
       "3          Wii Sports Resort      Wii           2009.0        Sports   \n",
       "4   Pokemon Red/Pokemon Blue       GB           1996.0  Role-Playing   \n",
       "5                     Tetris       GB           1989.0        Puzzle   \n",
       "6      New Super Mario Bros.       DS           2006.0      Platform   \n",
       "7                   Wii Play      Wii           2006.0          Misc   \n",
       "8  New Super Mario Bros. Wii      Wii           2009.0      Platform   \n",
       "9                  Duck Hunt      NES           1984.0       Shooter   \n",
       "\n",
       "   NA_sales  EU_sales  JP_sales  Other_sales  Critic_Score User_Score Rating  \n",
       "0     41.36     28.96      3.77         8.45          76.0          8      E  \n",
       "1     29.08      3.58      6.81         0.77           NaN        NaN    NaN  \n",
       "2     15.68     12.76      3.79         3.29          82.0        8.3      E  \n",
       "3     15.61     10.93      3.28         2.95          80.0          8      E  \n",
       "4     11.27      8.89     10.22         1.00           NaN        NaN    NaN  \n",
       "5     23.20      2.26      4.22         0.58           NaN        NaN    NaN  \n",
       "6     11.28      9.14      6.50         2.88          89.0        8.5      E  \n",
       "7     13.96      9.18      2.93         2.84          58.0        6.6      E  \n",
       "8     14.44      6.94      4.70         2.24          87.0        8.4      E  \n",
       "9     26.93      0.63      0.28         0.47           NaN        NaN    NaN  "
      ]
     },
     "execution_count": 5,
     "metadata": {},
     "output_type": "execute_result"
    }
   ],
   "source": [
    "data.head(10)"
   ]
  },
  {
   "cell_type": "markdown",
   "metadata": {},
   "source": [
    "### Предобработка данных"
   ]
  },
  {
   "cell_type": "markdown",
   "metadata": {},
   "source": [
    "Для удобства дальнейшей работы приведем названия столбцов к нижнему регистру"
   ]
  },
  {
   "cell_type": "code",
   "execution_count": 6,
   "metadata": {},
   "outputs": [
    {
     "data": {
      "text/plain": [
       "Index(['name', 'platform', 'year_of_release', 'genre', 'na_sales', 'eu_sales',\n",
       "       'jp_sales', 'other_sales', 'critic_score', 'user_score', 'rating'],\n",
       "      dtype='object')"
      ]
     },
     "execution_count": 6,
     "metadata": {},
     "output_type": "execute_result"
    }
   ],
   "source": [
    "data.columns = data.columns.str.lower()\n",
    "data.columns"
   ]
  },
  {
   "cell_type": "markdown",
   "metadata": {},
   "source": [
    "Разберемся с пропусками"
   ]
  },
  {
   "cell_type": "code",
   "execution_count": 7,
   "metadata": {},
   "outputs": [
    {
     "data": {
      "text/plain": [
       "name                  2\n",
       "platform              0\n",
       "year_of_release     269\n",
       "genre                 2\n",
       "na_sales              0\n",
       "eu_sales              0\n",
       "jp_sales              0\n",
       "other_sales           0\n",
       "critic_score       8578\n",
       "user_score         6701\n",
       "rating             6766\n",
       "dtype: int64"
      ]
     },
     "execution_count": 7,
     "metadata": {},
     "output_type": "execute_result"
    }
   ],
   "source": [
    "data.isna().sum()"
   ]
  },
  {
   "cell_type": "code",
   "execution_count": 8,
   "metadata": {},
   "outputs": [
    {
     "data": {
      "text/html": [
       "<style  type=\"text/css\" >\n",
       "#T_14ffd_row0_col0{\n",
       "            background-color:  #b40426;\n",
       "            color:  #f1f1f1;\n",
       "        }#T_14ffd_row1_col0{\n",
       "            background-color:  #f08a6c;\n",
       "            color:  #000000;\n",
       "        }#T_14ffd_row2_col0{\n",
       "            background-color:  #f18d6f;\n",
       "            color:  #000000;\n",
       "        }#T_14ffd_row3_col0{\n",
       "            background-color:  #445acc;\n",
       "            color:  #f1f1f1;\n",
       "        }#T_14ffd_row4_col0,#T_14ffd_row5_col0,#T_14ffd_row6_col0,#T_14ffd_row7_col0,#T_14ffd_row8_col0,#T_14ffd_row9_col0,#T_14ffd_row10_col0{\n",
       "            background-color:  #3b4cc0;\n",
       "            color:  #f1f1f1;\n",
       "        }</style><table id=\"T_14ffd_\" ><thead>    <tr>        <th class=\"blank level0\" ></th>        <th class=\"col_heading level0 col0\" >percent_space</th>    </tr></thead><tbody>\n",
       "                <tr>\n",
       "                        <th id=\"T_14ffd_level0_row0\" class=\"row_heading level0 row0\" >critic_score</th>\n",
       "                        <td id=\"T_14ffd_row0_col0\" class=\"data row0 col0\" >51.3</td>\n",
       "            </tr>\n",
       "            <tr>\n",
       "                        <th id=\"T_14ffd_level0_row1\" class=\"row_heading level0 row1\" >rating</th>\n",
       "                        <td id=\"T_14ffd_row1_col0\" class=\"data row1 col0\" >40.5</td>\n",
       "            </tr>\n",
       "            <tr>\n",
       "                        <th id=\"T_14ffd_level0_row2\" class=\"row_heading level0 row2\" >user_score</th>\n",
       "                        <td id=\"T_14ffd_row2_col0\" class=\"data row2 col0\" >40.1</td>\n",
       "            </tr>\n",
       "            <tr>\n",
       "                        <th id=\"T_14ffd_level0_row3\" class=\"row_heading level0 row3\" >year_of_release</th>\n",
       "                        <td id=\"T_14ffd_row3_col0\" class=\"data row3 col0\" >1.6</td>\n",
       "            </tr>\n",
       "            <tr>\n",
       "                        <th id=\"T_14ffd_level0_row4\" class=\"row_heading level0 row4\" >name</th>\n",
       "                        <td id=\"T_14ffd_row4_col0\" class=\"data row4 col0\" >0.0</td>\n",
       "            </tr>\n",
       "            <tr>\n",
       "                        <th id=\"T_14ffd_level0_row5\" class=\"row_heading level0 row5\" >genre</th>\n",
       "                        <td id=\"T_14ffd_row5_col0\" class=\"data row5 col0\" >0.0</td>\n",
       "            </tr>\n",
       "            <tr>\n",
       "                        <th id=\"T_14ffd_level0_row6\" class=\"row_heading level0 row6\" >platform</th>\n",
       "                        <td id=\"T_14ffd_row6_col0\" class=\"data row6 col0\" >0.0</td>\n",
       "            </tr>\n",
       "            <tr>\n",
       "                        <th id=\"T_14ffd_level0_row7\" class=\"row_heading level0 row7\" >na_sales</th>\n",
       "                        <td id=\"T_14ffd_row7_col0\" class=\"data row7 col0\" >0.0</td>\n",
       "            </tr>\n",
       "            <tr>\n",
       "                        <th id=\"T_14ffd_level0_row8\" class=\"row_heading level0 row8\" >eu_sales</th>\n",
       "                        <td id=\"T_14ffd_row8_col0\" class=\"data row8 col0\" >0.0</td>\n",
       "            </tr>\n",
       "            <tr>\n",
       "                        <th id=\"T_14ffd_level0_row9\" class=\"row_heading level0 row9\" >jp_sales</th>\n",
       "                        <td id=\"T_14ffd_row9_col0\" class=\"data row9 col0\" >0.0</td>\n",
       "            </tr>\n",
       "            <tr>\n",
       "                        <th id=\"T_14ffd_level0_row10\" class=\"row_heading level0 row10\" >other_sales</th>\n",
       "                        <td id=\"T_14ffd_row10_col0\" class=\"data row10 col0\" >0.0</td>\n",
       "            </tr>\n",
       "    </tbody></table>"
      ],
      "text/plain": [
       "<pandas.io.formats.style.Styler at 0x7ff45e063b80>"
      ]
     },
     "execution_count": 8,
     "metadata": {},
     "output_type": "execute_result"
    }
   ],
   "source": [
    "(\n",
    "    (data.isna().mean()*100)\n",
    "    .sort_values(ascending=False)\n",
    "    .to_frame()\n",
    "    .rename(columns = {0:'percent_space'})\n",
    "    .style.background_gradient('coolwarm').format(\"{:.1f}\")\n",
    ")"
   ]
  },
  {
   "cell_type": "markdown",
   "metadata": {},
   "source": [
    "Как мы видим, больше всего пропусков в столбцах с рейтингом и оценкой"
   ]
  },
  {
   "cell_type": "markdown",
   "metadata": {},
   "source": [
    "Рассмотрим пропуски в столбце `year_of_release`"
   ]
  },
  {
   "cell_type": "code",
   "execution_count": 9,
   "metadata": {},
   "outputs": [
    {
     "data": {
      "text/html": [
       "<div>\n",
       "<style scoped>\n",
       "    .dataframe tbody tr th:only-of-type {\n",
       "        vertical-align: middle;\n",
       "    }\n",
       "\n",
       "    .dataframe tbody tr th {\n",
       "        vertical-align: top;\n",
       "    }\n",
       "\n",
       "    .dataframe thead th {\n",
       "        text-align: right;\n",
       "    }\n",
       "</style>\n",
       "<table border=\"1\" class=\"dataframe\">\n",
       "  <thead>\n",
       "    <tr style=\"text-align: right;\">\n",
       "      <th></th>\n",
       "      <th>name</th>\n",
       "      <th>platform</th>\n",
       "      <th>year_of_release</th>\n",
       "      <th>genre</th>\n",
       "      <th>na_sales</th>\n",
       "      <th>eu_sales</th>\n",
       "      <th>jp_sales</th>\n",
       "      <th>other_sales</th>\n",
       "      <th>critic_score</th>\n",
       "      <th>user_score</th>\n",
       "      <th>rating</th>\n",
       "    </tr>\n",
       "  </thead>\n",
       "  <tbody>\n",
       "    <tr>\n",
       "      <th>183</th>\n",
       "      <td>Madden NFL 2004</td>\n",
       "      <td>PS2</td>\n",
       "      <td>NaN</td>\n",
       "      <td>Sports</td>\n",
       "      <td>4.26</td>\n",
       "      <td>0.26</td>\n",
       "      <td>0.01</td>\n",
       "      <td>0.71</td>\n",
       "      <td>94.0</td>\n",
       "      <td>8.5</td>\n",
       "      <td>E</td>\n",
       "    </tr>\n",
       "    <tr>\n",
       "      <th>377</th>\n",
       "      <td>FIFA Soccer 2004</td>\n",
       "      <td>PS2</td>\n",
       "      <td>NaN</td>\n",
       "      <td>Sports</td>\n",
       "      <td>0.59</td>\n",
       "      <td>2.36</td>\n",
       "      <td>0.04</td>\n",
       "      <td>0.51</td>\n",
       "      <td>84.0</td>\n",
       "      <td>6.4</td>\n",
       "      <td>E</td>\n",
       "    </tr>\n",
       "    <tr>\n",
       "      <th>456</th>\n",
       "      <td>LEGO Batman: The Videogame</td>\n",
       "      <td>Wii</td>\n",
       "      <td>NaN</td>\n",
       "      <td>Action</td>\n",
       "      <td>1.80</td>\n",
       "      <td>0.97</td>\n",
       "      <td>0.00</td>\n",
       "      <td>0.29</td>\n",
       "      <td>74.0</td>\n",
       "      <td>7.9</td>\n",
       "      <td>E10+</td>\n",
       "    </tr>\n",
       "    <tr>\n",
       "      <th>475</th>\n",
       "      <td>wwe Smackdown vs. Raw 2006</td>\n",
       "      <td>PS2</td>\n",
       "      <td>NaN</td>\n",
       "      <td>Fighting</td>\n",
       "      <td>1.57</td>\n",
       "      <td>1.02</td>\n",
       "      <td>0.00</td>\n",
       "      <td>0.41</td>\n",
       "      <td>NaN</td>\n",
       "      <td>NaN</td>\n",
       "      <td>NaN</td>\n",
       "    </tr>\n",
       "    <tr>\n",
       "      <th>609</th>\n",
       "      <td>Space Invaders</td>\n",
       "      <td>2600</td>\n",
       "      <td>NaN</td>\n",
       "      <td>Shooter</td>\n",
       "      <td>2.36</td>\n",
       "      <td>0.14</td>\n",
       "      <td>0.00</td>\n",
       "      <td>0.03</td>\n",
       "      <td>NaN</td>\n",
       "      <td>NaN</td>\n",
       "      <td>NaN</td>\n",
       "    </tr>\n",
       "    <tr>\n",
       "      <th>...</th>\n",
       "      <td>...</td>\n",
       "      <td>...</td>\n",
       "      <td>...</td>\n",
       "      <td>...</td>\n",
       "      <td>...</td>\n",
       "      <td>...</td>\n",
       "      <td>...</td>\n",
       "      <td>...</td>\n",
       "      <td>...</td>\n",
       "      <td>...</td>\n",
       "      <td>...</td>\n",
       "    </tr>\n",
       "    <tr>\n",
       "      <th>16373</th>\n",
       "      <td>PDC World Championship Darts 2008</td>\n",
       "      <td>PSP</td>\n",
       "      <td>NaN</td>\n",
       "      <td>Sports</td>\n",
       "      <td>0.01</td>\n",
       "      <td>0.00</td>\n",
       "      <td>0.00</td>\n",
       "      <td>0.00</td>\n",
       "      <td>43.0</td>\n",
       "      <td>tbd</td>\n",
       "      <td>E10+</td>\n",
       "    </tr>\n",
       "    <tr>\n",
       "      <th>16405</th>\n",
       "      <td>Freaky Flyers</td>\n",
       "      <td>GC</td>\n",
       "      <td>NaN</td>\n",
       "      <td>Racing</td>\n",
       "      <td>0.01</td>\n",
       "      <td>0.00</td>\n",
       "      <td>0.00</td>\n",
       "      <td>0.00</td>\n",
       "      <td>69.0</td>\n",
       "      <td>6.5</td>\n",
       "      <td>T</td>\n",
       "    </tr>\n",
       "    <tr>\n",
       "      <th>16448</th>\n",
       "      <td>Inversion</td>\n",
       "      <td>PC</td>\n",
       "      <td>NaN</td>\n",
       "      <td>Shooter</td>\n",
       "      <td>0.01</td>\n",
       "      <td>0.00</td>\n",
       "      <td>0.00</td>\n",
       "      <td>0.00</td>\n",
       "      <td>59.0</td>\n",
       "      <td>6.7</td>\n",
       "      <td>M</td>\n",
       "    </tr>\n",
       "    <tr>\n",
       "      <th>16458</th>\n",
       "      <td>Hakuouki: Shinsengumi Kitan</td>\n",
       "      <td>PS3</td>\n",
       "      <td>NaN</td>\n",
       "      <td>Adventure</td>\n",
       "      <td>0.01</td>\n",
       "      <td>0.00</td>\n",
       "      <td>0.00</td>\n",
       "      <td>0.00</td>\n",
       "      <td>NaN</td>\n",
       "      <td>NaN</td>\n",
       "      <td>NaN</td>\n",
       "    </tr>\n",
       "    <tr>\n",
       "      <th>16522</th>\n",
       "      <td>Virtua Quest</td>\n",
       "      <td>GC</td>\n",
       "      <td>NaN</td>\n",
       "      <td>Role-Playing</td>\n",
       "      <td>0.01</td>\n",
       "      <td>0.00</td>\n",
       "      <td>0.00</td>\n",
       "      <td>0.00</td>\n",
       "      <td>55.0</td>\n",
       "      <td>5.5</td>\n",
       "      <td>T</td>\n",
       "    </tr>\n",
       "  </tbody>\n",
       "</table>\n",
       "<p>269 rows × 11 columns</p>\n",
       "</div>"
      ],
      "text/plain": [
       "                                    name platform  year_of_release  \\\n",
       "183                      Madden NFL 2004      PS2              NaN   \n",
       "377                     FIFA Soccer 2004      PS2              NaN   \n",
       "456           LEGO Batman: The Videogame      Wii              NaN   \n",
       "475           wwe Smackdown vs. Raw 2006      PS2              NaN   \n",
       "609                       Space Invaders     2600              NaN   \n",
       "...                                  ...      ...              ...   \n",
       "16373  PDC World Championship Darts 2008      PSP              NaN   \n",
       "16405                      Freaky Flyers       GC              NaN   \n",
       "16448                          Inversion       PC              NaN   \n",
       "16458        Hakuouki: Shinsengumi Kitan      PS3              NaN   \n",
       "16522                       Virtua Quest       GC              NaN   \n",
       "\n",
       "              genre  na_sales  eu_sales  jp_sales  other_sales  critic_score  \\\n",
       "183          Sports      4.26      0.26      0.01         0.71          94.0   \n",
       "377          Sports      0.59      2.36      0.04         0.51          84.0   \n",
       "456          Action      1.80      0.97      0.00         0.29          74.0   \n",
       "475        Fighting      1.57      1.02      0.00         0.41           NaN   \n",
       "609         Shooter      2.36      0.14      0.00         0.03           NaN   \n",
       "...             ...       ...       ...       ...          ...           ...   \n",
       "16373        Sports      0.01      0.00      0.00         0.00          43.0   \n",
       "16405        Racing      0.01      0.00      0.00         0.00          69.0   \n",
       "16448       Shooter      0.01      0.00      0.00         0.00          59.0   \n",
       "16458     Adventure      0.01      0.00      0.00         0.00           NaN   \n",
       "16522  Role-Playing      0.01      0.00      0.00         0.00          55.0   \n",
       "\n",
       "      user_score rating  \n",
       "183          8.5      E  \n",
       "377          6.4      E  \n",
       "456          7.9   E10+  \n",
       "475          NaN    NaN  \n",
       "609          NaN    NaN  \n",
       "...          ...    ...  \n",
       "16373        tbd   E10+  \n",
       "16405        6.5      T  \n",
       "16448        6.7      M  \n",
       "16458        NaN    NaN  \n",
       "16522        5.5      T  \n",
       "\n",
       "[269 rows x 11 columns]"
      ]
     },
     "execution_count": 9,
     "metadata": {},
     "output_type": "execute_result"
    }
   ],
   "source": [
    "data_year_missed = data[data['year_of_release'].isna()]\n",
    "data_year_missed"
   ]
  },
  {
   "cell_type": "markdown",
   "metadata": {},
   "source": [
    "Посмотрим на платформы тех игр, у которых отсутствует год выпуска"
   ]
  },
  {
   "cell_type": "code",
   "execution_count": 10,
   "metadata": {},
   "outputs": [
    {
     "data": {
      "text/plain": [
       "array(['PS2', 'Wii', '2600', 'X360', 'GBA', 'PC', 'PS3', 'PS', 'PSP',\n",
       "       'XB', 'GB', 'DS', 'GC', '3DS', 'N64', 'PSV'], dtype=object)"
      ]
     },
     "execution_count": 10,
     "metadata": {},
     "output_type": "execute_result"
    }
   ],
   "source": [
    "data_year_missed['platform'].unique()"
   ]
  },
  {
   "cell_type": "markdown",
   "metadata": {},
   "source": [
    "Как мы видим, большинство платформ - это платформы, у которых поддержка прекращена до 2016 года (кроме PC,3DS,PSV), следовательно, эти платформы уже неактуальны, и данные по ним можно не рассматривать, так как они не помогут спрогнозировать продажи на 2017 год"
   ]
  },
  {
   "cell_type": "code",
   "execution_count": 11,
   "metadata": {},
   "outputs": [
    {
     "data": {
      "text/plain": [
       "array(['PC', '3DS', 'PSV'], dtype=object)"
      ]
     },
     "execution_count": 11,
     "metadata": {},
     "output_type": "execute_result"
    }
   ],
   "source": [
    "list_of_useless_platforms = np.setdiff1d(data_year_missed['platform'].unique(), ['PC','3DS','PSV'])\n",
    "data = data.loc[((~data['platform'].isin(list_of_useless_platforms)) & (data['year_of_release'].isna())) | (~data['year_of_release'].isna())]\n",
    "data[data['year_of_release'].isna()]['platform'].unique()"
   ]
  },
  {
   "cell_type": "markdown",
   "metadata": {},
   "source": [
    "Теперь посмотрим на оставшиеся пропуски в столбце года выпуска"
   ]
  },
  {
   "cell_type": "code",
   "execution_count": 12,
   "metadata": {},
   "outputs": [
    {
     "name": "stdout",
     "output_type": "stream",
     "text": [
      "Количество пропусков в столбце года выпуска =  26\n"
     ]
    }
   ],
   "source": [
    "print('Количество пропусков в столбце года выпуска = ', len(data[data['year_of_release'].isna()]))"
   ]
  },
  {
   "cell_type": "markdown",
   "metadata": {},
   "source": [
    "Посмотрим на пропуски в столбце `critic_score`"
   ]
  },
  {
   "cell_type": "code",
   "execution_count": 13,
   "metadata": {},
   "outputs": [
    {
     "data": {
      "text/html": [
       "<div>\n",
       "<style scoped>\n",
       "    .dataframe tbody tr th:only-of-type {\n",
       "        vertical-align: middle;\n",
       "    }\n",
       "\n",
       "    .dataframe tbody tr th {\n",
       "        vertical-align: top;\n",
       "    }\n",
       "\n",
       "    .dataframe thead th {\n",
       "        text-align: right;\n",
       "    }\n",
       "</style>\n",
       "<table border=\"1\" class=\"dataframe\">\n",
       "  <thead>\n",
       "    <tr style=\"text-align: right;\">\n",
       "      <th></th>\n",
       "      <th>name</th>\n",
       "      <th>platform</th>\n",
       "      <th>year_of_release</th>\n",
       "      <th>genre</th>\n",
       "      <th>na_sales</th>\n",
       "      <th>eu_sales</th>\n",
       "      <th>jp_sales</th>\n",
       "      <th>other_sales</th>\n",
       "      <th>critic_score</th>\n",
       "      <th>user_score</th>\n",
       "      <th>rating</th>\n",
       "    </tr>\n",
       "  </thead>\n",
       "  <tbody>\n",
       "    <tr>\n",
       "      <th>1</th>\n",
       "      <td>Super Mario Bros.</td>\n",
       "      <td>NES</td>\n",
       "      <td>1985.0</td>\n",
       "      <td>Platform</td>\n",
       "      <td>29.08</td>\n",
       "      <td>3.58</td>\n",
       "      <td>6.81</td>\n",
       "      <td>0.77</td>\n",
       "      <td>NaN</td>\n",
       "      <td>NaN</td>\n",
       "      <td>NaN</td>\n",
       "    </tr>\n",
       "    <tr>\n",
       "      <th>4</th>\n",
       "      <td>Pokemon Red/Pokemon Blue</td>\n",
       "      <td>GB</td>\n",
       "      <td>1996.0</td>\n",
       "      <td>Role-Playing</td>\n",
       "      <td>11.27</td>\n",
       "      <td>8.89</td>\n",
       "      <td>10.22</td>\n",
       "      <td>1.00</td>\n",
       "      <td>NaN</td>\n",
       "      <td>NaN</td>\n",
       "      <td>NaN</td>\n",
       "    </tr>\n",
       "    <tr>\n",
       "      <th>5</th>\n",
       "      <td>Tetris</td>\n",
       "      <td>GB</td>\n",
       "      <td>1989.0</td>\n",
       "      <td>Puzzle</td>\n",
       "      <td>23.20</td>\n",
       "      <td>2.26</td>\n",
       "      <td>4.22</td>\n",
       "      <td>0.58</td>\n",
       "      <td>NaN</td>\n",
       "      <td>NaN</td>\n",
       "      <td>NaN</td>\n",
       "    </tr>\n",
       "    <tr>\n",
       "      <th>9</th>\n",
       "      <td>Duck Hunt</td>\n",
       "      <td>NES</td>\n",
       "      <td>1984.0</td>\n",
       "      <td>Shooter</td>\n",
       "      <td>26.93</td>\n",
       "      <td>0.63</td>\n",
       "      <td>0.28</td>\n",
       "      <td>0.47</td>\n",
       "      <td>NaN</td>\n",
       "      <td>NaN</td>\n",
       "      <td>NaN</td>\n",
       "    </tr>\n",
       "    <tr>\n",
       "      <th>10</th>\n",
       "      <td>Nintendogs</td>\n",
       "      <td>DS</td>\n",
       "      <td>2005.0</td>\n",
       "      <td>Simulation</td>\n",
       "      <td>9.05</td>\n",
       "      <td>10.95</td>\n",
       "      <td>1.93</td>\n",
       "      <td>2.74</td>\n",
       "      <td>NaN</td>\n",
       "      <td>NaN</td>\n",
       "      <td>NaN</td>\n",
       "    </tr>\n",
       "    <tr>\n",
       "      <th>...</th>\n",
       "      <td>...</td>\n",
       "      <td>...</td>\n",
       "      <td>...</td>\n",
       "      <td>...</td>\n",
       "      <td>...</td>\n",
       "      <td>...</td>\n",
       "      <td>...</td>\n",
       "      <td>...</td>\n",
       "      <td>...</td>\n",
       "      <td>...</td>\n",
       "      <td>...</td>\n",
       "    </tr>\n",
       "    <tr>\n",
       "      <th>16710</th>\n",
       "      <td>Samurai Warriors: Sanada Maru</td>\n",
       "      <td>PS3</td>\n",
       "      <td>2016.0</td>\n",
       "      <td>Action</td>\n",
       "      <td>0.00</td>\n",
       "      <td>0.00</td>\n",
       "      <td>0.01</td>\n",
       "      <td>0.00</td>\n",
       "      <td>NaN</td>\n",
       "      <td>NaN</td>\n",
       "      <td>NaN</td>\n",
       "    </tr>\n",
       "    <tr>\n",
       "      <th>16711</th>\n",
       "      <td>LMA Manager 2007</td>\n",
       "      <td>X360</td>\n",
       "      <td>2006.0</td>\n",
       "      <td>Sports</td>\n",
       "      <td>0.00</td>\n",
       "      <td>0.01</td>\n",
       "      <td>0.00</td>\n",
       "      <td>0.00</td>\n",
       "      <td>NaN</td>\n",
       "      <td>NaN</td>\n",
       "      <td>NaN</td>\n",
       "    </tr>\n",
       "    <tr>\n",
       "      <th>16712</th>\n",
       "      <td>Haitaka no Psychedelica</td>\n",
       "      <td>PSV</td>\n",
       "      <td>2016.0</td>\n",
       "      <td>Adventure</td>\n",
       "      <td>0.00</td>\n",
       "      <td>0.00</td>\n",
       "      <td>0.01</td>\n",
       "      <td>0.00</td>\n",
       "      <td>NaN</td>\n",
       "      <td>NaN</td>\n",
       "      <td>NaN</td>\n",
       "    </tr>\n",
       "    <tr>\n",
       "      <th>16713</th>\n",
       "      <td>Spirits &amp; Spells</td>\n",
       "      <td>GBA</td>\n",
       "      <td>2003.0</td>\n",
       "      <td>Platform</td>\n",
       "      <td>0.01</td>\n",
       "      <td>0.00</td>\n",
       "      <td>0.00</td>\n",
       "      <td>0.00</td>\n",
       "      <td>NaN</td>\n",
       "      <td>NaN</td>\n",
       "      <td>NaN</td>\n",
       "    </tr>\n",
       "    <tr>\n",
       "      <th>16714</th>\n",
       "      <td>Winning Post 8 2016</td>\n",
       "      <td>PSV</td>\n",
       "      <td>2016.0</td>\n",
       "      <td>Simulation</td>\n",
       "      <td>0.00</td>\n",
       "      <td>0.00</td>\n",
       "      <td>0.01</td>\n",
       "      <td>0.00</td>\n",
       "      <td>NaN</td>\n",
       "      <td>NaN</td>\n",
       "      <td>NaN</td>\n",
       "    </tr>\n",
       "  </tbody>\n",
       "</table>\n",
       "<p>8470 rows × 11 columns</p>\n",
       "</div>"
      ],
      "text/plain": [
       "                                name platform  year_of_release         genre  \\\n",
       "1                  Super Mario Bros.      NES           1985.0      Platform   \n",
       "4           Pokemon Red/Pokemon Blue       GB           1996.0  Role-Playing   \n",
       "5                             Tetris       GB           1989.0        Puzzle   \n",
       "9                          Duck Hunt      NES           1984.0       Shooter   \n",
       "10                        Nintendogs       DS           2005.0    Simulation   \n",
       "...                              ...      ...              ...           ...   \n",
       "16710  Samurai Warriors: Sanada Maru      PS3           2016.0        Action   \n",
       "16711               LMA Manager 2007     X360           2006.0        Sports   \n",
       "16712        Haitaka no Psychedelica      PSV           2016.0     Adventure   \n",
       "16713               Spirits & Spells      GBA           2003.0      Platform   \n",
       "16714            Winning Post 8 2016      PSV           2016.0    Simulation   \n",
       "\n",
       "       na_sales  eu_sales  jp_sales  other_sales  critic_score user_score  \\\n",
       "1         29.08      3.58      6.81         0.77           NaN        NaN   \n",
       "4         11.27      8.89     10.22         1.00           NaN        NaN   \n",
       "5         23.20      2.26      4.22         0.58           NaN        NaN   \n",
       "9         26.93      0.63      0.28         0.47           NaN        NaN   \n",
       "10         9.05     10.95      1.93         2.74           NaN        NaN   \n",
       "...         ...       ...       ...          ...           ...        ...   \n",
       "16710      0.00      0.00      0.01         0.00           NaN        NaN   \n",
       "16711      0.00      0.01      0.00         0.00           NaN        NaN   \n",
       "16712      0.00      0.00      0.01         0.00           NaN        NaN   \n",
       "16713      0.01      0.00      0.00         0.00           NaN        NaN   \n",
       "16714      0.00      0.00      0.01         0.00           NaN        NaN   \n",
       "\n",
       "      rating  \n",
       "1        NaN  \n",
       "4        NaN  \n",
       "5        NaN  \n",
       "9        NaN  \n",
       "10       NaN  \n",
       "...      ...  \n",
       "16710    NaN  \n",
       "16711    NaN  \n",
       "16712    NaN  \n",
       "16713    NaN  \n",
       "16714    NaN  \n",
       "\n",
       "[8470 rows x 11 columns]"
      ]
     },
     "execution_count": 13,
     "metadata": {},
     "output_type": "execute_result"
    }
   ],
   "source": [
    "data_critic_missed = data[data['critic_score'].isna()]\n",
    "data_critic_missed"
   ]
  },
  {
   "cell_type": "markdown",
   "metadata": {},
   "source": [
    "Проверим у скольки игр отсутствуют все данные об оценках"
   ]
  },
  {
   "cell_type": "code",
   "execution_count": 14,
   "metadata": {},
   "outputs": [
    {
     "name": "stdout",
     "output_type": "stream",
     "text": [
      "Количество игр, у которых пропущены и оценки от критиков, и от пользователей =  6578\n",
      "Количество игр, у которых пропущена оценка от пользователей 6612\n",
      "Количество игр, у которых пропущена оценка от критиков 8470\n"
     ]
    }
   ],
   "source": [
    "print('Количество игр, у которых пропущены и оценки от критиков, и от пользователей = ', data.loc[data['critic_score'].isna() & data['user_score'].isna()].shape[0])\n",
    "print('Количество игр, у которых пропущена оценка от пользователей', data[data['user_score'].isna()].shape[0])\n",
    "print('Количество игр, у которых пропущена оценка от критиков', data[data['critic_score'].isna()].shape[0])"
   ]
  },
  {
   "cell_type": "code",
   "execution_count": 15,
   "metadata": {},
   "outputs": [
    {
     "data": {
      "text/plain": [
       "<AxesSubplot:>"
      ]
     },
     "execution_count": 15,
     "metadata": {},
     "output_type": "execute_result"
    },
    {
     "data": {
      "image/png": "[encoded data removed]",
      "text/plain": [
       "<Figure size 720x720 with 1 Axes>"
      ]
     },
     "metadata": {
      "needs_background": "light"
     },
     "output_type": "display_data"
    }
   ],
   "source": [
    "(data_critic_missed['na_sales'] + data_critic_missed['jp_sales'] + data_critic_missed['eu_sales'] + data_critic_missed['other_sales']).hist(bins = 70, figsize = (10,10),range = (0,5))"
   ]
  },
  {
   "cell_type": "code",
   "execution_count": 16,
   "metadata": {},
   "outputs": [],
   "source": [
    "data_critic_not_user_missed = data.loc[(data['critic_score'].isna()) & (~ data['user_score'].isna())]"
   ]
  },
  {
   "cell_type": "code",
   "execution_count": 17,
   "metadata": {},
   "outputs": [
    {
     "name": "stdout",
     "output_type": "stream",
     "text": [
      "Количество пропусков в оценке от критиков у игр, у которых присутствует оценка от пользователей 1892\n"
     ]
    },
    {
     "data": {
      "text/plain": [
       "tbd    1322\n",
       "7.8      26\n",
       "8        23\n",
       "7        23\n",
       "7.6      19\n",
       "       ... \n",
       "2.7       1\n",
       "2.4       1\n",
       "1.2       1\n",
       "1.7       1\n",
       "9.3       1\n",
       "Name: user_score, Length: 85, dtype: int64"
      ]
     },
     "execution_count": 17,
     "metadata": {},
     "output_type": "execute_result"
    }
   ],
   "source": [
    "print('Количество пропусков в оценке от критиков у игр, у которых присутствует оценка от пользователей', data_critic_not_user_missed.shape[0])\n",
    "data_critic_not_user_missed['user_score'].value_counts()"
   ]
  },
  {
   "cell_type": "code",
   "execution_count": 18,
   "metadata": {},
   "outputs": [
    {
     "data": {
      "text/plain": [
       "<AxesSubplot:>"
      ]
     },
     "execution_count": 18,
     "metadata": {},
     "output_type": "execute_result"
    },
    {
     "data": {
      "image/png": "[encoded data removed]",
      "text/plain": [
       "<Figure size 720x720 with 1 Axes>"
      ]
     },
     "metadata": {
      "needs_background": "light"
     },
     "output_type": "display_data"
    }
   ],
   "source": [
    "data_tbd_user_score = data[data['user_score'] == 'tbd']\n",
    "(data_tbd_user_score['na_sales'] + data_tbd_user_score['jp_sales'] + data_tbd_user_score['eu_sales'] + data_tbd_user_score['other_sales']).hist(bins = 70, figsize = (10,10),range = (0,5))"
   ]
  },
  {
   "cell_type": "markdown",
   "metadata": {},
   "source": [
    "Исходя из полученных данных, можно сделать вывод, что пропуски в обоих столбцах оценки в основном у непопулярных игр на данных платформах, что достаточно логично, а пропуски только в столбце оценки критиков в большинстве у игр, у которых в столбце `user_score` стоит 'tbd', что значит, что голосов пользователей недостаточно, чтобы поставить пользовательскую оценку, значения 'tbd' в столбце `user_score` можно расценивать как Nan, опять же это значит что игра на данной платформе (или впринципе сама игра) не заинтересовала пользователей"
   ]
  },
  {
   "cell_type": "code",
   "execution_count": 19,
   "metadata": {},
   "outputs": [
    {
     "data": {
      "text/plain": [
       "8990"
      ]
     },
     "execution_count": 19,
     "metadata": {},
     "output_type": "execute_result"
    }
   ],
   "source": [
    "data['user_score'] = data['user_score'].replace({'tbd' : np.NaN})\n",
    "data['user_score'] = data['user_score'].astype('float')\n",
    "sum(data['user_score'].isna())"
   ]
  },
  {
   "cell_type": "markdown",
   "metadata": {},
   "source": [
    "Оценка игры - вещь субъективная, поэтому мы можем заполнить данные пропуски в столбцах `user_score` и `critic_score` только если есть данные об этих же играх на других платформах."
   ]
  },
  {
   "cell_type": "markdown",
   "metadata": {},
   "source": [
    "Будем заполнять пропуски в том случае, если есть оценки от критиков на других платформах и их более 2 и стандартное отклонение этих оценок меньше 1"
   ]
  },
  {
   "cell_type": "code",
   "execution_count": 20,
   "metadata": {},
   "outputs": [],
   "source": [
    "data_critic_score_not_null = data.loc[~data['critic_score'].isna()]"
   ]
  },
  {
   "cell_type": "code",
   "execution_count": 21,
   "metadata": {},
   "outputs": [
    {
     "data": {
      "text/plain": [
       "8416"
      ]
     },
     "execution_count": 21,
     "metadata": {},
     "output_type": "execute_result"
    }
   ],
   "source": [
    "def fill_critic (x):\n",
    "    if(not pd.isnull(x['critic_score'])):\n",
    "        return x['critic_score']\n",
    "    name = x['name']\n",
    "    if(data_critic_score_not_null[data_critic_score_not_null['name'] == name].shape[0] > 2) and (np.std(data_critic_score_not_null[data_critic_score_not_null['name'] == name]['critic_score']) < 1):\n",
    "        return data_critic_score_not_null[data_critic_score_not_null['name'] == name]['critic_score'].mean()\n",
    "    return x['critic_score']\n",
    "data['critic_score'] = data.apply(fill_critic, axis = 1)\n",
    "sum(data['critic_score'].isna())"
   ]
  },
  {
   "cell_type": "markdown",
   "metadata": {},
   "source": [
    "Аналогично заполним пропуски в столбце `user_score`"
   ]
  },
  {
   "cell_type": "code",
   "execution_count": 22,
   "metadata": {},
   "outputs": [],
   "source": [
    "data_user_score_not_null = data.loc[~data['user_score'].isna()]"
   ]
  },
  {
   "cell_type": "code",
   "execution_count": 23,
   "metadata": {},
   "outputs": [
    {
     "name": "stdout",
     "output_type": "stream",
     "text": [
      "0\n"
     ]
    }
   ],
   "source": [
    "count = 0\n",
    "for name in data[data['user_score'].isna()]:\n",
    "    if(data_user_score_not_null[data_user_score_not_null['name'] == name].shape[0] > 2) and (np.std(data_user_score_not_null[data_user_score_not_null['name'] == name]['user_score']) < 1):\n",
    "        count += 1\n",
    "print(count)"
   ]
  },
  {
   "cell_type": "markdown",
   "metadata": {},
   "source": [
    "К сожалению, оценки пользователей достаточно сильно разнятся для того чтобы заполнить пропуски, следовательно `user_score` остается незаполненным"
   ]
  },
  {
   "cell_type": "markdown",
   "metadata": {},
   "source": [
    "Теперь рассмотрим пропуски в столбце `rating`"
   ]
  },
  {
   "cell_type": "code",
   "execution_count": 24,
   "metadata": {},
   "outputs": [
    {
     "data": {
      "text/html": [
       "<div>\n",
       "<style scoped>\n",
       "    .dataframe tbody tr th:only-of-type {\n",
       "        vertical-align: middle;\n",
       "    }\n",
       "\n",
       "    .dataframe tbody tr th {\n",
       "        vertical-align: top;\n",
       "    }\n",
       "\n",
       "    .dataframe thead th {\n",
       "        text-align: right;\n",
       "    }\n",
       "</style>\n",
       "<table border=\"1\" class=\"dataframe\">\n",
       "  <thead>\n",
       "    <tr style=\"text-align: right;\">\n",
       "      <th></th>\n",
       "      <th>name</th>\n",
       "      <th>platform</th>\n",
       "      <th>year_of_release</th>\n",
       "      <th>genre</th>\n",
       "      <th>na_sales</th>\n",
       "      <th>eu_sales</th>\n",
       "      <th>jp_sales</th>\n",
       "      <th>other_sales</th>\n",
       "      <th>critic_score</th>\n",
       "      <th>user_score</th>\n",
       "      <th>rating</th>\n",
       "    </tr>\n",
       "  </thead>\n",
       "  <tbody>\n",
       "    <tr>\n",
       "      <th>1</th>\n",
       "      <td>Super Mario Bros.</td>\n",
       "      <td>NES</td>\n",
       "      <td>1985.0</td>\n",
       "      <td>Platform</td>\n",
       "      <td>29.08</td>\n",
       "      <td>3.58</td>\n",
       "      <td>6.81</td>\n",
       "      <td>0.77</td>\n",
       "      <td>NaN</td>\n",
       "      <td>NaN</td>\n",
       "      <td>NaN</td>\n",
       "    </tr>\n",
       "    <tr>\n",
       "      <th>4</th>\n",
       "      <td>Pokemon Red/Pokemon Blue</td>\n",
       "      <td>GB</td>\n",
       "      <td>1996.0</td>\n",
       "      <td>Role-Playing</td>\n",
       "      <td>11.27</td>\n",
       "      <td>8.89</td>\n",
       "      <td>10.22</td>\n",
       "      <td>1.00</td>\n",
       "      <td>NaN</td>\n",
       "      <td>NaN</td>\n",
       "      <td>NaN</td>\n",
       "    </tr>\n",
       "    <tr>\n",
       "      <th>5</th>\n",
       "      <td>Tetris</td>\n",
       "      <td>GB</td>\n",
       "      <td>1989.0</td>\n",
       "      <td>Puzzle</td>\n",
       "      <td>23.20</td>\n",
       "      <td>2.26</td>\n",
       "      <td>4.22</td>\n",
       "      <td>0.58</td>\n",
       "      <td>NaN</td>\n",
       "      <td>NaN</td>\n",
       "      <td>NaN</td>\n",
       "    </tr>\n",
       "    <tr>\n",
       "      <th>9</th>\n",
       "      <td>Duck Hunt</td>\n",
       "      <td>NES</td>\n",
       "      <td>1984.0</td>\n",
       "      <td>Shooter</td>\n",
       "      <td>26.93</td>\n",
       "      <td>0.63</td>\n",
       "      <td>0.28</td>\n",
       "      <td>0.47</td>\n",
       "      <td>NaN</td>\n",
       "      <td>NaN</td>\n",
       "      <td>NaN</td>\n",
       "    </tr>\n",
       "    <tr>\n",
       "      <th>10</th>\n",
       "      <td>Nintendogs</td>\n",
       "      <td>DS</td>\n",
       "      <td>2005.0</td>\n",
       "      <td>Simulation</td>\n",
       "      <td>9.05</td>\n",
       "      <td>10.95</td>\n",
       "      <td>1.93</td>\n",
       "      <td>2.74</td>\n",
       "      <td>NaN</td>\n",
       "      <td>NaN</td>\n",
       "      <td>NaN</td>\n",
       "    </tr>\n",
       "    <tr>\n",
       "      <th>...</th>\n",
       "      <td>...</td>\n",
       "      <td>...</td>\n",
       "      <td>...</td>\n",
       "      <td>...</td>\n",
       "      <td>...</td>\n",
       "      <td>...</td>\n",
       "      <td>...</td>\n",
       "      <td>...</td>\n",
       "      <td>...</td>\n",
       "      <td>...</td>\n",
       "      <td>...</td>\n",
       "    </tr>\n",
       "    <tr>\n",
       "      <th>16710</th>\n",
       "      <td>Samurai Warriors: Sanada Maru</td>\n",
       "      <td>PS3</td>\n",
       "      <td>2016.0</td>\n",
       "      <td>Action</td>\n",
       "      <td>0.00</td>\n",
       "      <td>0.00</td>\n",
       "      <td>0.01</td>\n",
       "      <td>0.00</td>\n",
       "      <td>NaN</td>\n",
       "      <td>NaN</td>\n",
       "      <td>NaN</td>\n",
       "    </tr>\n",
       "    <tr>\n",
       "      <th>16711</th>\n",
       "      <td>LMA Manager 2007</td>\n",
       "      <td>X360</td>\n",
       "      <td>2006.0</td>\n",
       "      <td>Sports</td>\n",
       "      <td>0.00</td>\n",
       "      <td>0.01</td>\n",
       "      <td>0.00</td>\n",
       "      <td>0.00</td>\n",
       "      <td>NaN</td>\n",
       "      <td>NaN</td>\n",
       "      <td>NaN</td>\n",
       "    </tr>\n",
       "    <tr>\n",
       "      <th>16712</th>\n",
       "      <td>Haitaka no Psychedelica</td>\n",
       "      <td>PSV</td>\n",
       "      <td>2016.0</td>\n",
       "      <td>Adventure</td>\n",
       "      <td>0.00</td>\n",
       "      <td>0.00</td>\n",
       "      <td>0.01</td>\n",
       "      <td>0.00</td>\n",
       "      <td>NaN</td>\n",
       "      <td>NaN</td>\n",
       "      <td>NaN</td>\n",
       "    </tr>\n",
       "    <tr>\n",
       "      <th>16713</th>\n",
       "      <td>Spirits &amp; Spells</td>\n",
       "      <td>GBA</td>\n",
       "      <td>2003.0</td>\n",
       "      <td>Platform</td>\n",
       "      <td>0.01</td>\n",
       "      <td>0.00</td>\n",
       "      <td>0.00</td>\n",
       "      <td>0.00</td>\n",
       "      <td>NaN</td>\n",
       "      <td>NaN</td>\n",
       "      <td>NaN</td>\n",
       "    </tr>\n",
       "    <tr>\n",
       "      <th>16714</th>\n",
       "      <td>Winning Post 8 2016</td>\n",
       "      <td>PSV</td>\n",
       "      <td>2016.0</td>\n",
       "      <td>Simulation</td>\n",
       "      <td>0.00</td>\n",
       "      <td>0.00</td>\n",
       "      <td>0.01</td>\n",
       "      <td>0.00</td>\n",
       "      <td>NaN</td>\n",
       "      <td>NaN</td>\n",
       "      <td>NaN</td>\n",
       "    </tr>\n",
       "  </tbody>\n",
       "</table>\n",
       "<p>6681 rows × 11 columns</p>\n",
       "</div>"
      ],
      "text/plain": [
       "                                name platform  year_of_release         genre  \\\n",
       "1                  Super Mario Bros.      NES           1985.0      Platform   \n",
       "4           Pokemon Red/Pokemon Blue       GB           1996.0  Role-Playing   \n",
       "5                             Tetris       GB           1989.0        Puzzle   \n",
       "9                          Duck Hunt      NES           1984.0       Shooter   \n",
       "10                        Nintendogs       DS           2005.0    Simulation   \n",
       "...                              ...      ...              ...           ...   \n",
       "16710  Samurai Warriors: Sanada Maru      PS3           2016.0        Action   \n",
       "16711               LMA Manager 2007     X360           2006.0        Sports   \n",
       "16712        Haitaka no Psychedelica      PSV           2016.0     Adventure   \n",
       "16713               Spirits & Spells      GBA           2003.0      Platform   \n",
       "16714            Winning Post 8 2016      PSV           2016.0    Simulation   \n",
       "\n",
       "       na_sales  eu_sales  jp_sales  other_sales  critic_score  user_score  \\\n",
       "1         29.08      3.58      6.81         0.77           NaN         NaN   \n",
       "4         11.27      8.89     10.22         1.00           NaN         NaN   \n",
       "5         23.20      2.26      4.22         0.58           NaN         NaN   \n",
       "9         26.93      0.63      0.28         0.47           NaN         NaN   \n",
       "10         9.05     10.95      1.93         2.74           NaN         NaN   \n",
       "...         ...       ...       ...          ...           ...         ...   \n",
       "16710      0.00      0.00      0.01         0.00           NaN         NaN   \n",
       "16711      0.00      0.01      0.00         0.00           NaN         NaN   \n",
       "16712      0.00      0.00      0.01         0.00           NaN         NaN   \n",
       "16713      0.01      0.00      0.00         0.00           NaN         NaN   \n",
       "16714      0.00      0.00      0.01         0.00           NaN         NaN   \n",
       "\n",
       "      rating  \n",
       "1        NaN  \n",
       "4        NaN  \n",
       "5        NaN  \n",
       "9        NaN  \n",
       "10       NaN  \n",
       "...      ...  \n",
       "16710    NaN  \n",
       "16711    NaN  \n",
       "16712    NaN  \n",
       "16713    NaN  \n",
       "16714    NaN  \n",
       "\n",
       "[6681 rows x 11 columns]"
      ]
     },
     "execution_count": 24,
     "metadata": {},
     "output_type": "execute_result"
    }
   ],
   "source": [
    "data_rating_missed = data[data['rating'].isna()]\n",
    "data_rating_missed"
   ]
  },
  {
   "cell_type": "markdown",
   "metadata": {},
   "source": [
    "Пропуски в столбце с возрастным рейтингом могут быть по причине того что рейтинг мог быть выставлен не компанией ESRB (в основном распространена в Америке), или же игра слишком старая, поэтому не имеет рейтинга, так как ESRB начали работать в 1994 "
   ]
  },
  {
   "cell_type": "code",
   "execution_count": 25,
   "metadata": {},
   "outputs": [
    {
     "name": "stdout",
     "output_type": "stream",
     "text": [
      "Количество игр у которых разное возрастное ограничение  709\n"
     ]
    }
   ],
   "source": [
    "data_rating_not_null = data[~data['rating'].isna()]\n",
    "strange_rating_names = []\n",
    "count = 0\n",
    "for name in data['name']:\n",
    "    if(len(data_rating_not_null[data_rating_not_null['name'] == name]['rating'].unique()) > 1):\n",
    "        strange_rating_names.append(name)\n",
    "print('Количество игр у которых разное возрастное ограничение ', len(strange_rating_names))"
   ]
  },
  {
   "cell_type": "markdown",
   "metadata": {},
   "source": [
    "Так как в основном производители стараются делать одну и ту же игру на разных платформах приблизительно одинаковой, то мы можем заполнять пропуски, если есть данные о рейтингах на других платформах. Однако игры могут иметь разное ограничение на разных платформах, что может зависеть от разницы в версиях игры на разных платформах, например в связи с изменениями в курирующей разработку компании или в связи с тем что год релиза версий на разных платформах сильно отличается, соответственно ограничения на каждую версию могли получаться отдельно, будем заполнять пропуски только если год ближайшей версии о которой есть информация отличается максимум на 2 года и если у всех предыдущих версий было одно возрастное ограничение "
   ]
  },
  {
   "cell_type": "code",
   "execution_count": 26,
   "metadata": {},
   "outputs": [
    {
     "data": {
      "text/plain": [
       "6544"
      ]
     },
     "execution_count": 26,
     "metadata": {},
     "output_type": "execute_result"
    }
   ],
   "source": [
    "def fill_rating(x):\n",
    "    if(not pd.isnull(x['rating'])):\n",
    "        return x['rating']\n",
    "    name = x['name']\n",
    "    if (len(data_rating_not_null[data_rating_not_null['name'] == name]) > 1) and (not pd.isnull(x['year_of_release'])):\n",
    "        temp_list = list(data_rating_not_null[data_rating_not_null['name'] == name]['year_of_release'].dropna())\n",
    "        temp_list.append(x['year_of_release'])\n",
    "        temp_list = sorted(temp_list)\n",
    "        index_x = temp_list.index(x['year_of_release'])\n",
    "        one = abs(temp_list[(index_x-1  if index_x > 0 else index_x)] - x['year_of_release'] + (3000 if index_x == 0 else 0))\n",
    "        two = abs(temp_list[(index_x+1 if index_x + 1 < len(temp_list) else index_x )] - x['year_of_release'] + (3000 if index_x +1 == len(temp_list) else 0))\n",
    "        if (min(abs(temp_list[(index_x-1  if index_x > 0 else index_x)] - x['year_of_release'] + (3000 if index_x == 0 else 0)), abs(temp_list[(index_x+1 if index_x + 1 < len(temp_list) else index_x )] - x['year_of_release'] + (3000 if index_x +1 == len(temp_list) else 0))) <=2 )\\\n",
    "         and (len(data_rating_not_null[data_rating_not_null['name'] == name]['rating'].unique()) == 1):\n",
    "            return data_rating_not_null[data_rating_not_null['name'] == name]['rating'].unique()[0]\n",
    "    return x['rating']\n",
    "\n",
    "data['rating'] = data.apply(fill_rating, axis = 1)\n",
    "sum(data['rating'].isna())"
   ]
  },
  {
   "cell_type": "markdown",
   "metadata": {},
   "source": [
    "Для того чтобы в будущем анализировать эти игры вместе с теми, у которых рейтинг установлен, заполним пропуски значением 'No rating'"
   ]
  },
  {
   "cell_type": "code",
   "execution_count": 27,
   "metadata": {},
   "outputs": [
    {
     "data": {
      "text/plain": [
       "0"
      ]
     },
     "execution_count": 27,
     "metadata": {},
     "output_type": "execute_result"
    }
   ],
   "source": [
    "data['rating'] = data['rating'].fillna('No rating')\n",
    "len(data[data['rating'].isna()])"
   ]
  },
  {
   "cell_type": "markdown",
   "metadata": {},
   "source": [
    "Посмотрим на пропуски в столбце `name`"
   ]
  },
  {
   "cell_type": "code",
   "execution_count": 28,
   "metadata": {},
   "outputs": [
    {
     "data": {
      "text/html": [
       "<div>\n",
       "<style scoped>\n",
       "    .dataframe tbody tr th:only-of-type {\n",
       "        vertical-align: middle;\n",
       "    }\n",
       "\n",
       "    .dataframe tbody tr th {\n",
       "        vertical-align: top;\n",
       "    }\n",
       "\n",
       "    .dataframe thead th {\n",
       "        text-align: right;\n",
       "    }\n",
       "</style>\n",
       "<table border=\"1\" class=\"dataframe\">\n",
       "  <thead>\n",
       "    <tr style=\"text-align: right;\">\n",
       "      <th></th>\n",
       "      <th>name</th>\n",
       "      <th>platform</th>\n",
       "      <th>year_of_release</th>\n",
       "      <th>genre</th>\n",
       "      <th>na_sales</th>\n",
       "      <th>eu_sales</th>\n",
       "      <th>jp_sales</th>\n",
       "      <th>other_sales</th>\n",
       "      <th>critic_score</th>\n",
       "      <th>user_score</th>\n",
       "      <th>rating</th>\n",
       "    </tr>\n",
       "  </thead>\n",
       "  <tbody>\n",
       "    <tr>\n",
       "      <th>659</th>\n",
       "      <td>NaN</td>\n",
       "      <td>GEN</td>\n",
       "      <td>1993.0</td>\n",
       "      <td>NaN</td>\n",
       "      <td>1.78</td>\n",
       "      <td>0.53</td>\n",
       "      <td>0.00</td>\n",
       "      <td>0.08</td>\n",
       "      <td>NaN</td>\n",
       "      <td>NaN</td>\n",
       "      <td>No rating</td>\n",
       "    </tr>\n",
       "    <tr>\n",
       "      <th>14244</th>\n",
       "      <td>NaN</td>\n",
       "      <td>GEN</td>\n",
       "      <td>1993.0</td>\n",
       "      <td>NaN</td>\n",
       "      <td>0.00</td>\n",
       "      <td>0.00</td>\n",
       "      <td>0.03</td>\n",
       "      <td>0.00</td>\n",
       "      <td>NaN</td>\n",
       "      <td>NaN</td>\n",
       "      <td>No rating</td>\n",
       "    </tr>\n",
       "  </tbody>\n",
       "</table>\n",
       "</div>"
      ],
      "text/plain": [
       "      name platform  year_of_release genre  na_sales  eu_sales  jp_sales  \\\n",
       "659    NaN      GEN           1993.0   NaN      1.78      0.53      0.00   \n",
       "14244  NaN      GEN           1993.0   NaN      0.00      0.00      0.03   \n",
       "\n",
       "       other_sales  critic_score  user_score     rating  \n",
       "659           0.08           NaN         NaN  No rating  \n",
       "14244         0.00           NaN         NaN  No rating  "
      ]
     },
     "execution_count": 28,
     "metadata": {},
     "output_type": "execute_result"
    }
   ],
   "source": [
    "data[data['name'].isna()]"
   ]
  },
  {
   "cell_type": "markdown",
   "metadata": {},
   "source": [
    "Можно предположить, что первая игра - это Mortal Combat 2, вторая - одна из тех, которые продавались только в Японии. Однако так как эти игры были выпущены в 1993, они уже неактуальны для прогнозирования продаж на 2017 год, поэтому удалим эти данные"
   ]
  },
  {
   "cell_type": "code",
   "execution_count": 29,
   "metadata": {},
   "outputs": [],
   "source": [
    "data = data.dropna(subset = ['name'])"
   ]
  },
  {
   "cell_type": "markdown",
   "metadata": {},
   "source": [
    "Далее рассмотрим типы данных в датасете"
   ]
  },
  {
   "cell_type": "code",
   "execution_count": 30,
   "metadata": {},
   "outputs": [
    {
     "name": "stdout",
     "output_type": "stream",
     "text": [
      "<class 'pandas.core.frame.DataFrame'>\n",
      "Int64Index: 16470 entries, 0 to 16714\n",
      "Data columns (total 11 columns):\n",
      " #   Column           Non-Null Count  Dtype  \n",
      "---  ------           --------------  -----  \n",
      " 0   name             16470 non-null  object \n",
      " 1   platform         16470 non-null  object \n",
      " 2   year_of_release  16444 non-null  float64\n",
      " 3   genre            16470 non-null  object \n",
      " 4   na_sales         16470 non-null  float64\n",
      " 5   eu_sales         16470 non-null  float64\n",
      " 6   jp_sales         16470 non-null  float64\n",
      " 7   other_sales      16470 non-null  float64\n",
      " 8   critic_score     8056 non-null   float64\n",
      " 9   user_score       7482 non-null   float64\n",
      " 10  rating           16470 non-null  object \n",
      "dtypes: float64(7), object(4)\n",
      "memory usage: 1.5+ MB\n"
     ]
    }
   ],
   "source": [
    "data.info()"
   ]
  },
  {
   "cell_type": "markdown",
   "metadata": {},
   "source": [
    "Тип float не подходит для описания года, однако из-за того что в этом столбце присутствуют пропуски, мы не можем заменить тип там, все остальные типы данных корректны"
   ]
  },
  {
   "cell_type": "markdown",
   "metadata": {},
   "source": [
    "Для удобства дальнейшей работы создадим столбец с суммарным количеством проданных игр"
   ]
  },
  {
   "cell_type": "code",
   "execution_count": 31,
   "metadata": {},
   "outputs": [
    {
     "data": {
      "text/html": [
       "<div>\n",
       "<style scoped>\n",
       "    .dataframe tbody tr th:only-of-type {\n",
       "        vertical-align: middle;\n",
       "    }\n",
       "\n",
       "    .dataframe tbody tr th {\n",
       "        vertical-align: top;\n",
       "    }\n",
       "\n",
       "    .dataframe thead th {\n",
       "        text-align: right;\n",
       "    }\n",
       "</style>\n",
       "<table border=\"1\" class=\"dataframe\">\n",
       "  <thead>\n",
       "    <tr style=\"text-align: right;\">\n",
       "      <th></th>\n",
       "      <th>name</th>\n",
       "      <th>platform</th>\n",
       "      <th>year_of_release</th>\n",
       "      <th>genre</th>\n",
       "      <th>na_sales</th>\n",
       "      <th>eu_sales</th>\n",
       "      <th>jp_sales</th>\n",
       "      <th>other_sales</th>\n",
       "      <th>critic_score</th>\n",
       "      <th>user_score</th>\n",
       "      <th>rating</th>\n",
       "      <th>total_sales</th>\n",
       "    </tr>\n",
       "  </thead>\n",
       "  <tbody>\n",
       "    <tr>\n",
       "      <th>0</th>\n",
       "      <td>Wii Sports</td>\n",
       "      <td>Wii</td>\n",
       "      <td>2006.0</td>\n",
       "      <td>Sports</td>\n",
       "      <td>41.36</td>\n",
       "      <td>28.96</td>\n",
       "      <td>3.77</td>\n",
       "      <td>8.45</td>\n",
       "      <td>76.0</td>\n",
       "      <td>8.0</td>\n",
       "      <td>E</td>\n",
       "      <td>82.54</td>\n",
       "    </tr>\n",
       "    <tr>\n",
       "      <th>1</th>\n",
       "      <td>Super Mario Bros.</td>\n",
       "      <td>NES</td>\n",
       "      <td>1985.0</td>\n",
       "      <td>Platform</td>\n",
       "      <td>29.08</td>\n",
       "      <td>3.58</td>\n",
       "      <td>6.81</td>\n",
       "      <td>0.77</td>\n",
       "      <td>NaN</td>\n",
       "      <td>NaN</td>\n",
       "      <td>No rating</td>\n",
       "      <td>40.24</td>\n",
       "    </tr>\n",
       "    <tr>\n",
       "      <th>2</th>\n",
       "      <td>Mario Kart Wii</td>\n",
       "      <td>Wii</td>\n",
       "      <td>2008.0</td>\n",
       "      <td>Racing</td>\n",
       "      <td>15.68</td>\n",
       "      <td>12.76</td>\n",
       "      <td>3.79</td>\n",
       "      <td>3.29</td>\n",
       "      <td>82.0</td>\n",
       "      <td>8.3</td>\n",
       "      <td>E</td>\n",
       "      <td>35.52</td>\n",
       "    </tr>\n",
       "    <tr>\n",
       "      <th>3</th>\n",
       "      <td>Wii Sports Resort</td>\n",
       "      <td>Wii</td>\n",
       "      <td>2009.0</td>\n",
       "      <td>Sports</td>\n",
       "      <td>15.61</td>\n",
       "      <td>10.93</td>\n",
       "      <td>3.28</td>\n",
       "      <td>2.95</td>\n",
       "      <td>80.0</td>\n",
       "      <td>8.0</td>\n",
       "      <td>E</td>\n",
       "      <td>32.77</td>\n",
       "    </tr>\n",
       "    <tr>\n",
       "      <th>4</th>\n",
       "      <td>Pokemon Red/Pokemon Blue</td>\n",
       "      <td>GB</td>\n",
       "      <td>1996.0</td>\n",
       "      <td>Role-Playing</td>\n",
       "      <td>11.27</td>\n",
       "      <td>8.89</td>\n",
       "      <td>10.22</td>\n",
       "      <td>1.00</td>\n",
       "      <td>NaN</td>\n",
       "      <td>NaN</td>\n",
       "      <td>No rating</td>\n",
       "      <td>31.38</td>\n",
       "    </tr>\n",
       "  </tbody>\n",
       "</table>\n",
       "</div>"
      ],
      "text/plain": [
       "                       name platform  year_of_release         genre  na_sales  \\\n",
       "0                Wii Sports      Wii           2006.0        Sports     41.36   \n",
       "1         Super Mario Bros.      NES           1985.0      Platform     29.08   \n",
       "2            Mario Kart Wii      Wii           2008.0        Racing     15.68   \n",
       "3         Wii Sports Resort      Wii           2009.0        Sports     15.61   \n",
       "4  Pokemon Red/Pokemon Blue       GB           1996.0  Role-Playing     11.27   \n",
       "\n",
       "   eu_sales  jp_sales  other_sales  critic_score  user_score     rating  \\\n",
       "0     28.96      3.77         8.45          76.0         8.0          E   \n",
       "1      3.58      6.81         0.77           NaN         NaN  No rating   \n",
       "2     12.76      3.79         3.29          82.0         8.3          E   \n",
       "3     10.93      3.28         2.95          80.0         8.0          E   \n",
       "4      8.89     10.22         1.00           NaN         NaN  No rating   \n",
       "\n",
       "   total_sales  \n",
       "0        82.54  \n",
       "1        40.24  \n",
       "2        35.52  \n",
       "3        32.77  \n",
       "4        31.38  "
      ]
     },
     "execution_count": 31,
     "metadata": {},
     "output_type": "execute_result"
    }
   ],
   "source": [
    "data['total_sales'] = data[['na_sales','eu_sales','jp_sales', 'other_sales']].sum(axis = 1)\n",
    "data.head()"
   ]
  },
  {
   "cell_type": "markdown",
   "metadata": {},
   "source": [
    "## Исследовательский анализ данных"
   ]
  },
  {
   "cell_type": "markdown",
   "metadata": {},
   "source": [
    "Посмотрим, сколько игр выпускалось в разные года"
   ]
  },
  {
   "cell_type": "code",
   "execution_count": 32,
   "metadata": {},
   "outputs": [
    {
     "data": {
      "text/html": [
       "<div>\n",
       "<style scoped>\n",
       "    .dataframe tbody tr th:only-of-type {\n",
       "        vertical-align: middle;\n",
       "    }\n",
       "\n",
       "    .dataframe tbody tr th {\n",
       "        vertical-align: top;\n",
       "    }\n",
       "\n",
       "    .dataframe thead th {\n",
       "        text-align: right;\n",
       "    }\n",
       "</style>\n",
       "<table border=\"1\" class=\"dataframe\">\n",
       "  <thead>\n",
       "    <tr style=\"text-align: right;\">\n",
       "      <th></th>\n",
       "      <th>na_sales</th>\n",
       "    </tr>\n",
       "    <tr>\n",
       "      <th>year_of_release</th>\n",
       "      <th></th>\n",
       "    </tr>\n",
       "  </thead>\n",
       "  <tbody>\n",
       "    <tr>\n",
       "      <th>1980.0</th>\n",
       "      <td>9</td>\n",
       "    </tr>\n",
       "    <tr>\n",
       "      <th>1984.0</th>\n",
       "      <td>14</td>\n",
       "    </tr>\n",
       "    <tr>\n",
       "      <th>1985.0</th>\n",
       "      <td>14</td>\n",
       "    </tr>\n",
       "    <tr>\n",
       "      <th>1988.0</th>\n",
       "      <td>15</td>\n",
       "    </tr>\n",
       "    <tr>\n",
       "      <th>1990.0</th>\n",
       "      <td>16</td>\n",
       "    </tr>\n",
       "    <tr>\n",
       "      <th>1987.0</th>\n",
       "      <td>16</td>\n",
       "    </tr>\n",
       "    <tr>\n",
       "      <th>1989.0</th>\n",
       "      <td>17</td>\n",
       "    </tr>\n",
       "    <tr>\n",
       "      <th>1983.0</th>\n",
       "      <td>17</td>\n",
       "    </tr>\n",
       "    <tr>\n",
       "      <th>1986.0</th>\n",
       "      <td>21</td>\n",
       "    </tr>\n",
       "    <tr>\n",
       "      <th>1982.0</th>\n",
       "      <td>36</td>\n",
       "    </tr>\n",
       "    <tr>\n",
       "      <th>1991.0</th>\n",
       "      <td>41</td>\n",
       "    </tr>\n",
       "    <tr>\n",
       "      <th>1992.0</th>\n",
       "      <td>43</td>\n",
       "    </tr>\n",
       "    <tr>\n",
       "      <th>1981.0</th>\n",
       "      <td>46</td>\n",
       "    </tr>\n",
       "    <tr>\n",
       "      <th>1993.0</th>\n",
       "      <td>60</td>\n",
       "    </tr>\n",
       "    <tr>\n",
       "      <th>1994.0</th>\n",
       "      <td>121</td>\n",
       "    </tr>\n",
       "    <tr>\n",
       "      <th>1995.0</th>\n",
       "      <td>219</td>\n",
       "    </tr>\n",
       "    <tr>\n",
       "      <th>1996.0</th>\n",
       "      <td>263</td>\n",
       "    </tr>\n",
       "    <tr>\n",
       "      <th>1997.0</th>\n",
       "      <td>289</td>\n",
       "    </tr>\n",
       "    <tr>\n",
       "      <th>1999.0</th>\n",
       "      <td>338</td>\n",
       "    </tr>\n",
       "    <tr>\n",
       "      <th>2000.0</th>\n",
       "      <td>350</td>\n",
       "    </tr>\n",
       "    <tr>\n",
       "      <th>1998.0</th>\n",
       "      <td>379</td>\n",
       "    </tr>\n",
       "    <tr>\n",
       "      <th>2001.0</th>\n",
       "      <td>482</td>\n",
       "    </tr>\n",
       "    <tr>\n",
       "      <th>2016.0</th>\n",
       "      <td>502</td>\n",
       "    </tr>\n",
       "    <tr>\n",
       "      <th>2013.0</th>\n",
       "      <td>544</td>\n",
       "    </tr>\n",
       "    <tr>\n",
       "      <th>2014.0</th>\n",
       "      <td>581</td>\n",
       "    </tr>\n",
       "    <tr>\n",
       "      <th>2015.0</th>\n",
       "      <td>606</td>\n",
       "    </tr>\n",
       "    <tr>\n",
       "      <th>2012.0</th>\n",
       "      <td>653</td>\n",
       "    </tr>\n",
       "    <tr>\n",
       "      <th>2004.0</th>\n",
       "      <td>762</td>\n",
       "    </tr>\n",
       "    <tr>\n",
       "      <th>2003.0</th>\n",
       "      <td>775</td>\n",
       "    </tr>\n",
       "    <tr>\n",
       "      <th>2002.0</th>\n",
       "      <td>829</td>\n",
       "    </tr>\n",
       "    <tr>\n",
       "      <th>2005.0</th>\n",
       "      <td>939</td>\n",
       "    </tr>\n",
       "    <tr>\n",
       "      <th>2006.0</th>\n",
       "      <td>1006</td>\n",
       "    </tr>\n",
       "    <tr>\n",
       "      <th>2011.0</th>\n",
       "      <td>1136</td>\n",
       "    </tr>\n",
       "    <tr>\n",
       "      <th>2007.0</th>\n",
       "      <td>1197</td>\n",
       "    </tr>\n",
       "    <tr>\n",
       "      <th>2010.0</th>\n",
       "      <td>1255</td>\n",
       "    </tr>\n",
       "    <tr>\n",
       "      <th>2009.0</th>\n",
       "      <td>1426</td>\n",
       "    </tr>\n",
       "    <tr>\n",
       "      <th>2008.0</th>\n",
       "      <td>1427</td>\n",
       "    </tr>\n",
       "  </tbody>\n",
       "</table>\n",
       "</div>"
      ],
      "text/plain": [
       "                 na_sales\n",
       "year_of_release          \n",
       "1980.0                  9\n",
       "1984.0                 14\n",
       "1985.0                 14\n",
       "1988.0                 15\n",
       "1990.0                 16\n",
       "1987.0                 16\n",
       "1989.0                 17\n",
       "1983.0                 17\n",
       "1986.0                 21\n",
       "1982.0                 36\n",
       "1991.0                 41\n",
       "1992.0                 43\n",
       "1981.0                 46\n",
       "1993.0                 60\n",
       "1994.0                121\n",
       "1995.0                219\n",
       "1996.0                263\n",
       "1997.0                289\n",
       "1999.0                338\n",
       "2000.0                350\n",
       "1998.0                379\n",
       "2001.0                482\n",
       "2016.0                502\n",
       "2013.0                544\n",
       "2014.0                581\n",
       "2015.0                606\n",
       "2012.0                653\n",
       "2004.0                762\n",
       "2003.0                775\n",
       "2002.0                829\n",
       "2005.0                939\n",
       "2006.0               1006\n",
       "2011.0               1136\n",
       "2007.0               1197\n",
       "2010.0               1255\n",
       "2009.0               1426\n",
       "2008.0               1427"
      ]
     },
     "execution_count": 32,
     "metadata": {},
     "output_type": "execute_result"
    }
   ],
   "source": [
    "data.pivot_table(index = 'year_of_release', values = 'na_sales',aggfunc='count').sort_values(by = 'na_sales')"
   ]
  },
  {
   "cell_type": "code",
   "execution_count": 33,
   "metadata": {},
   "outputs": [
    {
     "data": {
      "text/plain": [
       "Text(0, 0.5, 'Количество')"
      ]
     },
     "execution_count": 33,
     "metadata": {},
     "output_type": "execute_result"
    },
    {
     "data": {
      "image/png": "[encoded data removed]",
      "text/plain": [
       "<Figure size 1080x1080 with 1 Axes>"
      ]
     },
     "metadata": {
      "needs_background": "light"
     },
     "output_type": "display_data"
    }
   ],
   "source": [
    "data.pivot_table(index = 'year_of_release', values = 'na_sales',aggfunc='count').plot(kind = 'bar', rot = 45, figsize = (15,15))\n",
    "plt.title('Количество выпущенных игр по годам')\n",
    "plt.xlabel('Год')\n",
    "plt.ylabel('Количество')"
   ]
  },
  {
   "cell_type": "markdown",
   "metadata": {},
   "source": [
    "По графику видим ,что пик выпуска игр пришелся на 2007-2011, после 2011 видим резкий спад в выпуске игр"
   ]
  },
  {
   "cell_type": "markdown",
   "metadata": {},
   "source": [
    "Далее посмотрим как менялись продажи игр по платформам"
   ]
  },
  {
   "cell_type": "code",
   "execution_count": 34,
   "metadata": {},
   "outputs": [
    {
     "data": {
      "text/html": [
       "<div>\n",
       "<style scoped>\n",
       "    .dataframe tbody tr th:only-of-type {\n",
       "        vertical-align: middle;\n",
       "    }\n",
       "\n",
       "    .dataframe tbody tr th {\n",
       "        vertical-align: top;\n",
       "    }\n",
       "\n",
       "    .dataframe thead th {\n",
       "        text-align: right;\n",
       "    }\n",
       "</style>\n",
       "<table border=\"1\" class=\"dataframe\">\n",
       "  <thead>\n",
       "    <tr style=\"text-align: right;\">\n",
       "      <th></th>\n",
       "      <th>total_sales</th>\n",
       "    </tr>\n",
       "    <tr>\n",
       "      <th>platform</th>\n",
       "      <th></th>\n",
       "    </tr>\n",
       "  </thead>\n",
       "  <tbody>\n",
       "    <tr>\n",
       "      <th>PS2</th>\n",
       "      <td>1233.56</td>\n",
       "    </tr>\n",
       "    <tr>\n",
       "      <th>X360</th>\n",
       "      <td>961.24</td>\n",
       "    </tr>\n",
       "    <tr>\n",
       "      <th>PS3</th>\n",
       "      <td>931.34</td>\n",
       "    </tr>\n",
       "    <tr>\n",
       "      <th>Wii</th>\n",
       "      <td>891.18</td>\n",
       "    </tr>\n",
       "    <tr>\n",
       "      <th>DS</th>\n",
       "      <td>802.78</td>\n",
       "    </tr>\n",
       "    <tr>\n",
       "      <th>PS</th>\n",
       "      <td>727.58</td>\n",
       "    </tr>\n",
       "    <tr>\n",
       "      <th>PS4</th>\n",
       "      <td>314.14</td>\n",
       "    </tr>\n",
       "    <tr>\n",
       "      <th>GBA</th>\n",
       "      <td>312.88</td>\n",
       "    </tr>\n",
       "    <tr>\n",
       "      <th>PSP</th>\n",
       "      <td>289.53</td>\n",
       "    </tr>\n",
       "    <tr>\n",
       "      <th>PC</th>\n",
       "      <td>259.52</td>\n",
       "    </tr>\n",
       "    <tr>\n",
       "      <th>3DS</th>\n",
       "      <td>259.00</td>\n",
       "    </tr>\n",
       "    <tr>\n",
       "      <th>GB</th>\n",
       "      <td>254.43</td>\n",
       "    </tr>\n",
       "    <tr>\n",
       "      <th>XB</th>\n",
       "      <td>251.57</td>\n",
       "    </tr>\n",
       "    <tr>\n",
       "      <th>NES</th>\n",
       "      <td>251.05</td>\n",
       "    </tr>\n",
       "    <tr>\n",
       "      <th>N64</th>\n",
       "      <td>218.01</td>\n",
       "    </tr>\n",
       "    <tr>\n",
       "      <th>SNES</th>\n",
       "      <td>200.04</td>\n",
       "    </tr>\n",
       "    <tr>\n",
       "      <th>GC</th>\n",
       "      <td>196.73</td>\n",
       "    </tr>\n",
       "    <tr>\n",
       "      <th>XOne</th>\n",
       "      <td>159.32</td>\n",
       "    </tr>\n",
       "    <tr>\n",
       "      <th>2600</th>\n",
       "      <td>86.48</td>\n",
       "    </tr>\n",
       "    <tr>\n",
       "      <th>WiiU</th>\n",
       "      <td>82.19</td>\n",
       "    </tr>\n",
       "    <tr>\n",
       "      <th>PSV</th>\n",
       "      <td>54.07</td>\n",
       "    </tr>\n",
       "    <tr>\n",
       "      <th>SAT</th>\n",
       "      <td>33.59</td>\n",
       "    </tr>\n",
       "    <tr>\n",
       "      <th>GEN</th>\n",
       "      <td>28.35</td>\n",
       "    </tr>\n",
       "    <tr>\n",
       "      <th>DC</th>\n",
       "      <td>15.95</td>\n",
       "    </tr>\n",
       "    <tr>\n",
       "      <th>SCD</th>\n",
       "      <td>1.86</td>\n",
       "    </tr>\n",
       "    <tr>\n",
       "      <th>NG</th>\n",
       "      <td>1.44</td>\n",
       "    </tr>\n",
       "    <tr>\n",
       "      <th>WS</th>\n",
       "      <td>1.42</td>\n",
       "    </tr>\n",
       "    <tr>\n",
       "      <th>TG16</th>\n",
       "      <td>0.16</td>\n",
       "    </tr>\n",
       "    <tr>\n",
       "      <th>3DO</th>\n",
       "      <td>0.10</td>\n",
       "    </tr>\n",
       "    <tr>\n",
       "      <th>GG</th>\n",
       "      <td>0.04</td>\n",
       "    </tr>\n",
       "    <tr>\n",
       "      <th>PCFX</th>\n",
       "      <td>0.03</td>\n",
       "    </tr>\n",
       "  </tbody>\n",
       "</table>\n",
       "</div>"
      ],
      "text/plain": [
       "          total_sales\n",
       "platform             \n",
       "PS2           1233.56\n",
       "X360           961.24\n",
       "PS3            931.34\n",
       "Wii            891.18\n",
       "DS             802.78\n",
       "PS             727.58\n",
       "PS4            314.14\n",
       "GBA            312.88\n",
       "PSP            289.53\n",
       "PC             259.52\n",
       "3DS            259.00\n",
       "GB             254.43\n",
       "XB             251.57\n",
       "NES            251.05\n",
       "N64            218.01\n",
       "SNES           200.04\n",
       "GC             196.73\n",
       "XOne           159.32\n",
       "2600            86.48\n",
       "WiiU            82.19\n",
       "PSV             54.07\n",
       "SAT             33.59\n",
       "GEN             28.35\n",
       "DC              15.95\n",
       "SCD              1.86\n",
       "NG               1.44\n",
       "WS               1.42\n",
       "TG16             0.16\n",
       "3DO              0.10\n",
       "GG               0.04\n",
       "PCFX             0.03"
      ]
     },
     "execution_count": 34,
     "metadata": {},
     "output_type": "execute_result"
    }
   ],
   "source": [
    "data.pivot_table(index = 'platform', values = 'total_sales',aggfunc='sum').sort_values(by = 'total_sales',ascending = False)"
   ]
  },
  {
   "cell_type": "markdown",
   "metadata": {},
   "source": [
    "Платформы с наибольшими продажами - PS2, X360, PS3, Wii,DS"
   ]
  },
  {
   "cell_type": "markdown",
   "metadata": {},
   "source": [
    "Посмотрим на распределение продаж по годам на этих платформах"
   ]
  },
  {
   "cell_type": "code",
   "execution_count": 35,
   "metadata": {},
   "outputs": [],
   "source": [
    "top_platforms = ['PS2', 'X360', 'PS3', 'Wii','DS']\n",
    "data_top_platforms = data.loc[data['platform'].isin(top_platforms)].pivot_table(index = ['platform','year_of_release'], values = 'total_sales', aggfunc='sum').reset_index()"
   ]
  },
  {
   "cell_type": "code",
   "execution_count": 36,
   "metadata": {
    "scrolled": false
   },
   "outputs": [
    {
     "data": {
      "image/png": "[encoded data removed]",
      "text/plain": [
       "<Figure size 576x2880 with 5 Axes>"
      ]
     },
     "metadata": {
      "needs_background": "light"
     },
     "output_type": "display_data"
    }
   ],
   "source": [
    "g = sns.catplot(x=\"year_of_release\", y='total_sales', row=\"platform\",\n",
    "                   data=data_top_platforms,kind ='bar', color = 'blue',height = 8, sharex = False)"
   ]
  },
  {
   "cell_type": "markdown",
   "metadata": {},
   "source": [
    "Видим, что у этих платформ продажи новых игр на 2016 год либо нулевые, либо очень маленькие по сравнению с продажами ранее, если динамика продолжится, то можно будет констатировать факт, что срок жизни каждой из платформ примерно лет  10-12, далее они скорее всего уже выходят из моды и им на смену приходят более современные платформы. Следует заметить, что у популярных платформ пик продаж достигается на 4-6 год, далее динамика уже идет на спад. "
   ]
  },
  {
   "cell_type": "markdown",
   "metadata": {},
   "source": [
    "Также странным является 1985 года на платформе DS, так как дата выхода этой платформы на рынок - 2004 год, в наших данных нет других данных об этой игре, а также у нее очень много пропусков в столбцах, поэтому удалим эту игру"
   ]
  },
  {
   "cell_type": "code",
   "execution_count": 37,
   "metadata": {},
   "outputs": [
    {
     "data": {
      "text/html": [
       "<div>\n",
       "<style scoped>\n",
       "    .dataframe tbody tr th:only-of-type {\n",
       "        vertical-align: middle;\n",
       "    }\n",
       "\n",
       "    .dataframe tbody tr th {\n",
       "        vertical-align: top;\n",
       "    }\n",
       "\n",
       "    .dataframe thead th {\n",
       "        text-align: right;\n",
       "    }\n",
       "</style>\n",
       "<table border=\"1\" class=\"dataframe\">\n",
       "  <thead>\n",
       "    <tr style=\"text-align: right;\">\n",
       "      <th></th>\n",
       "      <th>name</th>\n",
       "      <th>platform</th>\n",
       "      <th>year_of_release</th>\n",
       "      <th>genre</th>\n",
       "      <th>na_sales</th>\n",
       "      <th>eu_sales</th>\n",
       "      <th>jp_sales</th>\n",
       "      <th>other_sales</th>\n",
       "      <th>critic_score</th>\n",
       "      <th>user_score</th>\n",
       "      <th>rating</th>\n",
       "      <th>total_sales</th>\n",
       "    </tr>\n",
       "  </thead>\n",
       "  <tbody>\n",
       "    <tr>\n",
       "      <th>15957</th>\n",
       "      <td>Strongest Tokyo University Shogi DS</td>\n",
       "      <td>DS</td>\n",
       "      <td>1985.0</td>\n",
       "      <td>Action</td>\n",
       "      <td>0.0</td>\n",
       "      <td>0.0</td>\n",
       "      <td>0.02</td>\n",
       "      <td>0.0</td>\n",
       "      <td>NaN</td>\n",
       "      <td>NaN</td>\n",
       "      <td>No rating</td>\n",
       "      <td>0.02</td>\n",
       "    </tr>\n",
       "  </tbody>\n",
       "</table>\n",
       "</div>"
      ],
      "text/plain": [
       "                                      name platform  year_of_release   genre  \\\n",
       "15957  Strongest Tokyo University Shogi DS       DS           1985.0  Action   \n",
       "\n",
       "       na_sales  eu_sales  jp_sales  other_sales  critic_score  user_score  \\\n",
       "15957       0.0       0.0      0.02          0.0           NaN         NaN   \n",
       "\n",
       "          rating  total_sales  \n",
       "15957  No rating         0.02  "
      ]
     },
     "execution_count": 37,
     "metadata": {},
     "output_type": "execute_result"
    }
   ],
   "source": [
    "data.loc[(data['year_of_release'] == 1985) & (data['platform'] == 'DS')]"
   ]
  },
  {
   "cell_type": "code",
   "execution_count": 38,
   "metadata": {},
   "outputs": [
    {
     "data": {
      "text/html": [
       "<div>\n",
       "<style scoped>\n",
       "    .dataframe tbody tr th:only-of-type {\n",
       "        vertical-align: middle;\n",
       "    }\n",
       "\n",
       "    .dataframe tbody tr th {\n",
       "        vertical-align: top;\n",
       "    }\n",
       "\n",
       "    .dataframe thead th {\n",
       "        text-align: right;\n",
       "    }\n",
       "</style>\n",
       "<table border=\"1\" class=\"dataframe\">\n",
       "  <thead>\n",
       "    <tr style=\"text-align: right;\">\n",
       "      <th></th>\n",
       "      <th>name</th>\n",
       "      <th>platform</th>\n",
       "      <th>year_of_release</th>\n",
       "      <th>genre</th>\n",
       "      <th>na_sales</th>\n",
       "      <th>eu_sales</th>\n",
       "      <th>jp_sales</th>\n",
       "      <th>other_sales</th>\n",
       "      <th>critic_score</th>\n",
       "      <th>user_score</th>\n",
       "      <th>rating</th>\n",
       "      <th>total_sales</th>\n",
       "    </tr>\n",
       "  </thead>\n",
       "  <tbody>\n",
       "    <tr>\n",
       "      <th>15957</th>\n",
       "      <td>Strongest Tokyo University Shogi DS</td>\n",
       "      <td>DS</td>\n",
       "      <td>1985.0</td>\n",
       "      <td>Action</td>\n",
       "      <td>0.0</td>\n",
       "      <td>0.0</td>\n",
       "      <td>0.02</td>\n",
       "      <td>0.0</td>\n",
       "      <td>NaN</td>\n",
       "      <td>NaN</td>\n",
       "      <td>No rating</td>\n",
       "      <td>0.02</td>\n",
       "    </tr>\n",
       "  </tbody>\n",
       "</table>\n",
       "</div>"
      ],
      "text/plain": [
       "                                      name platform  year_of_release   genre  \\\n",
       "15957  Strongest Tokyo University Shogi DS       DS           1985.0  Action   \n",
       "\n",
       "       na_sales  eu_sales  jp_sales  other_sales  critic_score  user_score  \\\n",
       "15957       0.0       0.0      0.02          0.0           NaN         NaN   \n",
       "\n",
       "          rating  total_sales  \n",
       "15957  No rating         0.02  "
      ]
     },
     "execution_count": 38,
     "metadata": {},
     "output_type": "execute_result"
    }
   ],
   "source": [
    "data[data['name'] == 'Strongest Tokyo University Shogi DS']"
   ]
  },
  {
   "cell_type": "code",
   "execution_count": 39,
   "metadata": {},
   "outputs": [],
   "source": [
    "data = data[data['name'] != 'Strongest Tokyo University Shogi DS']"
   ]
  },
  {
   "cell_type": "code",
   "execution_count": 40,
   "metadata": {},
   "outputs": [
    {
     "data": {
      "text/html": [
       "<div>\n",
       "<style scoped>\n",
       "    .dataframe tbody tr th:only-of-type {\n",
       "        vertical-align: middle;\n",
       "    }\n",
       "\n",
       "    .dataframe tbody tr th {\n",
       "        vertical-align: top;\n",
       "    }\n",
       "\n",
       "    .dataframe thead th {\n",
       "        text-align: right;\n",
       "    }\n",
       "</style>\n",
       "<table border=\"1\" class=\"dataframe\">\n",
       "  <thead>\n",
       "    <tr style=\"text-align: right;\">\n",
       "      <th></th>\n",
       "      <th>min_year</th>\n",
       "      <th>max_year</th>\n",
       "      <th>actual_years</th>\n",
       "    </tr>\n",
       "    <tr>\n",
       "      <th>platform</th>\n",
       "      <th></th>\n",
       "      <th></th>\n",
       "      <th></th>\n",
       "    </tr>\n",
       "  </thead>\n",
       "  <tbody>\n",
       "    <tr>\n",
       "      <th>2600</th>\n",
       "      <td>1980.0</td>\n",
       "      <td>1989.0</td>\n",
       "      <td>10.0</td>\n",
       "    </tr>\n",
       "    <tr>\n",
       "      <th>3DO</th>\n",
       "      <td>1994.0</td>\n",
       "      <td>1995.0</td>\n",
       "      <td>2.0</td>\n",
       "    </tr>\n",
       "    <tr>\n",
       "      <th>3DS</th>\n",
       "      <td>2011.0</td>\n",
       "      <td>2016.0</td>\n",
       "      <td>6.0</td>\n",
       "    </tr>\n",
       "    <tr>\n",
       "      <th>DC</th>\n",
       "      <td>1998.0</td>\n",
       "      <td>2008.0</td>\n",
       "      <td>11.0</td>\n",
       "    </tr>\n",
       "    <tr>\n",
       "      <th>DS</th>\n",
       "      <td>2004.0</td>\n",
       "      <td>2013.0</td>\n",
       "      <td>10.0</td>\n",
       "    </tr>\n",
       "    <tr>\n",
       "      <th>GB</th>\n",
       "      <td>1988.0</td>\n",
       "      <td>2001.0</td>\n",
       "      <td>14.0</td>\n",
       "    </tr>\n",
       "    <tr>\n",
       "      <th>GBA</th>\n",
       "      <td>2000.0</td>\n",
       "      <td>2007.0</td>\n",
       "      <td>8.0</td>\n",
       "    </tr>\n",
       "    <tr>\n",
       "      <th>GC</th>\n",
       "      <td>2001.0</td>\n",
       "      <td>2007.0</td>\n",
       "      <td>7.0</td>\n",
       "    </tr>\n",
       "    <tr>\n",
       "      <th>GEN</th>\n",
       "      <td>1990.0</td>\n",
       "      <td>1994.0</td>\n",
       "      <td>5.0</td>\n",
       "    </tr>\n",
       "    <tr>\n",
       "      <th>GG</th>\n",
       "      <td>1992.0</td>\n",
       "      <td>1992.0</td>\n",
       "      <td>1.0</td>\n",
       "    </tr>\n",
       "    <tr>\n",
       "      <th>N64</th>\n",
       "      <td>1996.0</td>\n",
       "      <td>2002.0</td>\n",
       "      <td>7.0</td>\n",
       "    </tr>\n",
       "    <tr>\n",
       "      <th>NES</th>\n",
       "      <td>1983.0</td>\n",
       "      <td>1994.0</td>\n",
       "      <td>12.0</td>\n",
       "    </tr>\n",
       "    <tr>\n",
       "      <th>NG</th>\n",
       "      <td>1993.0</td>\n",
       "      <td>1996.0</td>\n",
       "      <td>4.0</td>\n",
       "    </tr>\n",
       "    <tr>\n",
       "      <th>PC</th>\n",
       "      <td>1985.0</td>\n",
       "      <td>2016.0</td>\n",
       "      <td>32.0</td>\n",
       "    </tr>\n",
       "    <tr>\n",
       "      <th>PCFX</th>\n",
       "      <td>1996.0</td>\n",
       "      <td>1996.0</td>\n",
       "      <td>1.0</td>\n",
       "    </tr>\n",
       "    <tr>\n",
       "      <th>PS</th>\n",
       "      <td>1994.0</td>\n",
       "      <td>2003.0</td>\n",
       "      <td>10.0</td>\n",
       "    </tr>\n",
       "    <tr>\n",
       "      <th>PS2</th>\n",
       "      <td>2000.0</td>\n",
       "      <td>2011.0</td>\n",
       "      <td>12.0</td>\n",
       "    </tr>\n",
       "    <tr>\n",
       "      <th>PS3</th>\n",
       "      <td>2006.0</td>\n",
       "      <td>2016.0</td>\n",
       "      <td>11.0</td>\n",
       "    </tr>\n",
       "    <tr>\n",
       "      <th>PS4</th>\n",
       "      <td>2013.0</td>\n",
       "      <td>2016.0</td>\n",
       "      <td>4.0</td>\n",
       "    </tr>\n",
       "    <tr>\n",
       "      <th>PSP</th>\n",
       "      <td>2004.0</td>\n",
       "      <td>2015.0</td>\n",
       "      <td>12.0</td>\n",
       "    </tr>\n",
       "    <tr>\n",
       "      <th>PSV</th>\n",
       "      <td>2011.0</td>\n",
       "      <td>2016.0</td>\n",
       "      <td>6.0</td>\n",
       "    </tr>\n",
       "    <tr>\n",
       "      <th>SAT</th>\n",
       "      <td>1994.0</td>\n",
       "      <td>1999.0</td>\n",
       "      <td>6.0</td>\n",
       "    </tr>\n",
       "    <tr>\n",
       "      <th>SCD</th>\n",
       "      <td>1993.0</td>\n",
       "      <td>1994.0</td>\n",
       "      <td>2.0</td>\n",
       "    </tr>\n",
       "    <tr>\n",
       "      <th>SNES</th>\n",
       "      <td>1990.0</td>\n",
       "      <td>1999.0</td>\n",
       "      <td>10.0</td>\n",
       "    </tr>\n",
       "    <tr>\n",
       "      <th>TG16</th>\n",
       "      <td>1995.0</td>\n",
       "      <td>1995.0</td>\n",
       "      <td>1.0</td>\n",
       "    </tr>\n",
       "    <tr>\n",
       "      <th>WS</th>\n",
       "      <td>1999.0</td>\n",
       "      <td>2001.0</td>\n",
       "      <td>3.0</td>\n",
       "    </tr>\n",
       "    <tr>\n",
       "      <th>Wii</th>\n",
       "      <td>2006.0</td>\n",
       "      <td>2016.0</td>\n",
       "      <td>11.0</td>\n",
       "    </tr>\n",
       "    <tr>\n",
       "      <th>WiiU</th>\n",
       "      <td>2012.0</td>\n",
       "      <td>2016.0</td>\n",
       "      <td>5.0</td>\n",
       "    </tr>\n",
       "    <tr>\n",
       "      <th>X360</th>\n",
       "      <td>2005.0</td>\n",
       "      <td>2016.0</td>\n",
       "      <td>12.0</td>\n",
       "    </tr>\n",
       "    <tr>\n",
       "      <th>XB</th>\n",
       "      <td>2000.0</td>\n",
       "      <td>2008.0</td>\n",
       "      <td>9.0</td>\n",
       "    </tr>\n",
       "    <tr>\n",
       "      <th>XOne</th>\n",
       "      <td>2013.0</td>\n",
       "      <td>2016.0</td>\n",
       "      <td>4.0</td>\n",
       "    </tr>\n",
       "  </tbody>\n",
       "</table>\n",
       "</div>"
      ],
      "text/plain": [
       "          min_year  max_year  actual_years\n",
       "platform                                  \n",
       "2600        1980.0    1989.0          10.0\n",
       "3DO         1994.0    1995.0           2.0\n",
       "3DS         2011.0    2016.0           6.0\n",
       "DC          1998.0    2008.0          11.0\n",
       "DS          2004.0    2013.0          10.0\n",
       "GB          1988.0    2001.0          14.0\n",
       "GBA         2000.0    2007.0           8.0\n",
       "GC          2001.0    2007.0           7.0\n",
       "GEN         1990.0    1994.0           5.0\n",
       "GG          1992.0    1992.0           1.0\n",
       "N64         1996.0    2002.0           7.0\n",
       "NES         1983.0    1994.0          12.0\n",
       "NG          1993.0    1996.0           4.0\n",
       "PC          1985.0    2016.0          32.0\n",
       "PCFX        1996.0    1996.0           1.0\n",
       "PS          1994.0    2003.0          10.0\n",
       "PS2         2000.0    2011.0          12.0\n",
       "PS3         2006.0    2016.0          11.0\n",
       "PS4         2013.0    2016.0           4.0\n",
       "PSP         2004.0    2015.0          12.0\n",
       "PSV         2011.0    2016.0           6.0\n",
       "SAT         1994.0    1999.0           6.0\n",
       "SCD         1993.0    1994.0           2.0\n",
       "SNES        1990.0    1999.0          10.0\n",
       "TG16        1995.0    1995.0           1.0\n",
       "WS          1999.0    2001.0           3.0\n",
       "Wii         2006.0    2016.0          11.0\n",
       "WiiU        2012.0    2016.0           5.0\n",
       "X360        2005.0    2016.0          12.0\n",
       "XB          2000.0    2008.0           9.0\n",
       "XOne        2013.0    2016.0           4.0"
      ]
     },
     "execution_count": 40,
     "metadata": {},
     "output_type": "execute_result"
    }
   ],
   "source": [
    "statistic = data.pivot_table(index = 'platform', values = 'year_of_release', aggfunc=['min','max'])\n",
    "statistic.columns = ['min_year','max_year']\n",
    "statistic['actual_years'] = statistic['max_year'] - statistic['min_year'] + 1\n",
    "statistic"
   ]
  },
  {
   "cell_type": "code",
   "execution_count": 41,
   "metadata": {},
   "outputs": [
    {
     "data": {
      "text/plain": [
       "<AxesSubplot:xlabel='year_of_release'>"
      ]
     },
     "execution_count": 41,
     "metadata": {},
     "output_type": "execute_result"
    },
    {
     "data": {
      "image/png": "[encoded data removed]",
      "text/plain": [
       "<Figure size 1440x720 with 1 Axes>"
      ]
     },
     "metadata": {
      "needs_background": "light"
     },
     "output_type": "display_data"
    }
   ],
   "source": [
    "data = data[data['year_of_release']>=2006]\n",
    "cross_tab_prop = pd.crosstab(index=data['year_of_release'],\n",
    "                             columns=data['platform'],\n",
    "                             values = data['total_sales'],\n",
    "                             aggfunc='sum',\n",
    "                             normalize=\"index\")\n",
    "cross_tab_prop.plot.bar(rot = 0,figsize = (20,10), stacked = True)"
   ]
  },
  {
   "cell_type": "markdown",
   "metadata": {},
   "source": [
    "Так как нам нужно спрогнозировать продажи на 2017 год, то мы не будем рассматривать игры до 2006 года, так как они или были выпущены на неактуальной сейчас платформе, или же если они были популярными, то есть уже скорее всего следующая часть этой игры, возможно на более современной платформе, и тогда эта часть неактуальна, а если эта игра старая и к тому же еще и непопулярная, тогда с большой долей вероятности ей и не заинтересуются в 2017. \n",
    "Также учитывая, что мы прогнозируем продажи на 2017 год,а обычно для задач прогнозирования, особенно в такой переменчивой индустрии, используют данные за последние 2-4 года, а начиная с 2012 как раз произошли большие изменения в структуре рынка - резкий спад в количестве новых игр, и если мы будем рассматривать игры до 2012 года, то различие в количестве продаж в 2007-2011 и 2012-2016 могут дать неточные результаты, также мы видим, что в 2011-2012 начинает меняться структура рынка с точки зрения популярности платформ."
   ]
  },
  {
   "cell_type": "code",
   "execution_count": 42,
   "metadata": {},
   "outputs": [
    {
     "data": {
      "text/plain": [
       "2886"
      ]
     },
     "execution_count": 42,
     "metadata": {},
     "output_type": "execute_result"
    }
   ],
   "source": [
    "data = data[data['year_of_release'] >= 2012]\n",
    "len(data)"
   ]
  },
  {
   "cell_type": "markdown",
   "metadata": {},
   "source": [
    "Теперь уже на актуальном для нас временном промежутке посмотрим, какие платформы лидируют по продажам"
   ]
  },
  {
   "cell_type": "code",
   "execution_count": 43,
   "metadata": {},
   "outputs": [
    {
     "data": {
      "text/html": [
       "<div>\n",
       "<style scoped>\n",
       "    .dataframe tbody tr th:only-of-type {\n",
       "        vertical-align: middle;\n",
       "    }\n",
       "\n",
       "    .dataframe tbody tr th {\n",
       "        vertical-align: top;\n",
       "    }\n",
       "\n",
       "    .dataframe thead th {\n",
       "        text-align: right;\n",
       "    }\n",
       "</style>\n",
       "<table border=\"1\" class=\"dataframe\">\n",
       "  <thead>\n",
       "    <tr style=\"text-align: right;\">\n",
       "      <th></th>\n",
       "      <th>total_sales</th>\n",
       "    </tr>\n",
       "    <tr>\n",
       "      <th>platform</th>\n",
       "      <th></th>\n",
       "    </tr>\n",
       "  </thead>\n",
       "  <tbody>\n",
       "    <tr>\n",
       "      <th>PS4</th>\n",
       "      <td>314.14</td>\n",
       "    </tr>\n",
       "    <tr>\n",
       "      <th>PS3</th>\n",
       "      <td>288.79</td>\n",
       "    </tr>\n",
       "    <tr>\n",
       "      <th>X360</th>\n",
       "      <td>236.54</td>\n",
       "    </tr>\n",
       "    <tr>\n",
       "      <th>3DS</th>\n",
       "      <td>194.61</td>\n",
       "    </tr>\n",
       "    <tr>\n",
       "      <th>XOne</th>\n",
       "      <td>159.32</td>\n",
       "    </tr>\n",
       "    <tr>\n",
       "      <th>WiiU</th>\n",
       "      <td>82.19</td>\n",
       "    </tr>\n",
       "    <tr>\n",
       "      <th>PC</th>\n",
       "      <td>62.65</td>\n",
       "    </tr>\n",
       "    <tr>\n",
       "      <th>PSV</th>\n",
       "      <td>49.18</td>\n",
       "    </tr>\n",
       "    <tr>\n",
       "      <th>Wii</th>\n",
       "      <td>35.37</td>\n",
       "    </tr>\n",
       "    <tr>\n",
       "      <th>DS</th>\n",
       "      <td>12.55</td>\n",
       "    </tr>\n",
       "    <tr>\n",
       "      <th>PSP</th>\n",
       "      <td>11.19</td>\n",
       "    </tr>\n",
       "  </tbody>\n",
       "</table>\n",
       "</div>"
      ],
      "text/plain": [
       "          total_sales\n",
       "platform             \n",
       "PS4            314.14\n",
       "PS3            288.79\n",
       "X360           236.54\n",
       "3DS            194.61\n",
       "XOne           159.32\n",
       "WiiU            82.19\n",
       "PC              62.65\n",
       "PSV             49.18\n",
       "Wii             35.37\n",
       "DS              12.55\n",
       "PSP             11.19"
      ]
     },
     "execution_count": 43,
     "metadata": {},
     "output_type": "execute_result"
    }
   ],
   "source": [
    "data.pivot_table(index = 'platform', values = 'total_sales',aggfunc='sum').sort_values(by = 'total_sales',ascending = False)"
   ]
  },
  {
   "cell_type": "markdown",
   "metadata": {},
   "source": [
    "Лидирующие по продажам платформы - PS4, PS3, X360,3DS, XOne. Следует также отметить, что как и ожидалось, количество платформ значительно уменьшилось"
   ]
  },
  {
   "cell_type": "markdown",
   "metadata": {},
   "source": [
    "Посмотрим на динамику продаж на этих 5 платформах"
   ]
  },
  {
   "cell_type": "code",
   "execution_count": 44,
   "metadata": {},
   "outputs": [
    {
     "data": {
      "image/png": "[encoded data removed]",
      "text/plain": [
       "<Figure size 1080x1800 with 5 Axes>"
      ]
     },
     "metadata": {
      "needs_background": "light"
     },
     "output_type": "display_data"
    }
   ],
   "source": [
    "top_platforms = ['X360','PS3','XOne','3DS','PS4']\n",
    "data_top_platforms = data.loc[data['platform'].isin(top_platforms)].pivot_table(index = ['platform','year_of_release'], values = 'total_sales', aggfunc='sum').reset_index()\n",
    "g = sns.catplot(x=\"year_of_release\", y='total_sales', row=\"platform\",\n",
    "                   data=data_top_platforms,kind ='bar', color = 'purple',height = 5, sharex = False, aspect = 3)"
   ]
  },
  {
   "cell_type": "markdown",
   "metadata": {},
   "source": [
    "Следует отметить, что так как данные за 2016 год неполные, то мы не можем делать выводы о спаде количества продаж игр этого года, однако мы можем заметить рост продаж у платформ XOne,PS4 за 2013-2015, спад продаж у платформ X360,PS3, и небольшой спад у платформы 3DS, спад у платформ X360,PS3 и рост XOne, PS4 можно объяснить тем, что XOne - замена X360, а PS4 - замена PS3"
   ]
  },
  {
   "cell_type": "code",
   "execution_count": 45,
   "metadata": {},
   "outputs": [
    {
     "data": {
      "text/plain": [
       "<AxesSubplot:xlabel='year_of_release'>"
      ]
     },
     "execution_count": 45,
     "metadata": {},
     "output_type": "execute_result"
    },
    {
     "data": {
      "image/png": "[encoded data removed]",
      "text/plain": [
       "<Figure size 1440x720 with 1 Axes>"
      ]
     },
     "metadata": {
      "needs_background": "light"
     },
     "output_type": "display_data"
    }
   ],
   "source": [
    "data.pivot_table(index = 'year_of_release', columns = 'platform', values = 'total_sales', aggfunc='sum').fillna(0).plot.bar(rot = 0,figsize = (20,10), stacked = True)"
   ]
  },
  {
   "cell_type": "markdown",
   "metadata": {},
   "source": [
    "Как мы видим по графику - платформы PS4, 3DS, XOne - наиболее перспективны. Игры на других платформах выпускают значительно меньше (или же вообще не выпускают), что свидетельствует о том, что платформа потеряла актуальность, или же современные игры на этих платформах не покупают, что также свидетельствует о ее неперспективности. О перспективности указанных платформ говорит также то, что они являются преемниками более старых очень популярных платформ PS3, DS, X360"
   ]
  },
  {
   "cell_type": "markdown",
   "metadata": {},
   "source": [
    "Рассмотрим глобальные продажи игр по платформам"
   ]
  },
  {
   "cell_type": "code",
   "execution_count": 46,
   "metadata": {},
   "outputs": [
    {
     "data": {
      "text/plain": [
       "<AxesSubplot:xlabel='platform', ylabel='total_sales'>"
      ]
     },
     "execution_count": 46,
     "metadata": {},
     "output_type": "execute_result"
    },
    {
     "data": {
      "image/png": "[encoded data removed]",
      "text/plain": [
       "<Figure size 1800x1080 with 1 Axes>"
      ]
     },
     "metadata": {
      "needs_background": "light"
     },
     "output_type": "display_data"
    }
   ],
   "source": [
    "plt.figure(figsize=(25,15))\n",
    "sns.boxplot(x = 'platform', y = 'total_sales', data = data)"
   ]
  },
  {
   "cell_type": "code",
   "execution_count": 47,
   "metadata": {},
   "outputs": [
    {
     "data": {
      "text/html": [
       "<div>\n",
       "<style scoped>\n",
       "    .dataframe tbody tr th:only-of-type {\n",
       "        vertical-align: middle;\n",
       "    }\n",
       "\n",
       "    .dataframe tbody tr th {\n",
       "        vertical-align: top;\n",
       "    }\n",
       "\n",
       "    .dataframe thead th {\n",
       "        text-align: right;\n",
       "    }\n",
       "</style>\n",
       "<table border=\"1\" class=\"dataframe\">\n",
       "  <thead>\n",
       "    <tr style=\"text-align: right;\">\n",
       "      <th></th>\n",
       "      <th>name</th>\n",
       "      <th>platform</th>\n",
       "      <th>year_of_release</th>\n",
       "      <th>genre</th>\n",
       "      <th>na_sales</th>\n",
       "      <th>eu_sales</th>\n",
       "      <th>jp_sales</th>\n",
       "      <th>other_sales</th>\n",
       "      <th>critic_score</th>\n",
       "      <th>user_score</th>\n",
       "      <th>rating</th>\n",
       "      <th>total_sales</th>\n",
       "    </tr>\n",
       "  </thead>\n",
       "  <tbody>\n",
       "    <tr>\n",
       "      <th>16</th>\n",
       "      <td>Grand Theft Auto V</td>\n",
       "      <td>PS3</td>\n",
       "      <td>2013.0</td>\n",
       "      <td>Action</td>\n",
       "      <td>7.02</td>\n",
       "      <td>9.09</td>\n",
       "      <td>0.98</td>\n",
       "      <td>3.96</td>\n",
       "      <td>97.0</td>\n",
       "      <td>8.2</td>\n",
       "      <td>M</td>\n",
       "      <td>21.05</td>\n",
       "    </tr>\n",
       "  </tbody>\n",
       "</table>\n",
       "</div>"
      ],
      "text/plain": [
       "                  name platform  year_of_release   genre  na_sales  eu_sales  \\\n",
       "16  Grand Theft Auto V      PS3           2013.0  Action      7.02      9.09   \n",
       "\n",
       "    jp_sales  other_sales  critic_score  user_score rating  total_sales  \n",
       "16      0.98         3.96          97.0         8.2      M        21.05  "
      ]
     },
     "execution_count": 47,
     "metadata": {},
     "output_type": "execute_result"
    }
   ],
   "source": [
    "data[data['total_sales'] > 20]"
   ]
  },
  {
   "cell_type": "markdown",
   "metadata": {},
   "source": [
    "Grand Theft Auto V - безусловный лидер в играх по продажам, примем во внимание то, что на графике есть такие выдающиеся выбросы, возможно часть бюджета можно будет направить на рекламу этих очень популярных игр, и рассмотрим основную массу игр (без выбросов)"
   ]
  },
  {
   "cell_type": "code",
   "execution_count": 48,
   "metadata": {},
   "outputs": [
    {
     "data": {
      "text/plain": [
       "<AxesSubplot:xlabel='platform', ylabel='total_sales'>"
      ]
     },
     "execution_count": 48,
     "metadata": {},
     "output_type": "execute_result"
    },
    {
     "data": {
      "image/png": "[encoded data removed]",
      "text/plain": [
       "<Figure size 1800x1080 with 1 Axes>"
      ]
     },
     "metadata": {
      "needs_background": "light"
     },
     "output_type": "display_data"
    }
   ],
   "source": [
    "plt.figure(figsize=(25,15))\n",
    "sns.boxplot(x = 'platform', y = 'total_sales', data = data,showfliers = False)"
   ]
  },
  {
   "cell_type": "markdown",
   "metadata": {},
   "source": [
    "Видим, что в основном медианное значение общего количества продаж у всех платформ достаточно низкое, это говорит о том, что большинство игр не производят фурор, однако следует заметить, что практически у каждой платформы есть огромные выбросы. Следует также отметить, что платформы XOne, X360 имеют одну из самых больших медиан и квартилей, самые низкие - у PSP, PSV, DS, так как в период с 2012 года PSP и DS уже считались устаревшими, а платформа PSV просто не пользовалась большим таким большим спросом, как например та же XOne"
   ]
  },
  {
   "cell_type": "code",
   "execution_count": 49,
   "metadata": {},
   "outputs": [
    {
     "data": {
      "text/plain": [
       "array([\" Frozen: Olaf's Quest\", 'Animal Crossing: New Leaf',\n",
       "       \"Assassin's Creed III: Liberation\",\n",
       "       'Call of Duty Black Ops: Declassified',\n",
       "       'Call of Duty: Advanced Warfare', 'Call of Duty: Advanced Warfare',\n",
       "       'Call of Duty: Black Ops 3', 'Call of Duty: Black Ops 3',\n",
       "       'Call of Duty: Black Ops II', 'Call of Duty: Black Ops II',\n",
       "       'Call of Duty: Ghosts', 'Call of Duty: Ghosts',\n",
       "       'Dai-2-Ji Super Robot Taisen Z Saisei-hen', 'Diablo III',\n",
       "       'FIFA 14', 'FIFA 16', 'FIFA Soccer 13', 'FIFA Soccer 13',\n",
       "       'Fallout 4', 'Grand Theft Auto V', 'Grand Theft Auto V',\n",
       "       'Grand Theft Auto V', 'Grand Theft Auto V', 'Guild Wars 2',\n",
       "       'Halo 4', 'Halo 5: Guardians', 'Just Dance 2014', 'Just Dance 4',\n",
       "       'LEGO Batman 2: DC Super Heroes', 'LittleBigPlanet PS Vita',\n",
       "       'Mario Kart 8', 'Mario Party 9', 'Minecraft', 'Minecraft',\n",
       "       'Moshi Monsters: Moshlings Theme Park', 'New Super Mario Bros. 2',\n",
       "       'New Super Mario Bros. U', 'Nintendo Land',\n",
       "       'One Piece: Romance Dawn - Bouken no Yoake', 'Persona 4: Golden',\n",
       "       'Pokemon Black 2/Pokemon White 2', 'Pokemon Conquest',\n",
       "       'Pokemon Omega Ruby/Pokemon Alpha Sapphire', 'Pokemon X/Pokemon Y',\n",
       "       'Pro Evolution Soccer 2013', 'SD Gundam G Generation: Overworld',\n",
       "       'Skylanders Giants', 'Skylanders SWAP Force', 'Splatoon',\n",
       "       'Star Wars Battlefront (2015)', 'StarCraft II: Heart of the Swarm',\n",
       "       'Super Smash Bros. for Wii U and 3DS',\n",
       "       'Super Smash Bros. for Wii U and 3DS', 'The Sims 4',\n",
       "       'World of Warcraft: Mists of Pandaria'], dtype='<U41')"
      ]
     },
     "execution_count": 49,
     "metadata": {},
     "output_type": "execute_result"
    }
   ],
   "source": [
    "top_for_platforms = data.groupby('platform')[['name','total_sales','platform']].head(5).sort_values(by = 'platform')\n",
    "np.sort(list(top_for_platforms['name']))"
   ]
  },
  {
   "cell_type": "code",
   "execution_count": 50,
   "metadata": {},
   "outputs": [
    {
     "data": {
      "text/html": [
       "<div>\n",
       "<style scoped>\n",
       "    .dataframe tbody tr th:only-of-type {\n",
       "        vertical-align: middle;\n",
       "    }\n",
       "\n",
       "    .dataframe tbody tr th {\n",
       "        vertical-align: top;\n",
       "    }\n",
       "\n",
       "    .dataframe thead th {\n",
       "        text-align: right;\n",
       "    }\n",
       "</style>\n",
       "<table border=\"1\" class=\"dataframe\">\n",
       "  <thead>\n",
       "    <tr style=\"text-align: right;\">\n",
       "      <th></th>\n",
       "      <th>name</th>\n",
       "      <th>total_sales</th>\n",
       "      <th>platform</th>\n",
       "    </tr>\n",
       "  </thead>\n",
       "  <tbody>\n",
       "    <tr>\n",
       "      <th>3862</th>\n",
       "      <td>Frozen: Olaf's Quest</td>\n",
       "      <td>0.51</td>\n",
       "      <td>DS</td>\n",
       "    </tr>\n",
       "    <tr>\n",
       "      <th>73</th>\n",
       "      <td>Animal Crossing: New Leaf</td>\n",
       "      <td>9.17</td>\n",
       "      <td>3DS</td>\n",
       "    </tr>\n",
       "    <tr>\n",
       "      <th>1485</th>\n",
       "      <td>Assassin's Creed III: Liberation</td>\n",
       "      <td>1.31</td>\n",
       "      <td>PSV</td>\n",
       "    </tr>\n",
       "    <tr>\n",
       "      <th>1294</th>\n",
       "      <td>Call of Duty Black Ops: Declassified</td>\n",
       "      <td>1.47</td>\n",
       "      <td>PSV</td>\n",
       "    </tr>\n",
       "    <tr>\n",
       "      <th>92</th>\n",
       "      <td>Call of Duty: Advanced Warfare</td>\n",
       "      <td>7.66</td>\n",
       "      <td>PS4</td>\n",
       "    </tr>\n",
       "    <tr>\n",
       "      <th>179</th>\n",
       "      <td>Call of Duty: Advanced Warfare</td>\n",
       "      <td>5.26</td>\n",
       "      <td>XOne</td>\n",
       "    </tr>\n",
       "    <tr>\n",
       "      <th>31</th>\n",
       "      <td>Call of Duty: Black Ops 3</td>\n",
       "      <td>14.63</td>\n",
       "      <td>PS4</td>\n",
       "    </tr>\n",
       "    <tr>\n",
       "      <th>99</th>\n",
       "      <td>Call of Duty: Black Ops 3</td>\n",
       "      <td>7.39</td>\n",
       "      <td>XOne</td>\n",
       "    </tr>\n",
       "    <tr>\n",
       "      <th>34</th>\n",
       "      <td>Call of Duty: Black Ops II</td>\n",
       "      <td>13.79</td>\n",
       "      <td>PS3</td>\n",
       "    </tr>\n",
       "    <tr>\n",
       "      <th>35</th>\n",
       "      <td>Call of Duty: Black Ops II</td>\n",
       "      <td>13.68</td>\n",
       "      <td>X360</td>\n",
       "    </tr>\n",
       "    <tr>\n",
       "      <th>60</th>\n",
       "      <td>Call of Duty: Ghosts</td>\n",
       "      <td>10.24</td>\n",
       "      <td>X360</td>\n",
       "    </tr>\n",
       "    <tr>\n",
       "      <th>69</th>\n",
       "      <td>Call of Duty: Ghosts</td>\n",
       "      <td>9.36</td>\n",
       "      <td>PS3</td>\n",
       "    </tr>\n",
       "    <tr>\n",
       "      <th>5222</th>\n",
       "      <td>Dai-2-Ji Super Robot Taisen Z Saisei-hen</td>\n",
       "      <td>0.36</td>\n",
       "      <td>PSP</td>\n",
       "    </tr>\n",
       "    <tr>\n",
       "      <th>192</th>\n",
       "      <td>Diablo III</td>\n",
       "      <td>5.14</td>\n",
       "      <td>PC</td>\n",
       "    </tr>\n",
       "    <tr>\n",
       "      <th>126</th>\n",
       "      <td>FIFA 14</td>\n",
       "      <td>6.46</td>\n",
       "      <td>PS3</td>\n",
       "    </tr>\n",
       "    <tr>\n",
       "      <th>77</th>\n",
       "      <td>FIFA 16</td>\n",
       "      <td>8.58</td>\n",
       "      <td>PS4</td>\n",
       "    </tr>\n",
       "    <tr>\n",
       "      <th>81</th>\n",
       "      <td>FIFA Soccer 13</td>\n",
       "      <td>8.17</td>\n",
       "      <td>PS3</td>\n",
       "    </tr>\n",
       "    <tr>\n",
       "      <th>5300</th>\n",
       "      <td>FIFA Soccer 13</td>\n",
       "      <td>0.34</td>\n",
       "      <td>PSP</td>\n",
       "    </tr>\n",
       "    <tr>\n",
       "      <th>270</th>\n",
       "      <td>Fallout 4</td>\n",
       "      <td>4.22</td>\n",
       "      <td>XOne</td>\n",
       "    </tr>\n",
       "    <tr>\n",
       "      <th>42</th>\n",
       "      <td>Grand Theft Auto V</td>\n",
       "      <td>12.62</td>\n",
       "      <td>PS4</td>\n",
       "    </tr>\n",
       "    <tr>\n",
       "      <th>23</th>\n",
       "      <td>Grand Theft Auto V</td>\n",
       "      <td>16.27</td>\n",
       "      <td>X360</td>\n",
       "    </tr>\n",
       "    <tr>\n",
       "      <th>165</th>\n",
       "      <td>Grand Theft Auto V</td>\n",
       "      <td>5.47</td>\n",
       "      <td>XOne</td>\n",
       "    </tr>\n",
       "    <tr>\n",
       "      <th>16</th>\n",
       "      <td>Grand Theft Auto V</td>\n",
       "      <td>21.05</td>\n",
       "      <td>PS3</td>\n",
       "    </tr>\n",
       "    <tr>\n",
       "      <th>688</th>\n",
       "      <td>Guild Wars 2</td>\n",
       "      <td>2.30</td>\n",
       "      <td>PC</td>\n",
       "    </tr>\n",
       "    <tr>\n",
       "      <th>66</th>\n",
       "      <td>Halo 4</td>\n",
       "      <td>9.71</td>\n",
       "      <td>X360</td>\n",
       "    </tr>\n",
       "    <tr>\n",
       "      <th>242</th>\n",
       "      <td>Halo 5: Guardians</td>\n",
       "      <td>4.49</td>\n",
       "      <td>XOne</td>\n",
       "    </tr>\n",
       "    <tr>\n",
       "      <th>359</th>\n",
       "      <td>Just Dance 2014</td>\n",
       "      <td>3.58</td>\n",
       "      <td>Wii</td>\n",
       "    </tr>\n",
       "    <tr>\n",
       "      <th>116</th>\n",
       "      <td>Just Dance 4</td>\n",
       "      <td>6.76</td>\n",
       "      <td>Wii</td>\n",
       "    </tr>\n",
       "    <tr>\n",
       "      <th>2963</th>\n",
       "      <td>LEGO Batman 2: DC Super Heroes</td>\n",
       "      <td>0.69</td>\n",
       "      <td>DS</td>\n",
       "    </tr>\n",
       "    <tr>\n",
       "      <th>1595</th>\n",
       "      <td>LittleBigPlanet PS Vita</td>\n",
       "      <td>1.25</td>\n",
       "      <td>PSV</td>\n",
       "    </tr>\n",
       "    <tr>\n",
       "      <th>110</th>\n",
       "      <td>Mario Kart 8</td>\n",
       "      <td>7.09</td>\n",
       "      <td>WiiU</td>\n",
       "    </tr>\n",
       "    <tr>\n",
       "      <th>439</th>\n",
       "      <td>Mario Party 9</td>\n",
       "      <td>3.13</td>\n",
       "      <td>Wii</td>\n",
       "    </tr>\n",
       "    <tr>\n",
       "      <th>72</th>\n",
       "      <td>Minecraft</td>\n",
       "      <td>9.18</td>\n",
       "      <td>X360</td>\n",
       "    </tr>\n",
       "    <tr>\n",
       "      <th>868</th>\n",
       "      <td>Minecraft</td>\n",
       "      <td>1.96</td>\n",
       "      <td>PSV</td>\n",
       "    </tr>\n",
       "    <tr>\n",
       "      <th>4845</th>\n",
       "      <td>Moshi Monsters: Moshlings Theme Park</td>\n",
       "      <td>0.40</td>\n",
       "      <td>DS</td>\n",
       "    </tr>\n",
       "    <tr>\n",
       "      <th>62</th>\n",
       "      <td>New Super Mario Bros. 2</td>\n",
       "      <td>9.90</td>\n",
       "      <td>3DS</td>\n",
       "    </tr>\n",
       "    <tr>\n",
       "      <th>185</th>\n",
       "      <td>New Super Mario Bros. U</td>\n",
       "      <td>5.23</td>\n",
       "      <td>WiiU</td>\n",
       "    </tr>\n",
       "    <tr>\n",
       "      <th>248</th>\n",
       "      <td>Nintendo Land</td>\n",
       "      <td>4.42</td>\n",
       "      <td>WiiU</td>\n",
       "    </tr>\n",
       "    <tr>\n",
       "      <th>5553</th>\n",
       "      <td>One Piece: Romance Dawn - Bouken no Yoake</td>\n",
       "      <td>0.32</td>\n",
       "      <td>PSP</td>\n",
       "    </tr>\n",
       "    <tr>\n",
       "      <th>1831</th>\n",
       "      <td>Persona 4: Golden</td>\n",
       "      <td>1.12</td>\n",
       "      <td>PSV</td>\n",
       "    </tr>\n",
       "    <tr>\n",
       "      <th>83</th>\n",
       "      <td>Pokemon Black 2/Pokemon White 2</td>\n",
       "      <td>8.06</td>\n",
       "      <td>DS</td>\n",
       "    </tr>\n",
       "    <tr>\n",
       "      <th>2039</th>\n",
       "      <td>Pokemon Conquest</td>\n",
       "      <td>1.02</td>\n",
       "      <td>DS</td>\n",
       "    </tr>\n",
       "    <tr>\n",
       "      <th>47</th>\n",
       "      <td>Pokemon Omega Ruby/Pokemon Alpha Sapphire</td>\n",
       "      <td>11.68</td>\n",
       "      <td>3DS</td>\n",
       "    </tr>\n",
       "    <tr>\n",
       "      <th>33</th>\n",
       "      <td>Pokemon X/Pokemon Y</td>\n",
       "      <td>14.60</td>\n",
       "      <td>3DS</td>\n",
       "    </tr>\n",
       "    <tr>\n",
       "      <th>6369</th>\n",
       "      <td>Pro Evolution Soccer 2013</td>\n",
       "      <td>0.28</td>\n",
       "      <td>PSP</td>\n",
       "    </tr>\n",
       "    <tr>\n",
       "      <th>5788</th>\n",
       "      <td>SD Gundam G Generation: Overworld</td>\n",
       "      <td>0.31</td>\n",
       "      <td>PSP</td>\n",
       "    </tr>\n",
       "    <tr>\n",
       "      <th>614</th>\n",
       "      <td>Skylanders Giants</td>\n",
       "      <td>2.52</td>\n",
       "      <td>Wii</td>\n",
       "    </tr>\n",
       "    <tr>\n",
       "      <th>766</th>\n",
       "      <td>Skylanders SWAP Force</td>\n",
       "      <td>2.15</td>\n",
       "      <td>Wii</td>\n",
       "    </tr>\n",
       "    <tr>\n",
       "      <th>247</th>\n",
       "      <td>Splatoon</td>\n",
       "      <td>4.44</td>\n",
       "      <td>WiiU</td>\n",
       "    </tr>\n",
       "    <tr>\n",
       "      <th>87</th>\n",
       "      <td>Star Wars Battlefront (2015)</td>\n",
       "      <td>7.98</td>\n",
       "      <td>PS4</td>\n",
       "    </tr>\n",
       "    <tr>\n",
       "      <th>1095</th>\n",
       "      <td>StarCraft II: Heart of the Swarm</td>\n",
       "      <td>1.67</td>\n",
       "      <td>PC</td>\n",
       "    </tr>\n",
       "    <tr>\n",
       "      <th>96</th>\n",
       "      <td>Super Smash Bros. for Wii U and 3DS</td>\n",
       "      <td>7.55</td>\n",
       "      <td>3DS</td>\n",
       "    </tr>\n",
       "    <tr>\n",
       "      <th>216</th>\n",
       "      <td>Super Smash Bros. for Wii U and 3DS</td>\n",
       "      <td>4.87</td>\n",
       "      <td>WiiU</td>\n",
       "    </tr>\n",
       "    <tr>\n",
       "      <th>458</th>\n",
       "      <td>The Sims 4</td>\n",
       "      <td>3.05</td>\n",
       "      <td>PC</td>\n",
       "    </tr>\n",
       "    <tr>\n",
       "      <th>959</th>\n",
       "      <td>World of Warcraft: Mists of Pandaria</td>\n",
       "      <td>1.82</td>\n",
       "      <td>PC</td>\n",
       "    </tr>\n",
       "  </tbody>\n",
       "</table>\n",
       "</div>"
      ],
      "text/plain": [
       "                                           name  total_sales platform\n",
       "3862                       Frozen: Olaf's Quest         0.51       DS\n",
       "73                    Animal Crossing: New Leaf         9.17      3DS\n",
       "1485           Assassin's Creed III: Liberation         1.31      PSV\n",
       "1294       Call of Duty Black Ops: Declassified         1.47      PSV\n",
       "92               Call of Duty: Advanced Warfare         7.66      PS4\n",
       "179              Call of Duty: Advanced Warfare         5.26     XOne\n",
       "31                    Call of Duty: Black Ops 3        14.63      PS4\n",
       "99                    Call of Duty: Black Ops 3         7.39     XOne\n",
       "34                   Call of Duty: Black Ops II        13.79      PS3\n",
       "35                   Call of Duty: Black Ops II        13.68     X360\n",
       "60                         Call of Duty: Ghosts        10.24     X360\n",
       "69                         Call of Duty: Ghosts         9.36      PS3\n",
       "5222   Dai-2-Ji Super Robot Taisen Z Saisei-hen         0.36      PSP\n",
       "192                                  Diablo III         5.14       PC\n",
       "126                                     FIFA 14         6.46      PS3\n",
       "77                                      FIFA 16         8.58      PS4\n",
       "81                               FIFA Soccer 13         8.17      PS3\n",
       "5300                             FIFA Soccer 13         0.34      PSP\n",
       "270                                   Fallout 4         4.22     XOne\n",
       "42                           Grand Theft Auto V        12.62      PS4\n",
       "23                           Grand Theft Auto V        16.27     X360\n",
       "165                          Grand Theft Auto V         5.47     XOne\n",
       "16                           Grand Theft Auto V        21.05      PS3\n",
       "688                                Guild Wars 2         2.30       PC\n",
       "66                                       Halo 4         9.71     X360\n",
       "242                           Halo 5: Guardians         4.49     XOne\n",
       "359                             Just Dance 2014         3.58      Wii\n",
       "116                                Just Dance 4         6.76      Wii\n",
       "2963             LEGO Batman 2: DC Super Heroes         0.69       DS\n",
       "1595                    LittleBigPlanet PS Vita         1.25      PSV\n",
       "110                                Mario Kart 8         7.09     WiiU\n",
       "439                               Mario Party 9         3.13      Wii\n",
       "72                                    Minecraft         9.18     X360\n",
       "868                                   Minecraft         1.96      PSV\n",
       "4845       Moshi Monsters: Moshlings Theme Park         0.40       DS\n",
       "62                      New Super Mario Bros. 2         9.90      3DS\n",
       "185                     New Super Mario Bros. U         5.23     WiiU\n",
       "248                               Nintendo Land         4.42     WiiU\n",
       "5553  One Piece: Romance Dawn - Bouken no Yoake         0.32      PSP\n",
       "1831                          Persona 4: Golden         1.12      PSV\n",
       "83              Pokemon Black 2/Pokemon White 2         8.06       DS\n",
       "2039                           Pokemon Conquest         1.02       DS\n",
       "47    Pokemon Omega Ruby/Pokemon Alpha Sapphire        11.68      3DS\n",
       "33                          Pokemon X/Pokemon Y        14.60      3DS\n",
       "6369                  Pro Evolution Soccer 2013         0.28      PSP\n",
       "5788          SD Gundam G Generation: Overworld         0.31      PSP\n",
       "614                           Skylanders Giants         2.52      Wii\n",
       "766                       Skylanders SWAP Force         2.15      Wii\n",
       "247                                    Splatoon         4.44     WiiU\n",
       "87                 Star Wars Battlefront (2015)         7.98      PS4\n",
       "1095           StarCraft II: Heart of the Swarm         1.67       PC\n",
       "96          Super Smash Bros. for Wii U and 3DS         7.55      3DS\n",
       "216         Super Smash Bros. for Wii U and 3DS         4.87     WiiU\n",
       "458                                  The Sims 4         3.05       PC\n",
       "959        World of Warcraft: Mists of Pandaria         1.82       PC"
      ]
     },
     "execution_count": 50,
     "metadata": {},
     "output_type": "execute_result"
    }
   ],
   "source": [
    "(top_for_platforms.sort_values(by = 'name'))"
   ]
  },
  {
   "cell_type": "markdown",
   "metadata": {},
   "source": [
    "Как мы видим, очень многие игры повторяются, то есть в топе всех платформ в основном стоят просто популярные игры, которые известны и продаваемы на многих других платформах"
   ]
  },
  {
   "cell_type": "markdown",
   "metadata": {},
   "source": [
    "Рассмотрим самые прибыльные платформы и посмотрим на зависимость между отзывами и продажами"
   ]
  },
  {
   "cell_type": "code",
   "execution_count": 51,
   "metadata": {},
   "outputs": [
    {
     "data": {
      "image/png": "[encoded data removed]",
      "text/plain": [
       "<Figure size 1440x360 with 5 Axes>"
      ]
     },
     "metadata": {
      "needs_background": "light"
     },
     "output_type": "display_data"
    },
    {
     "name": "stdout",
     "output_type": "stream",
     "text": [
      "Коэффициент корреляции для платформы X360  равен =  0.35304486213952757\n",
      "Коэффициент корреляции для платформы PS3  равен =  0.3284599949323674\n",
      "Коэффициент корреляции для платформы XOne  равен =  0.4081030538671795\n",
      "Коэффициент корреляции для платформы 3DS  равен =  0.3119282724976071\n",
      "Коэффициент корреляции для платформы PS4  равен =  0.40360298218770574\n"
     ]
    }
   ],
   "source": [
    "g = sns.FacetGrid(data=data.loc[data['platform'].isin(top_platforms)], col='platform', height=5, aspect=0.8, hue = 'platform', palette='mako',xlim=(0,40))\n",
    "g.map(plt.scatter, 'total_sales','critic_score', s = 8)\n",
    "g.fig.suptitle('Зависимость количества продаж от оценки критиков',\n",
    "               y = 1.03,\n",
    "               fontsize = 15)\n",
    "plt.show()\n",
    "for platform in top_platforms:\n",
    "    print('Коэффициент корреляции для платформы', platform, ' равен = ', data[data['platform'] == platform]['total_sales'].corr(data[data['platform'] == platform]['critic_score'] ))"
   ]
  },
  {
   "cell_type": "markdown",
   "metadata": {},
   "source": [
    "Видим, что в общем корреляция достаточно слабая - четкой линейной зависимости между оценкой критиков и количеством продаж нет, однако следует заметить, что если оценка игры меньше 60 со стороны критика, то тогда она непопулярна, и все популярные игры в основном имеют оценку больше 60-65, также очень много видно игр, которые имеют отличную оценку от критиков, но при этом ее продажи очень малы, следовательно хорошая оценка от критика лишь расширяет потолок возможных продаж, но все равно достаточно вероятно, что игра не будет популярной. "
   ]
  },
  {
   "cell_type": "markdown",
   "metadata": {},
   "source": [
    "Самый большой коэффициент корреляции (самая линейная зависимость) у платформы XOne, самая низкая - у 3DS, также нужно отметить, что играм платформы 3DS ставят достаточно мало хороших оценок. Также следует заметить, что топ-игры X360, PS3 и PS4 были \"предугаданы\" критиками точнее всего"
   ]
  },
  {
   "cell_type": "code",
   "execution_count": 52,
   "metadata": {},
   "outputs": [
    {
     "data": {
      "image/png": "[encoded data removed]",
      "text/plain": [
       "<Figure size 1440x360 with 5 Axes>"
      ]
     },
     "metadata": {
      "needs_background": "light"
     },
     "output_type": "display_data"
    },
    {
     "name": "stdout",
     "output_type": "stream",
     "text": [
      "Коэффициент корреляции для платформы X360  равен =  0.0061639786462133256\n",
      "Коэффициент корреляции для платформы PS3  равен =  -0.005143522887113828\n",
      "Коэффициент корреляции для платформы XOne  равен =  -0.06892505328279412\n",
      "Коэффициент корреляции для платформы 3DS  равен =  0.19758263411038596\n",
      "Коэффициент корреляции для платформы PS4  равен =  -0.031957110204556376\n"
     ]
    }
   ],
   "source": [
    "g = sns.FacetGrid(data=data.loc[data['platform'].isin(top_platforms)], col='platform', height=5, aspect=0.8, hue = 'platform', palette='crest',xlim=(0,40))\n",
    "g.map(plt.scatter, 'total_sales','user_score', s = 8)\n",
    "g.fig.suptitle('Зависимость количества продаж от оценки пользователей',\n",
    "               y = 1.03,\n",
    "               fontsize = 15)\n",
    "plt.show()\n",
    "for platform in top_platforms:\n",
    "    print('Коэффициент корреляции для платформы', platform, ' равен = ', data[data['platform'] == platform]['total_sales'].corr(data[data['platform'] == platform]['user_score'] ))"
   ]
  },
  {
   "cell_type": "markdown",
   "metadata": {},
   "source": [
    "Зависимость от оценки пользователей еще более слабая, у платформы PS4 и XOne вообще неожиданно отрицательный коэффициент корреляции, однако все равно можно сказать, что если оценка пользователей меньше 4, то это в основном непопулярные (по продажам) игры, но при этом у платормы PS4,PS3 достаточно низкие оценки для популярных игр (есть даже игры с оценкой меньше 3), популярным играм платформы 3DS ставят достаточно высокие оценки, хотя критики редко ставят этой платформе высокие оценки. "
   ]
  },
  {
   "cell_type": "markdown",
   "metadata": {},
   "source": [
    "Такие низкие коэффициенты корреляции у зависимости между количеством продаж и оценкой пользователей появились из-за того, что очень много пользователей с абсолютно противоположным мнением выставляют оценки, плюс если игра популярная - то из тех, кому она понравилась и кто недоволен, гораздо больший процент недовольных поставит низкую оценку, чем процент довольных поставит высокую, соответственно это занизит среднюю оценку игры, также очень часто игроки фокусируются на нескольких моментах и либо восхищаются ими, или же наоборот негодуют, в отличие от критиков, которые смотрят на картину в целом, обращая внимание даже на неважные для некоторых аспекты игры, также оценки от критиков менее хаотично расположены, потому что критики - профессионалы, с выстроенной системой, их взгляд и взгляд обычного пользователя - две разные вещи."
   ]
  },
  {
   "cell_type": "markdown",
   "metadata": {},
   "source": [
    "Теперь посмотрим на распределение игр по жанрам"
   ]
  },
  {
   "cell_type": "code",
   "execution_count": 53,
   "metadata": {},
   "outputs": [
    {
     "data": {
      "text/plain": [
       "<AxesSubplot:xlabel='genre'>"
      ]
     },
     "execution_count": 53,
     "metadata": {},
     "output_type": "execute_result"
    },
    {
     "data": {
      "image/png": "[encoded data removed]",
      "text/plain": [
       "<Figure size 720x720 with 1 Axes>"
      ]
     },
     "metadata": {
      "needs_background": "light"
     },
     "output_type": "display_data"
    }
   ],
   "source": [
    "data.pivot_table(index = 'genre', values = 'name', aggfunc='count').sort_values(by = 'name',ascending = False).plot.bar(figsize = (10,10), color = 'blue')"
   ]
  },
  {
   "cell_type": "markdown",
   "metadata": {},
   "source": [
    "Пиковое значение для жанра экшн можно объяснить тем, что на самом деле файтинги, шутеры и платформеры - это тоже экшн, следовательно так как экшн - это собирательный жанр, то и количество игр для него должно быть больше. Меньше всего игр выходят на досточно узконаправленных жанрах - симуляторы, головоломки и стратегии (важно отметить что многие игры жанра файтинги, шутеры и так далее можно отнести и к стратегиям тоже, чисто стратегическая игра - все-таки узконаправленный жанр), больше всего игр выходят в жанрах экшн, ролевые и путешествия"
   ]
  },
  {
   "cell_type": "code",
   "execution_count": 54,
   "metadata": {},
   "outputs": [
    {
     "data": {
      "text/plain": [
       "<AxesSubplot:xlabel='year_of_release'>"
      ]
     },
     "execution_count": 54,
     "metadata": {},
     "output_type": "execute_result"
    },
    {
     "data": {
      "image/png": "[encoded data removed]",
      "text/plain": [
       "<Figure size 1440x720 with 1 Axes>"
      ]
     },
     "metadata": {
      "needs_background": "light"
     },
     "output_type": "display_data"
    }
   ],
   "source": [
    "cross_tab_prop = pd.crosstab(index=data['year_of_release'],\n",
    "                             columns=data['genre'],\n",
    "                             values = data['name'],\n",
    "                             aggfunc='count',\n",
    "                             normalize=\"index\")\n",
    "cross_tab_prop.plot.bar(rot = 0,figsize = (20,10), stacked = True)"
   ]
  },
  {
   "cell_type": "markdown",
   "metadata": {},
   "source": [
    "Как мы видим, на данный момент головоломки практически утратили актуальность, в последние года больше выпускается экшна, но в остальном процентное соотношение по жанрам остается +- одинаковым по годам. Посмотрим, теперь на процентное соотношение для количества продаж"
   ]
  },
  {
   "cell_type": "code",
   "execution_count": 55,
   "metadata": {},
   "outputs": [
    {
     "data": {
      "text/plain": [
       "<AxesSubplot:xlabel='year_of_release'>"
      ]
     },
     "execution_count": 55,
     "metadata": {},
     "output_type": "execute_result"
    },
    {
     "data": {
      "image/png": "[encoded data removed]",
      "text/plain": [
       "<Figure size 1440x720 with 1 Axes>"
      ]
     },
     "metadata": {
      "needs_background": "light"
     },
     "output_type": "display_data"
    }
   ],
   "source": [
    "cross_tab_prop = pd.crosstab(index=data['year_of_release'],\n",
    "                             columns=data['genre'],\n",
    "                             values = data['total_sales'],\n",
    "                             aggfunc= 'sum',\n",
    "                             normalize=\"index\")\n",
    "cross_tab_prop.plot.bar(rot = 0,figsize = (20,10), stacked = True)"
   ]
  },
  {
   "cell_type": "markdown",
   "metadata": {},
   "source": [
    "Шутеры не выделялись по количеству выпущенных игр, однако по среднему количеству проданных копий тенденция идет только вверх, получается, игры-шутеры выпускают редко,но метко, в возможно, новые шутеры интереснее,чем новые игры в жанре экшн, но все-таки львиная доля общих проданных копий стабильно относится к играм жанра экшн, также достаточно большой процент во все года относится к играм в жанре спорт, платформенные игры начали немного терять свою актуальность по сравнению с 2012-2013.Игры в жанре приключения выпускаются в достаточно большом проценте, однако процент проданных копий довольно маленький. Соответственно меньше всего копий продается в жанрах стратегия, симуляторы и головоломки, а больше всего - шутеры, экшн, спорт. Однако важно еще учитывать среднее количество проданных копий, для того чтобы сделать вывод об успешных жанрах, которые берут не количеством выпускаемых игр, а качеством"
   ]
  },
  {
   "cell_type": "code",
   "execution_count": 56,
   "metadata": {},
   "outputs": [
    {
     "data": {
      "text/plain": [
       "<AxesSubplot:xlabel='year_of_release'>"
      ]
     },
     "execution_count": 56,
     "metadata": {},
     "output_type": "execute_result"
    },
    {
     "data": {
      "image/png": "[encoded data removed]",
      "text/plain": [
       "<Figure size 1440x720 with 1 Axes>"
      ]
     },
     "metadata": {
      "needs_background": "light"
     },
     "output_type": "display_data"
    }
   ],
   "source": [
    "cross_tab_prop = pd.crosstab(index=data['year_of_release'],\n",
    "                             columns=data['genre'],\n",
    "                             values = data['total_sales'],\n",
    "                             aggfunc= 'mean',\n",
    "                             normalize=\"index\")\n",
    "cross_tab_prop.plot.bar(rot = 0,figsize = (20,10), stacked = True)"
   ]
  },
  {
   "cell_type": "markdown",
   "metadata": {},
   "source": [
    "В жанре экшн выпускалось стабильно много игр, однако среднее количество проданных копий неожиданно малое, следовательно в этом жанре штампуют много плохо продаваемых игр, жанр шутеры как и отмечалось ранее очень успешен, неожиданно успешными, несмотря на малое количество выпущенных игр, оказались жанры файтинг и платформер, видимо, это те жанры, игры в которых выпускаются больше не на массовость, а на любителей таких жанров, также в таких жанрах обычно выпускают игры компании, которые на них специализируются, таких компаний не очень много, но они делают качественные игры, жанр спорта также стабильно достаточно успешен. Самые успешные жанры по среднему количеству проданных копий: шутеры, спорт, платформеры. Самые неуспешные - приключения и головоломки"
   ]
  },
  {
   "cell_type": "markdown",
   "metadata": {},
   "source": [
    "Теперь проанализируем диаграммы размаха для каждого из жанров, чтобы сравнить, насколько стабилен каждый из жанров"
   ]
  },
  {
   "cell_type": "code",
   "execution_count": 57,
   "metadata": {},
   "outputs": [
    {
     "data": {
      "text/plain": [
       "<AxesSubplot:xlabel='genre', ylabel='total_sales'>"
      ]
     },
     "execution_count": 57,
     "metadata": {},
     "output_type": "execute_result"
    },
    {
     "data": {
      "text/plain": [
       "<Figure size 432x288 with 0 Axes>"
      ]
     },
     "metadata": {},
     "output_type": "display_data"
    },
    {
     "data": {
      "image/png": "[encoded data removed]",
      "text/plain": [
       "<Figure size 1800x1080 with 1 Axes>"
      ]
     },
     "metadata": {
      "needs_background": "light"
     },
     "output_type": "display_data"
    },
    {
     "data": {
      "image/png": "[encoded data removed]",
      "text/plain": [
       "<Figure size 1800x1080 with 1 Axes>"
      ]
     },
     "metadata": {
      "needs_background": "light"
     },
     "output_type": "display_data"
    }
   ],
   "source": [
    "plt.figure(1)\n",
    "plt.figure(figsize=(25,15))\n",
    "sns.boxplot(x = 'genre', y = 'total_sales', data = data,showfliers = True)\n",
    "plt.figure(2)\n",
    "plt.figure(figsize=(25,15))\n",
    "sns.boxplot(x = 'genre', y = 'total_sales', data = data,showfliers = False)"
   ]
  },
  {
   "cell_type": "markdown",
   "metadata": {},
   "source": [
    "Большое количество выбросов мы видим в жанре экшн и ролевые, шутеры также отличаются большими выбросами, самыми успешными играми являются игры в жанре шутеры, у них самые большие квартили, однако несмотря на это и самая большая разбежка в продажах, самые непродаваемые жанры - приключения, головоломки, у них самые низкие квартили, и они не отличаются сильными выбросами, жанрами с хорошо продаваемыми играми можно назвать еще жанры спорт и платформеры"
   ]
  },
  {
   "cell_type": "markdown",
   "metadata": {},
   "source": [
    "### Портрет пользователя для каждого региона "
   ]
  },
  {
   "cell_type": "markdown",
   "metadata": {},
   "source": [
    "Посмотрим на платформы, на которых больше всего проданных игр, для каждого региона"
   ]
  },
  {
   "cell_type": "code",
   "execution_count": 58,
   "metadata": {},
   "outputs": [
    {
     "data": {
      "text/html": [
       "<div>\n",
       "<style scoped>\n",
       "    .dataframe tbody tr th:only-of-type {\n",
       "        vertical-align: middle;\n",
       "    }\n",
       "\n",
       "    .dataframe tbody tr th {\n",
       "        vertical-align: top;\n",
       "    }\n",
       "\n",
       "    .dataframe thead th {\n",
       "        text-align: right;\n",
       "    }\n",
       "</style>\n",
       "<table border=\"1\" class=\"dataframe\">\n",
       "  <thead>\n",
       "    <tr style=\"text-align: right;\">\n",
       "      <th></th>\n",
       "      <th>na_sales</th>\n",
       "    </tr>\n",
       "    <tr>\n",
       "      <th>platform</th>\n",
       "      <th></th>\n",
       "    </tr>\n",
       "  </thead>\n",
       "  <tbody>\n",
       "    <tr>\n",
       "      <th>X360</th>\n",
       "      <td>140.05</td>\n",
       "    </tr>\n",
       "    <tr>\n",
       "      <th>PS4</th>\n",
       "      <td>108.74</td>\n",
       "    </tr>\n",
       "    <tr>\n",
       "      <th>PS3</th>\n",
       "      <td>103.38</td>\n",
       "    </tr>\n",
       "    <tr>\n",
       "      <th>XOne</th>\n",
       "      <td>93.12</td>\n",
       "    </tr>\n",
       "    <tr>\n",
       "      <th>3DS</th>\n",
       "      <td>55.31</td>\n",
       "    </tr>\n",
       "    <tr>\n",
       "      <th>WiiU</th>\n",
       "      <td>38.10</td>\n",
       "    </tr>\n",
       "    <tr>\n",
       "      <th>PC</th>\n",
       "      <td>19.12</td>\n",
       "    </tr>\n",
       "    <tr>\n",
       "      <th>Wii</th>\n",
       "      <td>17.45</td>\n",
       "    </tr>\n",
       "    <tr>\n",
       "      <th>PSV</th>\n",
       "      <td>10.98</td>\n",
       "    </tr>\n",
       "    <tr>\n",
       "      <th>DS</th>\n",
       "      <td>4.59</td>\n",
       "    </tr>\n",
       "    <tr>\n",
       "      <th>PSP</th>\n",
       "      <td>0.13</td>\n",
       "    </tr>\n",
       "  </tbody>\n",
       "</table>\n",
       "</div>"
      ],
      "text/plain": [
       "          na_sales\n",
       "platform          \n",
       "X360        140.05\n",
       "PS4         108.74\n",
       "PS3         103.38\n",
       "XOne         93.12\n",
       "3DS          55.31\n",
       "WiiU         38.10\n",
       "PC           19.12\n",
       "Wii          17.45\n",
       "PSV          10.98\n",
       "DS            4.59\n",
       "PSP           0.13"
      ]
     },
     "metadata": {},
     "output_type": "display_data"
    },
    {
     "data": {
      "text/html": [
       "<div>\n",
       "<style scoped>\n",
       "    .dataframe tbody tr th:only-of-type {\n",
       "        vertical-align: middle;\n",
       "    }\n",
       "\n",
       "    .dataframe tbody tr th {\n",
       "        vertical-align: top;\n",
       "    }\n",
       "\n",
       "    .dataframe thead th {\n",
       "        text-align: right;\n",
       "    }\n",
       "</style>\n",
       "<table border=\"1\" class=\"dataframe\">\n",
       "  <thead>\n",
       "    <tr style=\"text-align: right;\">\n",
       "      <th></th>\n",
       "      <th>eu_sales</th>\n",
       "    </tr>\n",
       "    <tr>\n",
       "      <th>platform</th>\n",
       "      <th></th>\n",
       "    </tr>\n",
       "  </thead>\n",
       "  <tbody>\n",
       "    <tr>\n",
       "      <th>PS4</th>\n",
       "      <td>141.09</td>\n",
       "    </tr>\n",
       "    <tr>\n",
       "      <th>PS3</th>\n",
       "      <td>106.86</td>\n",
       "    </tr>\n",
       "    <tr>\n",
       "      <th>X360</th>\n",
       "      <td>74.52</td>\n",
       "    </tr>\n",
       "    <tr>\n",
       "      <th>XOne</th>\n",
       "      <td>51.59</td>\n",
       "    </tr>\n",
       "    <tr>\n",
       "      <th>3DS</th>\n",
       "      <td>42.64</td>\n",
       "    </tr>\n",
       "    <tr>\n",
       "      <th>PC</th>\n",
       "      <td>37.76</td>\n",
       "    </tr>\n",
       "    <tr>\n",
       "      <th>WiiU</th>\n",
       "      <td>25.13</td>\n",
       "    </tr>\n",
       "    <tr>\n",
       "      <th>Wii</th>\n",
       "      <td>11.92</td>\n",
       "    </tr>\n",
       "    <tr>\n",
       "      <th>PSV</th>\n",
       "      <td>11.36</td>\n",
       "    </tr>\n",
       "    <tr>\n",
       "      <th>DS</th>\n",
       "      <td>3.53</td>\n",
       "    </tr>\n",
       "    <tr>\n",
       "      <th>PSP</th>\n",
       "      <td>0.42</td>\n",
       "    </tr>\n",
       "  </tbody>\n",
       "</table>\n",
       "</div>"
      ],
      "text/plain": [
       "          eu_sales\n",
       "platform          \n",
       "PS4         141.09\n",
       "PS3         106.86\n",
       "X360         74.52\n",
       "XOne         51.59\n",
       "3DS          42.64\n",
       "PC           37.76\n",
       "WiiU         25.13\n",
       "Wii          11.92\n",
       "PSV          11.36\n",
       "DS            3.53\n",
       "PSP           0.42"
      ]
     },
     "metadata": {},
     "output_type": "display_data"
    },
    {
     "data": {
      "text/html": [
       "<div>\n",
       "<style scoped>\n",
       "    .dataframe tbody tr th:only-of-type {\n",
       "        vertical-align: middle;\n",
       "    }\n",
       "\n",
       "    .dataframe tbody tr th {\n",
       "        vertical-align: top;\n",
       "    }\n",
       "\n",
       "    .dataframe thead th {\n",
       "        text-align: right;\n",
       "    }\n",
       "</style>\n",
       "<table border=\"1\" class=\"dataframe\">\n",
       "  <thead>\n",
       "    <tr style=\"text-align: right;\">\n",
       "      <th></th>\n",
       "      <th>jp_sales</th>\n",
       "    </tr>\n",
       "    <tr>\n",
       "      <th>platform</th>\n",
       "      <th></th>\n",
       "    </tr>\n",
       "  </thead>\n",
       "  <tbody>\n",
       "    <tr>\n",
       "      <th>3DS</th>\n",
       "      <td>87.79</td>\n",
       "    </tr>\n",
       "    <tr>\n",
       "      <th>PS3</th>\n",
       "      <td>35.29</td>\n",
       "    </tr>\n",
       "    <tr>\n",
       "      <th>PSV</th>\n",
       "      <td>21.04</td>\n",
       "    </tr>\n",
       "    <tr>\n",
       "      <th>PS4</th>\n",
       "      <td>15.96</td>\n",
       "    </tr>\n",
       "    <tr>\n",
       "      <th>WiiU</th>\n",
       "      <td>13.01</td>\n",
       "    </tr>\n",
       "    <tr>\n",
       "      <th>PSP</th>\n",
       "      <td>10.47</td>\n",
       "    </tr>\n",
       "    <tr>\n",
       "      <th>DS</th>\n",
       "      <td>3.72</td>\n",
       "    </tr>\n",
       "    <tr>\n",
       "      <th>Wii</th>\n",
       "      <td>3.39</td>\n",
       "    </tr>\n",
       "    <tr>\n",
       "      <th>X360</th>\n",
       "      <td>1.57</td>\n",
       "    </tr>\n",
       "    <tr>\n",
       "      <th>XOne</th>\n",
       "      <td>0.34</td>\n",
       "    </tr>\n",
       "    <tr>\n",
       "      <th>PC</th>\n",
       "      <td>0.00</td>\n",
       "    </tr>\n",
       "  </tbody>\n",
       "</table>\n",
       "</div>"
      ],
      "text/plain": [
       "          jp_sales\n",
       "platform          \n",
       "3DS          87.79\n",
       "PS3          35.29\n",
       "PSV          21.04\n",
       "PS4          15.96\n",
       "WiiU         13.01\n",
       "PSP          10.47\n",
       "DS            3.72\n",
       "Wii           3.39\n",
       "X360          1.57\n",
       "XOne          0.34\n",
       "PC            0.00"
      ]
     },
     "execution_count": 58,
     "metadata": {},
     "output_type": "execute_result"
    }
   ],
   "source": [
    "display(data.pivot_table(index = 'platform',values = 'na_sales', aggfunc= 'sum').sort_values(by = 'na_sales',ascending = False))\n",
    "display(data.pivot_table(index = 'platform',values = 'eu_sales', aggfunc= 'sum').sort_values(by = 'eu_sales',ascending = False))\n",
    "data.pivot_table(index = 'platform',values = 'jp_sales', aggfunc= 'sum').sort_values(by = 'jp_sales',ascending = False)"
   ]
  },
  {
   "cell_type": "code",
   "execution_count": 59,
   "metadata": {},
   "outputs": [
    {
     "data": {
      "text/plain": [
       "<AxesSubplot:ylabel='platform'>"
      ]
     },
     "execution_count": 59,
     "metadata": {},
     "output_type": "execute_result"
    },
    {
     "data": {
      "image/png": "[encoded data removed]",
      "text/plain": [
       "<Figure size 1080x720 with 2 Axes>"
      ]
     },
     "metadata": {
      "needs_background": "light"
     },
     "output_type": "display_data"
    }
   ],
   "source": [
    "plt.figure(figsize=(15,10))\n",
    "sns.heatmap(data.pivot_table(index = 'platform',values = ['na_sales','eu_sales','jp_sales'], aggfunc= 'sum'))"
   ]
  },
  {
   "cell_type": "markdown",
   "metadata": {},
   "source": [
    "Топ-5 популярных платформ в Америке : X360, PS4, PS3, XOne, 3DS \n",
    "\n",
    "Топ-5 платформ по количеству проданных копий для Европы: PS4,PS3, X360, XOne, 3DS список совпал со списком для Америки, за исключением того, что PS4 и PS3 имеют выше место в топе Европы, чем Америки, а у X360 место выше в Америке\n",
    "\n",
    "Топ платформ в Япрнии выглядит иначе, ТОП-5 - 3DS, PS3,PSV,PS4,WiiU. PS4 в Японии не была настолько популярна, как в Америке и Европе, общее количество продаж в 7 раз меньше,чем в Америке. А 3DS в Америке и Европе был далеко не на первом месте. 2 из 5 платформ в топе (1 и 3 место) - это \"ручные\" консоли, которые больше вписываются в культуру Японии, чем популярные в Америке и Европе PS и XOne (X360), и даже учитывая насколько популярна PS в мире, и учитывая, что компания Sony японская, все равно PS сделали ставку на европейский и американский рынок, что вызвало недовольство в Японии и сравнительно малые продажи у PS4. \n",
    "\n",
    "Как мы видим по heatmap, в Японии игр продается гораздо меньше, чем в других районах, и в Японии много платформ с очень малыми продажами, также стоит заметить, что 3DS в Японии, PS4 в Европе и X360 в Америке идут с большим отрывом от остальных платформ, также эта heatmap наглядно показывает, насколько сильно согласовываются Америка и Европа в выборе платформ и как отличается от них Япония"
   ]
  },
  {
   "cell_type": "code",
   "execution_count": 60,
   "metadata": {},
   "outputs": [],
   "source": [
    "region = ['na_sales','eu_sales','jp_sales']\n",
    "dfs = []\n",
    "for i in range(3):\n",
    "    dfs.append(data.copy())\n",
    "    top_platforms = list(data.pivot_table(index = 'platform',values = region[i], aggfunc= 'sum').sort_values(by = region[i],ascending = False).index)[:5]\n",
    "    dfs[-1]['platform'] = dfs[-1]['platform'].where(dfs[-1]['platform'].isin( top_platforms), 'other')"
   ]
  },
  {
   "cell_type": "code",
   "execution_count": 61,
   "metadata": {},
   "outputs": [
    {
     "data": {
      "image/png": "[encoded data removed]",
      "text/plain": [
       "<Figure size 1440x1440 with 3 Axes>"
      ]
     },
     "metadata": {
      "needs_background": "light"
     },
     "output_type": "display_data"
    }
   ],
   "source": [
    "fig = plt.figure(figsize=(20,20))\n",
    "fig.suptitle('Общие продажи по годам на разных платформах', fontsize = 30)\n",
    "region = ['na_sales','eu_sales','jp_sales']\n",
    "ax = []\n",
    "for i in range(3):\n",
    "    cross_tab_prop = pd.crosstab(index=dfs[i]['year_of_release'],\n",
    "                                columns=dfs[i]['platform'],\n",
    "                                values = dfs[i][region[i]],\n",
    "                                aggfunc='sum',\n",
    "                                normalize=\"index\")\n",
    "    ax1 = plt.subplot(2, 3, i+1)\n",
    "    cross_tab_prop.plot.bar(ax=ax1,rot = 0, stacked = True)\n",
    "    ax1.set_title(region[i])\n",
    "plt.show()"
   ]
  },
  {
   "cell_type": "markdown",
   "metadata": {},
   "source": [
    "Америка: Очень перспективна на данный момент платформа PS4 и XOne, X360 был крайне популярен в 2012-2013, но сейчас его заменил XOne, продажи PS3 достаточно долго были стабильно хорошими, однако PS3 также заменена PS4, процент продаж игр на платформе 3DS остается стабильным.\n",
    "Европа: В целом картина примерно такая же, как и в Америке, однако есть свои особенности, например PS3 была более популярна в Европе среди других платформ, X360 не вызвала такого фурора, который был в Америке, XOne тоже не так популярен в Европе, как в Америке. Самые перспективные платормы остаются, как и в Америке - PS4 и XOne.\n",
    "Япония: Абсолютно другая картина видна в продажах на японском рынке, о популярности X360, огромных процентах от продаж у PS4 можно забыть. Самыми перспективными платформами на данный момент можно считать 3DS, PSV и PS4, хотя ее процент от продаж и не сравнится с другими регионами. Интересный факт: японцы любят играть в дороге, поэтому для них приоритетнее компактные платформы. PSP была популярна в 2010-2011, сейчас же ей на замену пришла PSV. DS пользовалась большой популярностью в 2006-2010 годы, после же на замену пришла 3DS."
   ]
  },
  {
   "cell_type": "markdown",
   "metadata": {},
   "source": [
    "Посмотрим также на количество проданных копий по годам в каждом из районов"
   ]
  },
  {
   "cell_type": "code",
   "execution_count": 62,
   "metadata": {},
   "outputs": [
    {
     "data": {
      "image/png": "[encoded data removed]",
      "text/plain": [
       "<Figure size 1440x1440 with 3 Axes>"
      ]
     },
     "metadata": {
      "needs_background": "light"
     },
     "output_type": "display_data"
    }
   ],
   "source": [
    "fig = plt.figure(figsize=(20,20))\n",
    "fig.suptitle('Количество продаж по годам', fontsize = 30)\n",
    "region = ['na_sales','eu_sales','jp_sales']\n",
    "for i in range(3):\n",
    "    ax1 = plt.subplot(2, 3, i+1)\n",
    "    data.pivot_table(index = 'year_of_release', values = region[i], aggfunc='sum').plot.bar(ax = ax1, color = 'blue')\n",
    "    ax1.set_title(region[i])\n",
    "plt.show()"
   ]
  },
  {
   "cell_type": "markdown",
   "metadata": {},
   "source": [
    "Америка: после 2013 заметен постепенный спад в количестве продаж\n",
    "\n",
    "Европа: рост количества продаж до 2014, в 2015 уже было продано намного меньше игр\n",
    "\n",
    "Япония: c 2012 видим постоянный спад количества проданных игр"
   ]
  },
  {
   "cell_type": "markdown",
   "metadata": {},
   "source": [
    "Теперь посмотрим на самые популярные жанры в регионах"
   ]
  },
  {
   "cell_type": "code",
   "execution_count": 63,
   "metadata": {},
   "outputs": [
    {
     "data": {
      "text/html": [
       "<div>\n",
       "<style scoped>\n",
       "    .dataframe tbody tr th:only-of-type {\n",
       "        vertical-align: middle;\n",
       "    }\n",
       "\n",
       "    .dataframe tbody tr th {\n",
       "        vertical-align: top;\n",
       "    }\n",
       "\n",
       "    .dataframe thead th {\n",
       "        text-align: right;\n",
       "    }\n",
       "</style>\n",
       "<table border=\"1\" class=\"dataframe\">\n",
       "  <thead>\n",
       "    <tr style=\"text-align: right;\">\n",
       "      <th></th>\n",
       "      <th>na_sales</th>\n",
       "    </tr>\n",
       "    <tr>\n",
       "      <th>genre</th>\n",
       "      <th></th>\n",
       "    </tr>\n",
       "  </thead>\n",
       "  <tbody>\n",
       "    <tr>\n",
       "      <th>Action</th>\n",
       "      <td>177.84</td>\n",
       "    </tr>\n",
       "    <tr>\n",
       "      <th>Shooter</th>\n",
       "      <td>144.77</td>\n",
       "    </tr>\n",
       "    <tr>\n",
       "      <th>Sports</th>\n",
       "      <td>81.53</td>\n",
       "    </tr>\n",
       "    <tr>\n",
       "      <th>Role-Playing</th>\n",
       "      <td>64.00</td>\n",
       "    </tr>\n",
       "    <tr>\n",
       "      <th>Misc</th>\n",
       "      <td>38.19</td>\n",
       "    </tr>\n",
       "    <tr>\n",
       "      <th>Platform</th>\n",
       "      <td>25.38</td>\n",
       "    </tr>\n",
       "    <tr>\n",
       "      <th>Fighting</th>\n",
       "      <td>19.79</td>\n",
       "    </tr>\n",
       "    <tr>\n",
       "      <th>Racing</th>\n",
       "      <td>17.22</td>\n",
       "    </tr>\n",
       "    <tr>\n",
       "      <th>Adventure</th>\n",
       "      <td>8.92</td>\n",
       "    </tr>\n",
       "    <tr>\n",
       "      <th>Simulation</th>\n",
       "      <td>7.97</td>\n",
       "    </tr>\n",
       "    <tr>\n",
       "      <th>Strategy</th>\n",
       "      <td>4.23</td>\n",
       "    </tr>\n",
       "    <tr>\n",
       "      <th>Puzzle</th>\n",
       "      <td>1.13</td>\n",
       "    </tr>\n",
       "  </tbody>\n",
       "</table>\n",
       "</div>"
      ],
      "text/plain": [
       "              na_sales\n",
       "genre                 \n",
       "Action          177.84\n",
       "Shooter         144.77\n",
       "Sports           81.53\n",
       "Role-Playing     64.00\n",
       "Misc             38.19\n",
       "Platform         25.38\n",
       "Fighting         19.79\n",
       "Racing           17.22\n",
       "Adventure         8.92\n",
       "Simulation        7.97\n",
       "Strategy          4.23\n",
       "Puzzle            1.13"
      ]
     },
     "metadata": {},
     "output_type": "display_data"
    },
    {
     "data": {
      "text/html": [
       "<div>\n",
       "<style scoped>\n",
       "    .dataframe tbody tr th:only-of-type {\n",
       "        vertical-align: middle;\n",
       "    }\n",
       "\n",
       "    .dataframe tbody tr th {\n",
       "        vertical-align: top;\n",
       "    }\n",
       "\n",
       "    .dataframe thead th {\n",
       "        text-align: right;\n",
       "    }\n",
       "</style>\n",
       "<table border=\"1\" class=\"dataframe\">\n",
       "  <thead>\n",
       "    <tr style=\"text-align: right;\">\n",
       "      <th></th>\n",
       "      <th>eu_sales</th>\n",
       "    </tr>\n",
       "    <tr>\n",
       "      <th>genre</th>\n",
       "      <th></th>\n",
       "    </tr>\n",
       "  </thead>\n",
       "  <tbody>\n",
       "    <tr>\n",
       "      <th>Action</th>\n",
       "      <td>159.34</td>\n",
       "    </tr>\n",
       "    <tr>\n",
       "      <th>Shooter</th>\n",
       "      <td>113.47</td>\n",
       "    </tr>\n",
       "    <tr>\n",
       "      <th>Sports</th>\n",
       "      <td>69.09</td>\n",
       "    </tr>\n",
       "    <tr>\n",
       "      <th>Role-Playing</th>\n",
       "      <td>48.53</td>\n",
       "    </tr>\n",
       "    <tr>\n",
       "      <th>Racing</th>\n",
       "      <td>27.29</td>\n",
       "    </tr>\n",
       "    <tr>\n",
       "      <th>Misc</th>\n",
       "      <td>26.32</td>\n",
       "    </tr>\n",
       "    <tr>\n",
       "      <th>Platform</th>\n",
       "      <td>21.41</td>\n",
       "    </tr>\n",
       "    <tr>\n",
       "      <th>Simulation</th>\n",
       "      <td>14.55</td>\n",
       "    </tr>\n",
       "    <tr>\n",
       "      <th>Fighting</th>\n",
       "      <td>10.79</td>\n",
       "    </tr>\n",
       "    <tr>\n",
       "      <th>Adventure</th>\n",
       "      <td>9.46</td>\n",
       "    </tr>\n",
       "    <tr>\n",
       "      <th>Strategy</th>\n",
       "      <td>5.17</td>\n",
       "    </tr>\n",
       "    <tr>\n",
       "      <th>Puzzle</th>\n",
       "      <td>1.40</td>\n",
       "    </tr>\n",
       "  </tbody>\n",
       "</table>\n",
       "</div>"
      ],
      "text/plain": [
       "              eu_sales\n",
       "genre                 \n",
       "Action          159.34\n",
       "Shooter         113.47\n",
       "Sports           69.09\n",
       "Role-Playing     48.53\n",
       "Racing           27.29\n",
       "Misc             26.32\n",
       "Platform         21.41\n",
       "Simulation       14.55\n",
       "Fighting         10.79\n",
       "Adventure         9.46\n",
       "Strategy          5.17\n",
       "Puzzle            1.40"
      ]
     },
     "metadata": {},
     "output_type": "display_data"
    },
    {
     "data": {
      "text/html": [
       "<div>\n",
       "<style scoped>\n",
       "    .dataframe tbody tr th:only-of-type {\n",
       "        vertical-align: middle;\n",
       "    }\n",
       "\n",
       "    .dataframe tbody tr th {\n",
       "        vertical-align: top;\n",
       "    }\n",
       "\n",
       "    .dataframe thead th {\n",
       "        text-align: right;\n",
       "    }\n",
       "</style>\n",
       "<table border=\"1\" class=\"dataframe\">\n",
       "  <thead>\n",
       "    <tr style=\"text-align: right;\">\n",
       "      <th></th>\n",
       "      <th>jp_sales</th>\n",
       "    </tr>\n",
       "    <tr>\n",
       "      <th>genre</th>\n",
       "      <th></th>\n",
       "    </tr>\n",
       "  </thead>\n",
       "  <tbody>\n",
       "    <tr>\n",
       "      <th>Role-Playing</th>\n",
       "      <td>65.44</td>\n",
       "    </tr>\n",
       "    <tr>\n",
       "      <th>Action</th>\n",
       "      <td>52.80</td>\n",
       "    </tr>\n",
       "    <tr>\n",
       "      <th>Misc</th>\n",
       "      <td>12.86</td>\n",
       "    </tr>\n",
       "    <tr>\n",
       "      <th>Simulation</th>\n",
       "      <td>10.41</td>\n",
       "    </tr>\n",
       "    <tr>\n",
       "      <th>Fighting</th>\n",
       "      <td>9.44</td>\n",
       "    </tr>\n",
       "    <tr>\n",
       "      <th>Shooter</th>\n",
       "      <td>9.23</td>\n",
       "    </tr>\n",
       "    <tr>\n",
       "      <th>Platform</th>\n",
       "      <td>8.63</td>\n",
       "    </tr>\n",
       "    <tr>\n",
       "      <th>Adventure</th>\n",
       "      <td>8.24</td>\n",
       "    </tr>\n",
       "    <tr>\n",
       "      <th>Sports</th>\n",
       "      <td>8.01</td>\n",
       "    </tr>\n",
       "    <tr>\n",
       "      <th>Strategy</th>\n",
       "      <td>2.88</td>\n",
       "    </tr>\n",
       "    <tr>\n",
       "      <th>Racing</th>\n",
       "      <td>2.50</td>\n",
       "    </tr>\n",
       "    <tr>\n",
       "      <th>Puzzle</th>\n",
       "      <td>2.14</td>\n",
       "    </tr>\n",
       "  </tbody>\n",
       "</table>\n",
       "</div>"
      ],
      "text/plain": [
       "              jp_sales\n",
       "genre                 \n",
       "Role-Playing     65.44\n",
       "Action           52.80\n",
       "Misc             12.86\n",
       "Simulation       10.41\n",
       "Fighting          9.44\n",
       "Shooter           9.23\n",
       "Platform          8.63\n",
       "Adventure         8.24\n",
       "Sports            8.01\n",
       "Strategy          2.88\n",
       "Racing            2.50\n",
       "Puzzle            2.14"
      ]
     },
     "metadata": {},
     "output_type": "display_data"
    }
   ],
   "source": [
    "display(data.pivot_table(index = 'genre',values = 'na_sales', aggfunc= 'sum').sort_values(by = 'na_sales',ascending = False))\n",
    "display(data.pivot_table(index = 'genre',values = 'eu_sales', aggfunc= 'sum').sort_values(by = 'eu_sales',ascending = False))\n",
    "display(data.pivot_table(index = 'genre',values = 'jp_sales', aggfunc= 'sum').sort_values(by = 'jp_sales',ascending = False))"
   ]
  },
  {
   "cell_type": "code",
   "execution_count": 64,
   "metadata": {},
   "outputs": [
    {
     "data": {
      "text/plain": [
       "<AxesSubplot:ylabel='genre'>"
      ]
     },
     "execution_count": 64,
     "metadata": {},
     "output_type": "execute_result"
    },
    {
     "data": {
      "image/png": "[encoded data removed]",
      "text/plain": [
       "<Figure size 1080x720 with 2 Axes>"
      ]
     },
     "metadata": {
      "needs_background": "light"
     },
     "output_type": "display_data"
    }
   ],
   "source": [
    "plt.figure(figsize=(15,10))\n",
    "sns.heatmap(data.pivot_table(index = 'genre',values = ['na_sales','eu_sales','jp_sales'], aggfunc= 'sum'))"
   ]
  },
  {
   "cell_type": "markdown",
   "metadata": {},
   "source": [
    "Америка: В топ-5 жанров входят: экшн (с большим отрывом, предположительно, потому что это сборный жанр), шутеры,спорт, ролевые и игры без конкретного жанра (другие). \n",
    "\n",
    "Европа: Топ-5 жанров - экшн,шутеры, спорт, ролевые, гонки. Список практически идентичный списку для Америки, за исключением того, что гонки тут популярнее\n",
    "\n",
    "Япония: Состав топ-5 жанров отличается от европейского и американского топа : на первом месте ролевые игры, потом экшн, другие, симуляторы и файтинги. Спорт и гонки находятся в конце списка в отличие от Америки и Европы соответственно, что еще раз указывает на то, что японские предпочтения в играх сильно отличаются от европейских и американских. Ролевые игры больше всего, пожалуй, подходят под характер японцев, существует даже отдельная отраль RPG - JRPG, в которой сюжеты игр очень напоминают сюжеты японских аниме и ближе даже к литературе и кинематографу."
   ]
  },
  {
   "cell_type": "code",
   "execution_count": 65,
   "metadata": {},
   "outputs": [],
   "source": [
    "region = ['na_sales','eu_sales','jp_sales']\n",
    "dfs = []\n",
    "for i in range(3):\n",
    "    dfs.append(data.copy())\n",
    "    top_genres = list(data.pivot_table(index = 'genre',values = region[i], aggfunc= 'sum').sort_values(by = region[i],ascending = False).index)[:5]\n",
    "    dfs[-1]['genre'] = dfs[-1]['genre'].where(dfs[-1]['genre'].isin( top_genres), 'other')"
   ]
  },
  {
   "cell_type": "code",
   "execution_count": 66,
   "metadata": {},
   "outputs": [
    {
     "data": {
      "image/png": "[encoded data removed]",
      "text/plain": [
       "<Figure size 1440x1440 with 3 Axes>"
      ]
     },
     "metadata": {
      "needs_background": "light"
     },
     "output_type": "display_data"
    }
   ],
   "source": [
    "fig = plt.figure(figsize=(20,20))\n",
    "fig.suptitle('Общие продажи по годам игр разных жанров', fontsize = 30)\n",
    "region = ['na_sales','eu_sales','jp_sales']\n",
    "ax = []\n",
    "for i in range(3):\n",
    "    cross_tab_prop = pd.crosstab(index=dfs[i]['year_of_release'],\n",
    "                                columns=dfs[i]['genre'],\n",
    "                                values = dfs[i][region[i]],\n",
    "                                aggfunc='sum',\n",
    "                                normalize=\"index\")\n",
    "    ax1 = plt.subplot(2, 3, i+1)\n",
    "    cross_tab_prop.plot.bar(ax=ax1,rot = 0, stacked = True)\n",
    "    ax1.set_title(region[i])\n",
    "    ax1.legend(loc = 'upper left')\n",
    "plt.show()"
   ]
  },
  {
   "cell_type": "markdown",
   "metadata": {},
   "source": [
    "Америка: Экшн, шутеры и спорт были и остаются стабильно популярными жанрами, в основном популярность жанров каждый год оставалась одной и той же, американцы не изменяют своим предпочтениям. \n",
    "Европа: Процентное соотношение для игр по годам практически не меняется, как и у американцев, также картина получается очень похожей на американскую ситуацию, за исключением того, что гонки более популярны в Европе\n",
    "Япония: Как и ожидалось, ситуация совершенно другая, нежели в прошлых регионах, львиную долю проданных копий каждый год занимают ролевые игры, также в последние два года набрал популярность экшн, симуляторы были гораздо популярнее в 2012-2013, в целом процентное соотношение жанров по годам менее стабильное, чем в других регионах, однако рейтинг каждый год практически идентичный"
   ]
  },
  {
   "cell_type": "markdown",
   "metadata": {},
   "source": [
    "Теперь проанализируем зависимость продаж от рейтинга ESRB для каждого из регионов"
   ]
  },
  {
   "cell_type": "code",
   "execution_count": 67,
   "metadata": {},
   "outputs": [
    {
     "data": {
      "text/plain": [
       "<Figure size 432x288 with 0 Axes>"
      ]
     },
     "metadata": {},
     "output_type": "display_data"
    },
    {
     "data": {
      "image/png": "[encoded data removed]",
      "text/plain": [
       "<Figure size 1440x1440 with 3 Axes>"
      ]
     },
     "metadata": {
      "needs_background": "light"
     },
     "output_type": "display_data"
    },
    {
     "data": {
      "text/plain": [
       "<Figure size 432x288 with 0 Axes>"
      ]
     },
     "metadata": {},
     "output_type": "display_data"
    },
    {
     "data": {
      "image/png": "[encoded data removed]",
      "text/plain": [
       "<Figure size 1440x1440 with 3 Axes>"
      ]
     },
     "metadata": {
      "needs_background": "light"
     },
     "output_type": "display_data"
    }
   ],
   "source": [
    "plt.figure(1)\n",
    "fig = plt.figure(figsize=(20,20))\n",
    "region = ['na_sales','eu_sales','jp_sales']\n",
    "for i in range(3):\n",
    "    ax1 = plt.subplot(2, 3, i+1)\n",
    "    data[data[region[i]] != 0].boxplot(ax = ax1, column = region[i],by = 'rating', figsize= (15,20))\n",
    "    ax1.set_title(region[i])\n",
    "fig.suptitle('Зависимость продаж от рейтинга ESRB', fontsize = 30)\n",
    "plt.show()\n",
    "plt.figure(2)\n",
    "fig = plt.figure(figsize=(20,20))\n",
    "for i in range(3):\n",
    "    ax1 = plt.subplot(2, 3, i+1)\n",
    "    data[data[region[i]] != 0].boxplot(ax = ax1, column = region[i],by = 'rating', figsize= (15,20), showfliers = False)\n",
    "    ax1.set_title(region[i])\n",
    "fig.suptitle('Зависимость продаж от рейтинга ESRB без выбросов', fontsize = 30)\n",
    "plt.show()\n"
   ]
  },
  {
   "cell_type": "markdown",
   "metadata": {},
   "source": [
    "Америка: Медианные значения на достаточно низком уровне, как и квартили, практически у всех рейтингов, самая большая разбежка в количестве продаж для 75% у игр с рейтингом M(17+) и E(everyone), самая маленькая разбежка. Видим очень много выбросов практически для каждого возрастного ограничения, то есть это значит, что в популярные и очень продаваемые игры в Америке есть в любых возрастных категориях. Больше всего выбросов у игр для любого возраста, и у игр 17+ и у игр без рейтинга. Самые непродаваемые игры - в жанре T(13+),выбросы там также находятся низко\n",
    "\n",
    "Европа: Большими продажами, по сравнению с другими рейтингами, выделяется рейтинг M(17+), опять же заметно много выбросов, как и в Америке, больше выбросов у игр с рейтингами M, самые непродаваемые игры - в жанре T(13+), медиана опять же очень низкая\n",
    "\n",
    "Япония: снова же мы видим абсолютно другую ситуацию, игры с самым большим количеством проданных копий - игры с рейтингом E, то есть для любого возраста. Медианы также достаточно низкие, самые сильные выбросы у игр не имеющих рейтинг, игры с рейтингом M продаются хуже всего, что достаточно логично, японцы не большие любители насилия и подобных вещей в играх. "
   ]
  },
  {
   "cell_type": "markdown",
   "metadata": {},
   "source": [
    "### Проверка гипотез"
   ]
  },
  {
   "cell_type": "markdown",
   "metadata": {},
   "source": [
    "Гипотеза 1: *cредние пользовательские рейтинги платформ Xbox One и PC одинаковые*"
   ]
  },
  {
   "cell_type": "code",
   "execution_count": 68,
   "metadata": {},
   "outputs": [
    {
     "data": {
      "text/plain": [
       "2013.0"
      ]
     },
     "execution_count": 68,
     "metadata": {},
     "output_type": "execute_result"
    }
   ],
   "source": [
    "data[data['platform'] == 'XOne']['year_of_release'].min()"
   ]
  },
  {
   "cell_type": "markdown",
   "metadata": {},
   "source": [
    "Приставка XOne вышла только в 2013 году, поэтому для того, чтобы выровнять периоды использования платформ, будем рассматривать только данные об играх на PC с 2013"
   ]
  },
  {
   "cell_type": "code",
   "execution_count": 69,
   "metadata": {},
   "outputs": [
    {
     "name": "stdout",
     "output_type": "stream",
     "text": [
      "Количество игр на платформе Xbox с оценками пользователей =  182\n",
      "Количество игр на платформе PC с оценками пользователей =  155\n"
     ]
    }
   ],
   "source": [
    "print('Количество игр на платформе Xbox с оценками пользователей = ',len(data[data['platform'] == 'XOne'].dropna(subset = ['user_score'])))\n",
    "print('Количество игр на платформе PC с оценками пользователей = ',len(data.loc[(data['platform'] == 'PC') & (data['year_of_release'] >= 2013)].dropna(subset = ['user_score'])))"
   ]
  },
  {
   "cell_type": "markdown",
   "metadata": {},
   "source": [
    "Это гипотеза о равенстве средних двух генеральных совокупностей.\n",
    "\n",
    "Нулевая гипотеза: среднее пользовательских рейтингов для платформы Xbox One = среднему пользовательских рейтингов для платформы PC.\n",
    "\n",
    "Альтернативная гипотеза: среднее пользовательских рейтингов для платформы Xbox One != среднему пользовательских рейтингов для платформы PC.\n",
    "\n",
    "Для проверки этой гипотезы будем использовать метод `scipy.stats.ttest_ind()`, то есть будем использовать t-критерий Уэлча для двух независимых выборок, так как в нашем случае выборки разного размера, генеральные совокупности (пользовательские рейтинги двух платформ) независимы, и благодаря центральной предельной теореме, так как размер наших выборок достаточно большой, выборочные средние каждой генеравльной совокупности распределены нормально \n",
    "\n",
    "Критический уровень статистической значимости установим равным 5%"
   ]
  },
  {
   "cell_type": "code",
   "execution_count": 70,
   "metadata": {},
   "outputs": [
    {
     "name": "stdout",
     "output_type": "stream",
     "text": [
      "p-значение: 0.5489537965134912\n",
      "Нулевую гипотезу не удалось отвергнуть\n"
     ]
    }
   ],
   "source": [
    "alpha = 0.05\n",
    "results = st.ttest_ind(\n",
    "    data[data['platform'] == 'XOne']['user_score'].dropna(), \n",
    "    data[data['platform'] == 'PC']['user_score'].dropna(), equal_var=False)\n",
    "print('p-значение:', results.pvalue)\n",
    "if results.pvalue < alpha :\n",
    "    print('Отвергаем нулевую гипотезу')\n",
    "else:\n",
    "    print('Нулевую гипотезу не удалось отвергнуть')"
   ]
  },
  {
   "cell_type": "markdown",
   "metadata": {},
   "source": [
    "Вероятность получить такое же или большее различие, при условии что среднее пользовательских рейтингов для платформы Xbox One = среднему пользовательских рейтингов для платформы PC - p-value - равна более 54%, следовательно мы не можем отвергнуть нулевую гипотезу о равенстве средних двух платформ, исходя из нашего теста, данные не противоречат гипотезе."
   ]
  },
  {
   "cell_type": "markdown",
   "metadata": {},
   "source": [
    "Гипотеза 2: *cредние пользовательские рейтинги жанров Action и Sports разные*"
   ]
  },
  {
   "cell_type": "code",
   "execution_count": 72,
   "metadata": {},
   "outputs": [
    {
     "name": "stdout",
     "output_type": "stream",
     "text": [
      "Количество игр жанра Action с оценками пользователей =  523\n",
      "Количество игр жанра Sports с оценками пользователей =  195\n"
     ]
    }
   ],
   "source": [
    "print('Количество игр жанра Action с оценками пользователей = ',len(data[data['genre'] == 'Action'].dropna(subset = ['user_score'])))\n",
    "print('Количество игр жанра Sports с оценками пользователей = ',len(data[data['genre'] == 'Sports'].dropna(subset = ['user_score'])))"
   ]
  },
  {
   "cell_type": "markdown",
   "metadata": {},
   "source": [
    "Нулевая гипотеза: среднее пользовательских рейтингов жанра Action = среднему пользовательских рейтингов жанра Sports.\n",
    "\n",
    "Альтернативная гипотеза: среднее пользовательских рейтингов жанра Action != среднему пользовательских рейтингов жанра Sports.\n",
    "\n",
    "Для проверки этой гипотезы будем использовать метод `scipy.stats.ttest_ind()`, то есть будем использовать t-критерий Уэлча для двух независимых выборок, так как в нашем случае выборки разного размера, генеральные совокупности (пользовательские рейтинги двух жанров) независимы, и благодаря центральной предельной теореме, так как размер наших выборок достаточно большой, выборочные средние каждой генеравльной совокупности распределены нормально \n",
    "\n",
    "Критический уровень статистической значимости установим равным 5%"
   ]
  },
  {
   "cell_type": "code",
   "execution_count": 73,
   "metadata": {},
   "outputs": [
    {
     "name": "stdout",
     "output_type": "stream",
     "text": [
      "p-значение: 4.24307776572644e-20\n",
      "Отвергаем нулевую гипотезу\n"
     ]
    }
   ],
   "source": [
    "alpha = 0.05\n",
    "results = st.ttest_ind(\n",
    "    data[data['genre'] == 'Action']['user_score'].dropna(), \n",
    "    data[data['genre'] == 'Sports']['user_score'].dropna(), equal_var=False)\n",
    "print('p-значение:', results.pvalue)\n",
    "if results.pvalue < alpha :\n",
    "    print('Отвергаем нулевую гипотезу')\n",
    "else:\n",
    "    print('Нулевую гипотезу не удалось отвергнуть')"
   ]
  },
  {
   "cell_type": "markdown",
   "metadata": {},
   "source": [
    "Вероятность получить такое же или большее различие, при условии что среднее пользовательских рейтингов жанра Action = среднему пользовательских рейтингов жанра Sports -p-value - очень мала, следовательно мы отвергаем нулевую гипотезу о равенстве средних и принимаем альтернативную гипотезу о неравенстве двух средних. Гипотеза 2 верна."
   ]
  },
  {
   "cell_type": "markdown",
   "metadata": {},
   "source": [
    "### Выводы:\n",
    "Была проведена предобработка данных, а именно : приведение столбцов к нижнему регистру, обработка пропусков, создание столбцов для удобства дальнейшего анализа\n",
    "Был проведен исследовательский анализ данных, который выявил следующие особенности данных, которые помогут спланировать кампанию магазина на 2017 год\n",
    "1. После 2011 заметен спад в выпуске новых игр\n",
    "2. Платформы с наибольшими продажами за все время - PS2, X360,PS3,Wii,DS, однако продажи новых игр на этих платформах очень маленькие, по сравнению с продажами ранее\n",
    "3. Срок жизни платформ 10-12 лет\n",
    "4. Был выделен актуальный период для прогнозирования: игры, выпущенные после 2012 года (включительно)\n",
    "5. Платформы с наибольшими продажами игр с 2012 по 2016 - PS4,PS3,X360,3DS,XOne\n",
    "6. Наиболее перспективные платформы: PS4,3DS,XOne\n",
    "7. Большая часть игр на платформах продается очень малым количеством копий, однако практически у каждой платформы есть игры с выдающимися продажами\n",
    "8. В топе всех платформ много пересечения по играм\n",
    "9. Зависимости сильной между оценкой критиков и количеством продаж нет, но если оценка критика меньше 60, то тогда это непопулярная игра\n",
    "10. Зависимость количества продаж от оценки пользователей еще более слабая, но все равно можно утверждать, что если оценка меньше 4, то это в основном непопулярные игры\n",
    "11. Больше всего игр за этот период с 2012 года было произведено в жанре экшн, также довольно много игр выходят в жанре ролевые игры, меньше всего - симуляторы, головоломки и стратегии\n",
    "12. На данный момент головоломки практически утратили свою актуальность, все больше выпускается экшна\n",
    "13. Очень перспективный жанр - шутеры\n",
    "14. Среднее количество проданных копий достаточно малое для жанра экшн, хотя игр в этом жанре выпускается много\n",
    "15. Стабильно успешен жанр спорт и платформеры\n",
    "16. Для Америки и Европы перспективные платформы: PS4, XOne.\n",
    "17. В Японии продажи меньше, чем в других районах\n",
    "18. Xbox гораздо менее популярны в Японии, чем в других районах, в Японии предпочтение отдают ручным консолям\n",
    "19. Самые перспективные платформы в Японии - 3DS,PSV,PS4, \n",
    "20. Предпочтения в играх в Японии сильно отличается от других регионов\n",
    "21. Экшн,шутеры и спорт - стабильно популярные жанры для Америки и Европы, также достаточно популярны ролевые игры\n",
    "22. Топ жанров в Японии отличается от других районов: на первом месте ролевые игры, потом экшн, симуляторы и файтинги\n",
    "23. Для Америки самая большая разбежка в количестве продаж для 75% с рейтингом M, самая маленькая - у игр с рейтингом T \n",
    "24. Очень продаваемые игры в Америке и Европе есть в любых возрастных категориях\n",
    "25. В Европе большими продажами выделяется рейтинг M\n",
    "26. В Японии игры с самым большим количеством проданных копий - игры с рейтингом E, игры с рейтингом M продаются хуже всего\n",
    "27. Средние пользовательские рейтинги платформ XOne и PC можно считать равными, исходя из проведенного t-теста\n",
    "28. Средние пользовательские рейтинги жанров Action и Sport разные"
   ]
  }
 ],
 "metadata": {
  "ExecuteTimeLog": [
   {
    "duration": 1268,
    "start_time": "2022-08-03T07:45:48.030Z"
   },
   {
    "duration": 10,
    "start_time": "2022-08-03T07:45:49.300Z"
   },
   {
    "duration": 99,
    "start_time": "2022-08-03T07:45:49.311Z"
   },
   {
    "duration": 16,
    "start_time": "2022-08-03T07:45:49.411Z"
   },
   {
    "duration": 24,
    "start_time": "2022-08-03T07:45:49.429Z"
   },
   {
    "duration": 5,
    "start_time": "2022-08-03T07:45:49.455Z"
   },
   {
    "duration": 24,
    "start_time": "2022-08-03T07:45:49.462Z"
   },
   {
    "duration": 31,
    "start_time": "2022-08-03T07:45:49.488Z"
   },
   {
    "duration": 6,
    "start_time": "2022-08-03T07:45:49.521Z"
   },
   {
    "duration": 370,
    "start_time": "2022-08-03T07:45:49.529Z"
   },
   {
    "duration": 32,
    "start_time": "2022-08-03T07:45:49.901Z"
   },
   {
    "duration": 20,
    "start_time": "2022-08-03T07:45:49.935Z"
   },
   {
    "duration": 10,
    "start_time": "2022-08-03T07:45:49.957Z"
   },
   {
    "duration": 258,
    "start_time": "2022-08-03T07:45:49.971Z"
   },
   {
    "duration": 6,
    "start_time": "2022-08-03T07:45:50.230Z"
   },
   {
    "duration": 11,
    "start_time": "2022-08-03T07:45:50.237Z"
   },
   {
    "duration": 221,
    "start_time": "2022-08-03T07:45:50.250Z"
   },
   {
    "duration": 13,
    "start_time": "2022-08-03T07:45:50.473Z"
   },
   {
    "duration": 11,
    "start_time": "2022-08-03T07:45:50.488Z"
   },
   {
    "duration": 7079,
    "start_time": "2022-08-03T07:45:50.509Z"
   },
   {
    "duration": 4,
    "start_time": "2022-08-03T07:45:57.590Z"
   },
   {
    "duration": 26,
    "start_time": "2022-08-03T07:45:57.596Z"
   },
   {
    "duration": 26,
    "start_time": "2022-08-03T07:45:57.623Z"
   },
   {
    "duration": 15248,
    "start_time": "2022-08-03T07:45:57.651Z"
   },
   {
    "duration": 6271,
    "start_time": "2022-08-03T07:46:12.901Z"
   },
   {
    "duration": 13,
    "start_time": "2022-08-03T07:46:19.174Z"
   },
   {
    "duration": 28,
    "start_time": "2022-08-03T07:46:19.188Z"
   },
   {
    "duration": 16,
    "start_time": "2022-08-03T07:46:19.217Z"
   },
   {
    "duration": 14,
    "start_time": "2022-08-03T07:46:19.235Z"
   },
   {
    "duration": 379,
    "start_time": "2022-08-03T07:46:19.251Z"
   },
   {
    "duration": 16,
    "start_time": "2022-08-03T07:46:19.631Z"
   },
   {
    "duration": 13,
    "start_time": "2022-08-03T07:46:19.648Z"
   },
   {
    "duration": 1386,
    "start_time": "2022-08-03T07:46:19.663Z"
   },
   {
    "duration": 35,
    "start_time": "2022-08-03T07:46:21.052Z"
   },
   {
    "duration": 5,
    "start_time": "2022-08-03T07:46:21.089Z"
   },
   {
    "duration": 26,
    "start_time": "2022-08-03T07:46:21.095Z"
   },
   {
    "duration": 1079,
    "start_time": "2022-08-03T07:46:21.123Z"
   },
   {
    "duration": 593,
    "start_time": "2022-08-03T07:46:22.205Z"
   },
   {
    "duration": 394,
    "start_time": "2022-08-03T07:46:22.800Z"
   },
   {
    "duration": 24,
    "start_time": "2022-08-03T07:46:23.196Z"
   },
   {
    "duration": 4,
    "start_time": "2022-08-03T07:46:23.224Z"
   },
   {
    "duration": 514,
    "start_time": "2022-08-03T07:46:23.230Z"
   },
   {
    "duration": 8,
    "start_time": "2022-08-03T07:46:23.746Z"
   },
   {
    "duration": 14,
    "start_time": "2022-08-03T07:46:23.756Z"
   },
   {
    "duration": 760,
    "start_time": "2022-08-03T07:46:23.772Z"
   },
   {
    "duration": 779,
    "start_time": "2022-08-03T07:46:24.533Z"
   },
   {
    "duration": 222,
    "start_time": "2022-08-03T07:46:25.314Z"
   },
   {
    "duration": 529,
    "start_time": "2022-08-03T07:46:25.537Z"
   },
   {
    "duration": 617,
    "start_time": "2022-08-03T07:46:26.068Z"
   },
   {
    "duration": 494,
    "start_time": "2022-08-03T07:46:26.687Z"
   },
   {
    "duration": 28,
    "start_time": "2022-08-03T07:46:27.184Z"
   },
   {
    "duration": 725,
    "start_time": "2022-08-03T07:46:27.214Z"
   },
   {
    "duration": 205,
    "start_time": "2022-08-03T07:46:27.941Z"
   },
   {
    "duration": 14,
    "start_time": "2022-08-03T07:46:28.148Z"
   },
   {
    "duration": 702,
    "start_time": "2022-08-03T07:46:28.164Z"
   },
   {
    "duration": 193,
    "start_time": "2022-08-03T07:46:28.868Z"
   },
   {
    "duration": 14,
    "start_time": "2022-08-03T07:46:29.063Z"
   },
   {
    "duration": 604,
    "start_time": "2022-08-03T07:46:29.079Z"
   },
   {
    "duration": 203,
    "start_time": "2022-08-03T07:46:29.685Z"
   },
   {
    "duration": 22,
    "start_time": "2022-08-03T07:46:29.889Z"
   },
   {
    "duration": 503,
    "start_time": "2022-08-03T07:46:29.913Z"
   },
   {
    "duration": 15,
    "start_time": "2022-08-03T07:46:30.417Z"
   },
   {
    "duration": 510,
    "start_time": "2022-08-03T07:46:30.433Z"
   },
   {
    "duration": 15,
    "start_time": "2022-08-03T07:46:30.944Z"
   },
   {
    "duration": 654,
    "start_time": "2022-08-03T07:46:30.961Z"
   },
   {
    "duration": 479,
    "start_time": "2022-08-03T07:46:31.617Z"
   },
   {
    "duration": 13,
    "start_time": "2022-08-03T07:46:32.109Z"
   },
   {
    "duration": 467,
    "start_time": "2022-08-03T07:46:32.124Z"
   },
   {
    "duration": 466,
    "start_time": "2022-08-03T07:46:32.593Z"
   },
   {
    "duration": 11,
    "start_time": "2022-08-03T07:46:33.061Z"
   },
   {
    "duration": 16,
    "start_time": "2022-08-03T07:46:33.074Z"
   },
   {
    "duration": 24,
    "start_time": "2022-08-03T07:46:33.092Z"
   },
   {
    "duration": 8,
    "start_time": "2022-08-03T07:46:33.118Z"
   },
   {
    "duration": 76,
    "start_time": "2022-08-03T07:47:14.673Z"
   },
   {
    "duration": 54,
    "start_time": "2022-08-03T07:47:28.721Z"
   },
   {
    "duration": 3,
    "start_time": "2022-08-03T08:07:40.182Z"
   },
   {
    "duration": 1180,
    "start_time": "2022-08-03T09:16:07.685Z"
   },
   {
    "duration": 3,
    "start_time": "2022-08-03T09:16:08.867Z"
   },
   {
    "duration": 61,
    "start_time": "2022-08-03T09:16:08.871Z"
   },
   {
    "duration": 14,
    "start_time": "2022-08-03T09:16:08.934Z"
   },
   {
    "duration": 18,
    "start_time": "2022-08-03T09:16:08.950Z"
   },
   {
    "duration": 5,
    "start_time": "2022-08-03T09:16:08.969Z"
   },
   {
    "duration": 40,
    "start_time": "2022-08-03T09:16:08.976Z"
   },
   {
    "duration": 56,
    "start_time": "2022-08-03T09:16:09.018Z"
   },
   {
    "duration": 46,
    "start_time": "2022-08-03T09:16:09.076Z"
   },
   {
    "duration": 7,
    "start_time": "2022-08-03T09:16:09.126Z"
   },
   {
    "duration": 390,
    "start_time": "2022-08-03T09:16:09.134Z"
   },
   {
    "duration": 19,
    "start_time": "2022-08-03T09:16:09.526Z"
   },
   {
    "duration": 10,
    "start_time": "2022-08-03T09:16:09.547Z"
   },
   {
    "duration": 269,
    "start_time": "2022-08-03T09:16:09.558Z"
   },
   {
    "duration": 6,
    "start_time": "2022-08-03T09:16:09.829Z"
   },
   {
    "duration": 17,
    "start_time": "2022-08-03T09:16:09.836Z"
   },
   {
    "duration": 222,
    "start_time": "2022-08-03T09:16:09.855Z"
   },
   {
    "duration": 11,
    "start_time": "2022-08-03T09:16:10.079Z"
   },
   {
    "duration": 20,
    "start_time": "2022-08-03T09:16:10.091Z"
   },
   {
    "duration": 7194,
    "start_time": "2022-08-03T09:16:10.112Z"
   },
   {
    "duration": 7,
    "start_time": "2022-08-03T09:16:17.309Z"
   },
   {
    "duration": 49,
    "start_time": "2022-08-03T09:16:17.317Z"
   },
   {
    "duration": 32,
    "start_time": "2022-08-03T09:16:17.368Z"
   },
   {
    "duration": 16130,
    "start_time": "2022-08-03T09:16:17.402Z"
   },
   {
    "duration": 6509,
    "start_time": "2022-08-03T09:16:33.535Z"
   },
   {
    "duration": 17,
    "start_time": "2022-08-03T09:16:40.046Z"
   },
   {
    "duration": 26,
    "start_time": "2022-08-03T09:16:40.064Z"
   },
   {
    "duration": 34,
    "start_time": "2022-08-03T09:16:40.092Z"
   },
   {
    "duration": 20,
    "start_time": "2022-08-03T09:16:40.128Z"
   },
   {
    "duration": 404,
    "start_time": "2022-08-03T09:16:40.150Z"
   },
   {
    "duration": 17,
    "start_time": "2022-08-03T09:16:40.556Z"
   },
   {
    "duration": 13,
    "start_time": "2022-08-03T09:16:40.574Z"
   },
   {
    "duration": 1342,
    "start_time": "2022-08-03T09:16:40.589Z"
   },
   {
    "duration": 27,
    "start_time": "2022-08-03T09:16:41.933Z"
   },
   {
    "duration": 5,
    "start_time": "2022-08-03T09:16:41.962Z"
   },
   {
    "duration": 17,
    "start_time": "2022-08-03T09:16:41.969Z"
   },
   {
    "duration": 1103,
    "start_time": "2022-08-03T09:16:41.988Z"
   },
   {
    "duration": 591,
    "start_time": "2022-08-03T09:16:43.093Z"
   },
   {
    "duration": 442,
    "start_time": "2022-08-03T09:16:43.686Z"
   },
   {
    "duration": 15,
    "start_time": "2022-08-03T09:16:44.129Z"
   },
   {
    "duration": 16,
    "start_time": "2022-08-03T09:16:44.145Z"
   },
   {
    "duration": 603,
    "start_time": "2022-08-03T09:16:44.162Z"
   },
   {
    "duration": 10,
    "start_time": "2022-08-03T09:16:44.767Z"
   },
   {
    "duration": 33,
    "start_time": "2022-08-03T09:16:44.779Z"
   },
   {
    "duration": 806,
    "start_time": "2022-08-03T09:16:44.814Z"
   },
   {
    "duration": 871,
    "start_time": "2022-08-03T09:16:45.622Z"
   },
   {
    "duration": 211,
    "start_time": "2022-08-03T09:16:46.494Z"
   },
   {
    "duration": 558,
    "start_time": "2022-08-03T09:16:46.711Z"
   },
   {
    "duration": 729,
    "start_time": "2022-08-03T09:16:47.270Z"
   },
   {
    "duration": 522,
    "start_time": "2022-08-03T09:16:48.001Z"
   },
   {
    "duration": 15,
    "start_time": "2022-08-03T09:16:48.524Z"
   },
   {
    "duration": 598,
    "start_time": "2022-08-03T09:16:48.541Z"
   },
   {
    "duration": 202,
    "start_time": "2022-08-03T09:16:49.141Z"
   },
   {
    "duration": 15,
    "start_time": "2022-08-03T09:16:49.345Z"
   },
   {
    "duration": 728,
    "start_time": "2022-08-03T09:16:49.362Z"
   },
   {
    "duration": 198,
    "start_time": "2022-08-03T09:16:50.092Z"
   },
   {
    "duration": 27,
    "start_time": "2022-08-03T09:16:50.292Z"
   },
   {
    "duration": 620,
    "start_time": "2022-08-03T09:16:50.321Z"
   },
   {
    "duration": 221,
    "start_time": "2022-08-03T09:16:50.945Z"
   },
   {
    "duration": 15,
    "start_time": "2022-08-03T09:16:51.168Z"
   },
   {
    "duration": 529,
    "start_time": "2022-08-03T09:16:51.184Z"
   },
   {
    "duration": 27,
    "start_time": "2022-08-03T09:16:51.716Z"
   },
   {
    "duration": 684,
    "start_time": "2022-08-03T09:16:51.745Z"
   },
   {
    "duration": 15,
    "start_time": "2022-08-03T09:16:52.431Z"
   },
   {
    "duration": 552,
    "start_time": "2022-08-03T09:16:52.448Z"
   },
   {
    "duration": 516,
    "start_time": "2022-08-03T09:16:53.008Z"
   },
   {
    "duration": 13,
    "start_time": "2022-08-03T09:16:53.526Z"
   },
   {
    "duration": 486,
    "start_time": "2022-08-03T09:16:53.541Z"
   },
   {
    "duration": 494,
    "start_time": "2022-08-03T09:16:54.030Z"
   },
   {
    "duration": 12,
    "start_time": "2022-08-03T09:16:54.525Z"
   },
   {
    "duration": 8,
    "start_time": "2022-08-03T09:16:54.539Z"
   },
   {
    "duration": 15,
    "start_time": "2022-08-03T09:16:54.549Z"
   },
   {
    "duration": 16,
    "start_time": "2022-08-03T09:16:54.566Z"
   },
   {
    "duration": 1214,
    "start_time": "2022-08-04T23:50:21.907Z"
   },
   {
    "duration": 3,
    "start_time": "2022-08-04T23:50:23.123Z"
   },
   {
    "duration": 94,
    "start_time": "2022-08-04T23:50:23.127Z"
   },
   {
    "duration": 14,
    "start_time": "2022-08-04T23:50:23.223Z"
   },
   {
    "duration": 21,
    "start_time": "2022-08-04T23:50:23.238Z"
   },
   {
    "duration": 4,
    "start_time": "2022-08-04T23:50:23.260Z"
   },
   {
    "duration": 10,
    "start_time": "2022-08-04T23:50:23.265Z"
   },
   {
    "duration": 60,
    "start_time": "2022-08-04T23:50:23.276Z"
   },
   {
    "duration": 18,
    "start_time": "2022-08-04T23:50:23.338Z"
   },
   {
    "duration": 4,
    "start_time": "2022-08-04T23:50:23.358Z"
   },
   {
    "duration": 12,
    "start_time": "2022-08-04T23:50:23.364Z"
   },
   {
    "duration": 25,
    "start_time": "2022-08-04T23:50:23.378Z"
   },
   {
    "duration": 23,
    "start_time": "2022-08-04T23:50:23.404Z"
   },
   {
    "duration": 10,
    "start_time": "2022-08-04T23:50:23.428Z"
   },
   {
    "duration": 235,
    "start_time": "2022-08-04T23:50:23.439Z"
   },
   {
    "duration": 5,
    "start_time": "2022-08-04T23:50:23.676Z"
   },
   {
    "duration": 18,
    "start_time": "2022-08-04T23:50:23.683Z"
   },
   {
    "duration": 199,
    "start_time": "2022-08-04T23:50:23.702Z"
   },
   {
    "duration": 13,
    "start_time": "2022-08-04T23:50:23.903Z"
   },
   {
    "duration": 8,
    "start_time": "2022-08-04T23:50:23.919Z"
   },
   {
    "duration": 5979,
    "start_time": "2022-08-04T23:50:23.929Z"
   },
   {
    "duration": 6,
    "start_time": "2022-08-04T23:50:29.909Z"
   },
   {
    "duration": 15,
    "start_time": "2022-08-04T23:50:29.917Z"
   },
   {
    "duration": 19,
    "start_time": "2022-08-04T23:50:29.934Z"
   },
   {
    "duration": 13466,
    "start_time": "2022-08-04T23:50:29.954Z"
   },
   {
    "duration": 5228,
    "start_time": "2022-08-04T23:50:43.422Z"
   },
   {
    "duration": 6,
    "start_time": "2022-08-04T23:50:48.652Z"
   },
   {
    "duration": 14,
    "start_time": "2022-08-04T23:50:48.663Z"
   },
   {
    "duration": 24,
    "start_time": "2022-08-04T23:50:48.679Z"
   },
   {
    "duration": 12,
    "start_time": "2022-08-04T23:50:48.704Z"
   },
   {
    "duration": 17,
    "start_time": "2022-08-04T23:50:48.717Z"
   },
   {
    "duration": 13,
    "start_time": "2022-08-04T23:50:48.736Z"
   },
   {
    "duration": 376,
    "start_time": "2022-08-04T23:50:48.751Z"
   },
   {
    "duration": 15,
    "start_time": "2022-08-04T23:50:49.128Z"
   },
   {
    "duration": 12,
    "start_time": "2022-08-04T23:50:49.144Z"
   },
   {
    "duration": 1343,
    "start_time": "2022-08-04T23:50:49.157Z"
   },
   {
    "duration": 14,
    "start_time": "2022-08-04T23:50:50.501Z"
   },
   {
    "duration": 24,
    "start_time": "2022-08-04T23:50:50.516Z"
   },
   {
    "duration": 17,
    "start_time": "2022-08-04T23:50:50.541Z"
   },
   {
    "duration": 28,
    "start_time": "2022-08-04T23:50:50.559Z"
   },
   {
    "duration": 525,
    "start_time": "2022-08-04T23:50:50.588Z"
   },
   {
    "duration": 5,
    "start_time": "2022-08-04T23:50:51.115Z"
   },
   {
    "duration": 15,
    "start_time": "2022-08-04T23:50:51.121Z"
   },
   {
    "duration": 878,
    "start_time": "2022-08-04T23:50:51.138Z"
   },
   {
    "duration": 305,
    "start_time": "2022-08-04T23:50:52.017Z"
   },
   {
    "duration": 436,
    "start_time": "2022-08-04T23:50:52.323Z"
   },
   {
    "duration": 13,
    "start_time": "2022-08-04T23:50:52.761Z"
   },
   {
    "duration": 337,
    "start_time": "2022-08-04T23:50:52.775Z"
   },
   {
    "duration": 9,
    "start_time": "2022-08-04T23:50:53.113Z"
   },
   {
    "duration": 13,
    "start_time": "2022-08-04T23:50:53.123Z"
   },
   {
    "duration": 754,
    "start_time": "2022-08-04T23:50:53.138Z"
   },
   {
    "duration": 771,
    "start_time": "2022-08-04T23:50:53.900Z"
   },
   {
    "duration": 196,
    "start_time": "2022-08-04T23:50:54.673Z"
   },
   {
    "duration": 366,
    "start_time": "2022-08-04T23:50:54.871Z"
   },
   {
    "duration": 465,
    "start_time": "2022-08-04T23:50:55.239Z"
   },
   {
    "duration": 365,
    "start_time": "2022-08-04T23:50:55.705Z"
   },
   {
    "duration": 686,
    "start_time": "2022-08-04T23:50:56.072Z"
   },
   {
    "duration": 42,
    "start_time": "2022-08-04T23:50:56.760Z"
   },
   {
    "duration": 321,
    "start_time": "2022-08-04T23:50:56.804Z"
   },
   {
    "duration": 22,
    "start_time": "2022-08-04T23:50:57.127Z"
   },
   {
    "duration": 558,
    "start_time": "2022-08-04T23:50:57.150Z"
   },
   {
    "duration": 521,
    "start_time": "2022-08-04T23:50:57.710Z"
   },
   {
    "duration": 30,
    "start_time": "2022-08-04T23:50:58.232Z"
   },
   {
    "duration": 386,
    "start_time": "2022-08-04T23:50:58.264Z"
   },
   {
    "duration": 21,
    "start_time": "2022-08-04T23:50:58.651Z"
   },
   {
    "duration": 525,
    "start_time": "2022-08-04T23:50:58.674Z"
   },
   {
    "duration": 782,
    "start_time": "2022-08-04T23:50:59.201Z"
   },
   {
    "duration": 6,
    "start_time": "2022-08-04T23:50:59.985Z"
   },
   {
    "duration": 31,
    "start_time": "2022-08-04T23:50:59.992Z"
   },
   {
    "duration": 16,
    "start_time": "2022-08-04T23:51:00.025Z"
   },
   {
    "duration": 13,
    "start_time": "2022-08-04T23:51:00.043Z"
   },
   {
    "duration": 10,
    "start_time": "2022-08-04T23:51:00.057Z"
   },
   {
    "duration": 45,
    "start_time": "2022-08-05T00:18:01.373Z"
   },
   {
    "duration": 3,
    "start_time": "2022-08-05T00:18:01.700Z"
   },
   {
    "duration": 10,
    "start_time": "2022-08-05T00:18:02.125Z"
   },
   {
    "duration": 5,
    "start_time": "2022-08-05T00:18:02.444Z"
   },
   {
    "duration": 4,
    "start_time": "2022-08-05T00:18:02.755Z"
   },
   {
    "duration": 7,
    "start_time": "2022-08-05T00:18:03.557Z"
   },
   {
    "duration": 6,
    "start_time": "2022-08-05T00:18:04.245Z"
   },
   {
    "duration": 575,
    "start_time": "2022-08-05T00:18:04.844Z"
   },
   {
    "duration": 4,
    "start_time": "2022-08-05T00:18:07.211Z"
   },
   {
    "duration": 637,
    "start_time": "2022-08-05T00:18:07.859Z"
   },
   {
    "duration": 6,
    "start_time": "2022-08-05T00:18:40.182Z"
   },
   {
    "duration": 8,
    "start_time": "2022-08-05T00:20:37.194Z"
   },
   {
    "duration": 1207,
    "start_time": "2022-08-05T00:23:12.959Z"
   },
   {
    "duration": 3,
    "start_time": "2022-08-05T00:23:14.170Z"
   },
   {
    "duration": 65,
    "start_time": "2022-08-05T00:23:14.174Z"
   },
   {
    "duration": 17,
    "start_time": "2022-08-05T00:23:14.242Z"
   },
   {
    "duration": 21,
    "start_time": "2022-08-05T00:23:14.261Z"
   },
   {
    "duration": 20,
    "start_time": "2022-08-05T00:23:14.284Z"
   },
   {
    "duration": 16,
    "start_time": "2022-08-05T00:23:14.306Z"
   },
   {
    "duration": 49,
    "start_time": "2022-08-05T00:23:14.323Z"
   },
   {
    "duration": 33,
    "start_time": "2022-08-05T00:23:14.373Z"
   },
   {
    "duration": 4,
    "start_time": "2022-08-05T00:23:14.409Z"
   },
   {
    "duration": 14,
    "start_time": "2022-08-05T00:23:14.415Z"
   },
   {
    "duration": 4,
    "start_time": "2022-08-05T00:23:14.431Z"
   },
   {
    "duration": 33,
    "start_time": "2022-08-05T00:23:14.437Z"
   },
   {
    "duration": 37,
    "start_time": "2022-08-05T00:23:14.474Z"
   },
   {
    "duration": 228,
    "start_time": "2022-08-05T00:23:14.513Z"
   },
   {
    "duration": 6,
    "start_time": "2022-08-05T00:23:14.744Z"
   },
   {
    "duration": 15,
    "start_time": "2022-08-05T00:23:14.752Z"
   },
   {
    "duration": 223,
    "start_time": "2022-08-05T00:23:14.768Z"
   },
   {
    "duration": 14,
    "start_time": "2022-08-05T00:23:14.993Z"
   },
   {
    "duration": 16,
    "start_time": "2022-08-05T00:23:15.009Z"
   },
   {
    "duration": 6184,
    "start_time": "2022-08-05T00:23:15.027Z"
   },
   {
    "duration": 6,
    "start_time": "2022-08-05T00:23:21.213Z"
   },
   {
    "duration": 23,
    "start_time": "2022-08-05T00:23:21.220Z"
   },
   {
    "duration": 22,
    "start_time": "2022-08-05T00:23:21.245Z"
   },
   {
    "duration": 13369,
    "start_time": "2022-08-05T00:23:21.268Z"
   },
   {
    "duration": 5364,
    "start_time": "2022-08-05T00:23:34.639Z"
   },
   {
    "duration": 7,
    "start_time": "2022-08-05T00:23:40.004Z"
   },
   {
    "duration": 26,
    "start_time": "2022-08-05T00:23:40.016Z"
   },
   {
    "duration": 9,
    "start_time": "2022-08-05T00:23:40.043Z"
   },
   {
    "duration": 13,
    "start_time": "2022-08-05T00:23:40.054Z"
   },
   {
    "duration": 44,
    "start_time": "2022-08-05T00:23:40.069Z"
   },
   {
    "duration": 14,
    "start_time": "2022-08-05T00:23:40.115Z"
   },
   {
    "duration": 362,
    "start_time": "2022-08-05T00:23:40.131Z"
   },
   {
    "duration": 17,
    "start_time": "2022-08-05T00:23:40.495Z"
   },
   {
    "duration": 13,
    "start_time": "2022-08-05T00:23:40.514Z"
   },
   {
    "duration": 1430,
    "start_time": "2022-08-05T00:23:40.528Z"
   },
   {
    "duration": 13,
    "start_time": "2022-08-05T00:23:41.960Z"
   },
   {
    "duration": 26,
    "start_time": "2022-08-05T00:23:41.975Z"
   },
   {
    "duration": 9,
    "start_time": "2022-08-05T00:23:42.002Z"
   },
   {
    "duration": 25,
    "start_time": "2022-08-05T00:23:42.013Z"
   },
   {
    "duration": 529,
    "start_time": "2022-08-05T00:23:42.040Z"
   },
   {
    "duration": 6,
    "start_time": "2022-08-05T00:23:42.570Z"
   },
   {
    "duration": 24,
    "start_time": "2022-08-05T00:23:42.577Z"
   },
   {
    "duration": 835,
    "start_time": "2022-08-05T00:23:42.602Z"
   },
   {
    "duration": 312,
    "start_time": "2022-08-05T00:23:43.439Z"
   },
   {
    "duration": 423,
    "start_time": "2022-08-05T00:23:43.752Z"
   },
   {
    "duration": 12,
    "start_time": "2022-08-05T00:23:44.177Z"
   },
   {
    "duration": 294,
    "start_time": "2022-08-05T00:23:44.200Z"
   },
   {
    "duration": 10,
    "start_time": "2022-08-05T00:23:44.496Z"
   },
   {
    "duration": 12,
    "start_time": "2022-08-05T00:23:44.507Z"
   },
   {
    "duration": 726,
    "start_time": "2022-08-05T00:23:44.520Z"
   },
   {
    "duration": 708,
    "start_time": "2022-08-05T00:23:45.248Z"
   },
   {
    "duration": 188,
    "start_time": "2022-08-05T00:23:45.958Z"
   },
   {
    "duration": 328,
    "start_time": "2022-08-05T00:23:46.148Z"
   },
   {
    "duration": 468,
    "start_time": "2022-08-05T00:23:46.478Z"
   },
   {
    "duration": 324,
    "start_time": "2022-08-05T00:23:46.948Z"
   },
   {
    "duration": 645,
    "start_time": "2022-08-05T00:23:47.274Z"
   },
   {
    "duration": 33,
    "start_time": "2022-08-05T00:23:47.921Z"
   },
   {
    "duration": 360,
    "start_time": "2022-08-05T00:23:47.956Z"
   },
   {
    "duration": 22,
    "start_time": "2022-08-05T00:23:48.317Z"
   },
   {
    "duration": 579,
    "start_time": "2022-08-05T00:23:48.341Z"
   },
   {
    "duration": 501,
    "start_time": "2022-08-05T00:23:48.922Z"
   },
   {
    "duration": 30,
    "start_time": "2022-08-05T00:23:49.424Z"
   },
   {
    "duration": 386,
    "start_time": "2022-08-05T00:23:49.455Z"
   },
   {
    "duration": 25,
    "start_time": "2022-08-05T00:23:49.843Z"
   },
   {
    "duration": 546,
    "start_time": "2022-08-05T00:23:49.870Z"
   },
   {
    "duration": 816,
    "start_time": "2022-08-05T00:23:50.418Z"
   },
   {
    "duration": 5,
    "start_time": "2022-08-05T00:23:51.236Z"
   },
   {
    "duration": 12,
    "start_time": "2022-08-05T00:23:51.242Z"
   },
   {
    "duration": 6,
    "start_time": "2022-08-05T00:23:51.255Z"
   },
   {
    "duration": 6,
    "start_time": "2022-08-05T00:23:51.262Z"
   },
   {
    "duration": 34,
    "start_time": "2022-08-05T00:23:51.269Z"
   },
   {
    "duration": 7,
    "start_time": "2022-08-05T00:23:51.305Z"
   },
   {
    "duration": 47,
    "start_time": "2022-08-05T00:23:51.313Z"
   },
   {
    "duration": 3,
    "start_time": "2022-08-05T00:23:51.362Z"
   },
   {
    "duration": 11,
    "start_time": "2022-08-05T00:23:51.366Z"
   },
   {
    "duration": 4,
    "start_time": "2022-08-05T00:23:51.378Z"
   },
   {
    "duration": 9,
    "start_time": "2022-08-05T00:23:51.383Z"
   },
   {
    "duration": 12,
    "start_time": "2022-08-05T00:23:51.394Z"
   },
   {
    "duration": 5,
    "start_time": "2022-08-05T00:23:51.407Z"
   },
   {
    "duration": 626,
    "start_time": "2022-08-05T00:23:51.413Z"
   },
   {
    "duration": 5,
    "start_time": "2022-08-05T00:23:52.043Z"
   },
   {
    "duration": 716,
    "start_time": "2022-08-05T00:23:52.049Z"
   }
  ],
  "kernelspec": {
   "display_name": "Python 3 (ipykernel)",
   "language": "python",
   "name": "python3"
  },
  "language_info": {
   "codemirror_mode": {
    "name": "ipython",
    "version": 3
   },
   "file_extension": ".py",
   "mimetype": "text/x-python",
   "name": "python",
   "nbconvert_exporter": "python",
   "pygments_lexer": "ipython3",
   "version": "3.9.5"
  },
  "toc": {
   "base_numbering": 1,
   "nav_menu": {},
   "number_sections": true,
   "sideBar": true,
   "skip_h1_title": true,
   "title_cell": "Table of Contents",
   "title_sidebar": "Contents",
   "toc_cell": false,
   "toc_position": {
    "height": "441px",
    "left": "288px",
    "top": "152.136px",
    "width": "279px"
   },
   "toc_section_display": true,
   "toc_window_display": true
  },
  "vscode": {
   "interpreter": {
    "hash": "59738b4e2b7478d39069f7e235b17926983f7eff30b8eb58f86e2597f8c22fdc"
   }
  }
 },
 "nbformat": 4,
 "nbformat_minor": 2
}
